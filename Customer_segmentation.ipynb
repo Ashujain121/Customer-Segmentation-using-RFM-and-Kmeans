{
  "nbformat": 4,
  "nbformat_minor": 0,
  "metadata": {
    "colab": {
      "name": "Customer segmentation.ipynb",
      "provenance": [],
      "collapsed_sections": [],
      "authorship_tag": "ABX9TyNwaaqbEcjQV69U5GTQJszZ",
      "include_colab_link": true
    },
    "kernelspec": {
      "name": "python3",
      "display_name": "Python 3"
    }
  },
  "cells": [
    {
      "cell_type": "markdown",
      "metadata": {
        "id": "view-in-github",
        "colab_type": "text"
      },
      "source": [
        "<a href=\"https://colab.research.google.com/github/Ashujain121/Customer-Segmentation-using-RFM-and-Kmeans/blob/master/Customer_segmentation.ipynb\" target=\"_parent\"><img src=\"https://colab.research.google.com/assets/colab-badge.svg\" alt=\"Open In Colab\"/></a>"
      ]
    },
    {
      "cell_type": "code",
      "metadata": {
        "id": "ZY1maOujcZQQ",
        "colab_type": "code",
        "colab": {
          "base_uri": "https://localhost:8080/",
          "height": 70
        },
        "outputId": "cb2e6a35-41aa-46ef-82b8-a67a4424c399"
      },
      "source": [
        "import numpy as np\n",
        "import pandas as pd\n",
        "import matplotlib.pyplot as plt\n",
        "import seaborn as sns\n",
        "%matplotlib inline"
      ],
      "execution_count": 1,
      "outputs": [
        {
          "output_type": "stream",
          "text": [
            "/usr/local/lib/python3.6/dist-packages/statsmodels/tools/_testing.py:19: FutureWarning: pandas.util.testing is deprecated. Use the functions in the public API at pandas.testing instead.\n",
            "  import pandas.util.testing as tm\n"
          ],
          "name": "stderr"
        }
      ]
    },
    {
      "cell_type": "code",
      "metadata": {
        "id": "eAcMNlj21Soq",
        "colab_type": "code",
        "colab": {}
      },
      "source": [
        "df = pd.read_excel('/Online Retail.xlsx')"
      ],
      "execution_count": 3,
      "outputs": []
    },
    {
      "cell_type": "code",
      "metadata": {
        "id": "gc9vKS2-1dJc",
        "colab_type": "code",
        "colab": {
          "base_uri": "https://localhost:8080/",
          "height": 279
        },
        "outputId": "f62dbe58-1cd2-4312-f369-aa7beed4f85a"
      },
      "source": [
        "df.head()"
      ],
      "execution_count": 4,
      "outputs": [
        {
          "output_type": "execute_result",
          "data": {
            "text/html": [
              "<div>\n",
              "<style scoped>\n",
              "    .dataframe tbody tr th:only-of-type {\n",
              "        vertical-align: middle;\n",
              "    }\n",
              "\n",
              "    .dataframe tbody tr th {\n",
              "        vertical-align: top;\n",
              "    }\n",
              "\n",
              "    .dataframe thead th {\n",
              "        text-align: right;\n",
              "    }\n",
              "</style>\n",
              "<table border=\"1\" class=\"dataframe\">\n",
              "  <thead>\n",
              "    <tr style=\"text-align: right;\">\n",
              "      <th></th>\n",
              "      <th>InvoiceNo</th>\n",
              "      <th>StockCode</th>\n",
              "      <th>Description</th>\n",
              "      <th>Quantity</th>\n",
              "      <th>InvoiceDate</th>\n",
              "      <th>UnitPrice</th>\n",
              "      <th>CustomerID</th>\n",
              "      <th>Country</th>\n",
              "    </tr>\n",
              "  </thead>\n",
              "  <tbody>\n",
              "    <tr>\n",
              "      <th>0</th>\n",
              "      <td>536365</td>\n",
              "      <td>85123A</td>\n",
              "      <td>WHITE HANGING HEART T-LIGHT HOLDER</td>\n",
              "      <td>6</td>\n",
              "      <td>2010-12-01 08:26:00</td>\n",
              "      <td>2.55</td>\n",
              "      <td>17850.0</td>\n",
              "      <td>United Kingdom</td>\n",
              "    </tr>\n",
              "    <tr>\n",
              "      <th>1</th>\n",
              "      <td>536365</td>\n",
              "      <td>71053</td>\n",
              "      <td>WHITE METAL LANTERN</td>\n",
              "      <td>6</td>\n",
              "      <td>2010-12-01 08:26:00</td>\n",
              "      <td>3.39</td>\n",
              "      <td>17850.0</td>\n",
              "      <td>United Kingdom</td>\n",
              "    </tr>\n",
              "    <tr>\n",
              "      <th>2</th>\n",
              "      <td>536365</td>\n",
              "      <td>84406B</td>\n",
              "      <td>CREAM CUPID HEARTS COAT HANGER</td>\n",
              "      <td>8</td>\n",
              "      <td>2010-12-01 08:26:00</td>\n",
              "      <td>2.75</td>\n",
              "      <td>17850.0</td>\n",
              "      <td>United Kingdom</td>\n",
              "    </tr>\n",
              "    <tr>\n",
              "      <th>3</th>\n",
              "      <td>536365</td>\n",
              "      <td>84029G</td>\n",
              "      <td>KNITTED UNION FLAG HOT WATER BOTTLE</td>\n",
              "      <td>6</td>\n",
              "      <td>2010-12-01 08:26:00</td>\n",
              "      <td>3.39</td>\n",
              "      <td>17850.0</td>\n",
              "      <td>United Kingdom</td>\n",
              "    </tr>\n",
              "    <tr>\n",
              "      <th>4</th>\n",
              "      <td>536365</td>\n",
              "      <td>84029E</td>\n",
              "      <td>RED WOOLLY HOTTIE WHITE HEART.</td>\n",
              "      <td>6</td>\n",
              "      <td>2010-12-01 08:26:00</td>\n",
              "      <td>3.39</td>\n",
              "      <td>17850.0</td>\n",
              "      <td>United Kingdom</td>\n",
              "    </tr>\n",
              "  </tbody>\n",
              "</table>\n",
              "</div>"
            ],
            "text/plain": [
              "  InvoiceNo StockCode  ... CustomerID         Country\n",
              "0    536365    85123A  ...    17850.0  United Kingdom\n",
              "1    536365     71053  ...    17850.0  United Kingdom\n",
              "2    536365    84406B  ...    17850.0  United Kingdom\n",
              "3    536365    84029G  ...    17850.0  United Kingdom\n",
              "4    536365    84029E  ...    17850.0  United Kingdom\n",
              "\n",
              "[5 rows x 8 columns]"
            ]
          },
          "metadata": {
            "tags": []
          },
          "execution_count": 4
        }
      ]
    },
    {
      "cell_type": "code",
      "metadata": {
        "id": "8nbr6Gosl_Mv",
        "colab_type": "code",
        "colab": {}
      },
      "source": [
        "### remove the duplicates of the customerid and country columns taken as a whole then group the data\n",
        "### acc to the country and then take the aggregate ###\n",
        "\n",
        "country_cust_data = df[['Country', 'CustomerID']].drop_duplicates()\n"
      ],
      "execution_count": 5,
      "outputs": []
    },
    {
      "cell_type": "code",
      "metadata": {
        "id": "dk5GLbtzo_ta",
        "colab_type": "code",
        "colab": {
          "base_uri": "https://localhost:8080/",
          "height": 1000
        },
        "outputId": "f14c17b3-a572-476a-ac63-af478c52d7c5"
      },
      "source": [
        "country_cust_data = country_cust_data.groupby(['Country'])['CustomerID'].agg('count').reset_index().sort_values('CustomerID', ascending = False)\n",
        "\n",
        "country_cust_data"
      ],
      "execution_count": 6,
      "outputs": [
        {
          "output_type": "execute_result",
          "data": {
            "text/html": [
              "<div>\n",
              "<style scoped>\n",
              "    .dataframe tbody tr th:only-of-type {\n",
              "        vertical-align: middle;\n",
              "    }\n",
              "\n",
              "    .dataframe tbody tr th {\n",
              "        vertical-align: top;\n",
              "    }\n",
              "\n",
              "    .dataframe thead th {\n",
              "        text-align: right;\n",
              "    }\n",
              "</style>\n",
              "<table border=\"1\" class=\"dataframe\">\n",
              "  <thead>\n",
              "    <tr style=\"text-align: right;\">\n",
              "      <th></th>\n",
              "      <th>Country</th>\n",
              "      <th>CustomerID</th>\n",
              "    </tr>\n",
              "  </thead>\n",
              "  <tbody>\n",
              "    <tr>\n",
              "      <th>36</th>\n",
              "      <td>United Kingdom</td>\n",
              "      <td>3950</td>\n",
              "    </tr>\n",
              "    <tr>\n",
              "      <th>14</th>\n",
              "      <td>Germany</td>\n",
              "      <td>95</td>\n",
              "    </tr>\n",
              "    <tr>\n",
              "      <th>13</th>\n",
              "      <td>France</td>\n",
              "      <td>87</td>\n",
              "    </tr>\n",
              "    <tr>\n",
              "      <th>31</th>\n",
              "      <td>Spain</td>\n",
              "      <td>31</td>\n",
              "    </tr>\n",
              "    <tr>\n",
              "      <th>3</th>\n",
              "      <td>Belgium</td>\n",
              "      <td>25</td>\n",
              "    </tr>\n",
              "    <tr>\n",
              "      <th>33</th>\n",
              "      <td>Switzerland</td>\n",
              "      <td>21</td>\n",
              "    </tr>\n",
              "    <tr>\n",
              "      <th>27</th>\n",
              "      <td>Portugal</td>\n",
              "      <td>19</td>\n",
              "    </tr>\n",
              "    <tr>\n",
              "      <th>19</th>\n",
              "      <td>Italy</td>\n",
              "      <td>15</td>\n",
              "    </tr>\n",
              "    <tr>\n",
              "      <th>12</th>\n",
              "      <td>Finland</td>\n",
              "      <td>12</td>\n",
              "    </tr>\n",
              "    <tr>\n",
              "      <th>1</th>\n",
              "      <td>Austria</td>\n",
              "      <td>11</td>\n",
              "    </tr>\n",
              "    <tr>\n",
              "      <th>25</th>\n",
              "      <td>Norway</td>\n",
              "      <td>10</td>\n",
              "    </tr>\n",
              "    <tr>\n",
              "      <th>24</th>\n",
              "      <td>Netherlands</td>\n",
              "      <td>9</td>\n",
              "    </tr>\n",
              "    <tr>\n",
              "      <th>0</th>\n",
              "      <td>Australia</td>\n",
              "      <td>9</td>\n",
              "    </tr>\n",
              "    <tr>\n",
              "      <th>6</th>\n",
              "      <td>Channel Islands</td>\n",
              "      <td>9</td>\n",
              "    </tr>\n",
              "    <tr>\n",
              "      <th>9</th>\n",
              "      <td>Denmark</td>\n",
              "      <td>9</td>\n",
              "    </tr>\n",
              "    <tr>\n",
              "      <th>7</th>\n",
              "      <td>Cyprus</td>\n",
              "      <td>8</td>\n",
              "    </tr>\n",
              "    <tr>\n",
              "      <th>32</th>\n",
              "      <td>Sweden</td>\n",
              "      <td>8</td>\n",
              "    </tr>\n",
              "    <tr>\n",
              "      <th>20</th>\n",
              "      <td>Japan</td>\n",
              "      <td>8</td>\n",
              "    </tr>\n",
              "    <tr>\n",
              "      <th>26</th>\n",
              "      <td>Poland</td>\n",
              "      <td>6</td>\n",
              "    </tr>\n",
              "    <tr>\n",
              "      <th>34</th>\n",
              "      <td>USA</td>\n",
              "      <td>4</td>\n",
              "    </tr>\n",
              "    <tr>\n",
              "      <th>5</th>\n",
              "      <td>Canada</td>\n",
              "      <td>4</td>\n",
              "    </tr>\n",
              "    <tr>\n",
              "      <th>37</th>\n",
              "      <td>Unspecified</td>\n",
              "      <td>4</td>\n",
              "    </tr>\n",
              "    <tr>\n",
              "      <th>18</th>\n",
              "      <td>Israel</td>\n",
              "      <td>4</td>\n",
              "    </tr>\n",
              "    <tr>\n",
              "      <th>15</th>\n",
              "      <td>Greece</td>\n",
              "      <td>4</td>\n",
              "    </tr>\n",
              "    <tr>\n",
              "      <th>10</th>\n",
              "      <td>EIRE</td>\n",
              "      <td>3</td>\n",
              "    </tr>\n",
              "    <tr>\n",
              "      <th>23</th>\n",
              "      <td>Malta</td>\n",
              "      <td>2</td>\n",
              "    </tr>\n",
              "    <tr>\n",
              "      <th>35</th>\n",
              "      <td>United Arab Emirates</td>\n",
              "      <td>2</td>\n",
              "    </tr>\n",
              "    <tr>\n",
              "      <th>2</th>\n",
              "      <td>Bahrain</td>\n",
              "      <td>2</td>\n",
              "    </tr>\n",
              "    <tr>\n",
              "      <th>22</th>\n",
              "      <td>Lithuania</td>\n",
              "      <td>1</td>\n",
              "    </tr>\n",
              "    <tr>\n",
              "      <th>8</th>\n",
              "      <td>Czech Republic</td>\n",
              "      <td>1</td>\n",
              "    </tr>\n",
              "    <tr>\n",
              "      <th>21</th>\n",
              "      <td>Lebanon</td>\n",
              "      <td>1</td>\n",
              "    </tr>\n",
              "    <tr>\n",
              "      <th>28</th>\n",
              "      <td>RSA</td>\n",
              "      <td>1</td>\n",
              "    </tr>\n",
              "    <tr>\n",
              "      <th>29</th>\n",
              "      <td>Saudi Arabia</td>\n",
              "      <td>1</td>\n",
              "    </tr>\n",
              "    <tr>\n",
              "      <th>30</th>\n",
              "      <td>Singapore</td>\n",
              "      <td>1</td>\n",
              "    </tr>\n",
              "    <tr>\n",
              "      <th>17</th>\n",
              "      <td>Iceland</td>\n",
              "      <td>1</td>\n",
              "    </tr>\n",
              "    <tr>\n",
              "      <th>4</th>\n",
              "      <td>Brazil</td>\n",
              "      <td>1</td>\n",
              "    </tr>\n",
              "    <tr>\n",
              "      <th>11</th>\n",
              "      <td>European Community</td>\n",
              "      <td>1</td>\n",
              "    </tr>\n",
              "    <tr>\n",
              "      <th>16</th>\n",
              "      <td>Hong Kong</td>\n",
              "      <td>0</td>\n",
              "    </tr>\n",
              "  </tbody>\n",
              "</table>\n",
              "</div>"
            ],
            "text/plain": [
              "                 Country  CustomerID\n",
              "36        United Kingdom        3950\n",
              "14               Germany          95\n",
              "13                France          87\n",
              "31                 Spain          31\n",
              "3                Belgium          25\n",
              "33           Switzerland          21\n",
              "27              Portugal          19\n",
              "19                 Italy          15\n",
              "12               Finland          12\n",
              "1                Austria          11\n",
              "25                Norway          10\n",
              "24           Netherlands           9\n",
              "0              Australia           9\n",
              "6        Channel Islands           9\n",
              "9                Denmark           9\n",
              "7                 Cyprus           8\n",
              "32                Sweden           8\n",
              "20                 Japan           8\n",
              "26                Poland           6\n",
              "34                   USA           4\n",
              "5                 Canada           4\n",
              "37           Unspecified           4\n",
              "18                Israel           4\n",
              "15                Greece           4\n",
              "10                  EIRE           3\n",
              "23                 Malta           2\n",
              "35  United Arab Emirates           2\n",
              "2                Bahrain           2\n",
              "22             Lithuania           1\n",
              "8         Czech Republic           1\n",
              "21               Lebanon           1\n",
              "28                   RSA           1\n",
              "29          Saudi Arabia           1\n",
              "30             Singapore           1\n",
              "17               Iceland           1\n",
              "4                 Brazil           1\n",
              "11    European Community           1\n",
              "16             Hong Kong           0"
            ]
          },
          "metadata": {
            "tags": []
          },
          "execution_count": 6
        }
      ]
    },
    {
      "cell_type": "code",
      "metadata": {
        "id": "-6XPCsuG48sk",
        "colab_type": "code",
        "colab": {
          "base_uri": "https://localhost:8080/",
          "height": 284
        },
        "outputId": "74d5b9ed-1929-4add-fa0a-205e88167286"
      },
      "source": [
        "\n",
        "splot = sns.barplot(x=country_cust_data['Country'], y = country_cust_data['CustomerID'], palette = 'bright')\n",
        "\n",
        "for p in splot.patches:\n",
        "  \n",
        "  splot.annotate(format(p.get_height(), '.2f'), (p.get_x() + p.get_width() / 2., p.get_height()), ha = 'center', va = 'center', xytext = (0, 10), textcoords = 'offset points') \n"
      ],
      "execution_count": 7,
      "outputs": [
        {
          "output_type": "display_data",
          "data": {
            "image/png": "[encoded data removed]",
            "text/plain": [
              "<Figure size 432x288 with 1 Axes>"
            ]
          },
          "metadata": {
            "tags": [],
            "needs_background": "light"
          }
        }
      ]
    },
    {
      "cell_type": "code",
      "metadata": {
        "id": "pJPJPeEB644o",
        "colab_type": "code",
        "colab": {}
      },
      "source": [
        "## Keep only United Kingdom data\n",
        "\n",
        "df = df.query(\"Country == 'United Kingdom'\")"
      ],
      "execution_count": 8,
      "outputs": []
    },
    {
      "cell_type": "code",
      "metadata": {
        "id": "yjmPavSVE2gL",
        "colab_type": "code",
        "colab": {
          "base_uri": "https://localhost:8080/",
          "height": 168
        },
        "outputId": "1f4f46af-a4f1-49dd-86a9-537467761801"
      },
      "source": [
        "## Check the missing values\n",
        "df.isnull().sum(axis=0)"
      ],
      "execution_count": 9,
      "outputs": [
        {
          "output_type": "execute_result",
          "data": {
            "text/plain": [
              "InvoiceNo           0\n",
              "StockCode           0\n",
              "Description      1454\n",
              "Quantity            0\n",
              "InvoiceDate         0\n",
              "UnitPrice           0\n",
              "CustomerID     133600\n",
              "Country             0\n",
              "dtype: int64"
            ]
          },
          "metadata": {
            "tags": []
          },
          "execution_count": 9
        }
      ]
    },
    {
      "cell_type": "code",
      "metadata": {
        "id": "q9jmBZyCFWlJ",
        "colab_type": "code",
        "colab": {
          "base_uri": "https://localhost:8080/",
          "height": 279
        },
        "outputId": "80adedf8-b873-4fc4-ed3d-a69c5dfac463"
      },
      "source": [
        "df = df[pd.notnull(df['CustomerID'])]\n",
        "df.head()"
      ],
      "execution_count": 10,
      "outputs": [
        {
          "output_type": "execute_result",
          "data": {
            "text/html": [
              "<div>\n",
              "<style scoped>\n",
              "    .dataframe tbody tr th:only-of-type {\n",
              "        vertical-align: middle;\n",
              "    }\n",
              "\n",
              "    .dataframe tbody tr th {\n",
              "        vertical-align: top;\n",
              "    }\n",
              "\n",
              "    .dataframe thead th {\n",
              "        text-align: right;\n",
              "    }\n",
              "</style>\n",
              "<table border=\"1\" class=\"dataframe\">\n",
              "  <thead>\n",
              "    <tr style=\"text-align: right;\">\n",
              "      <th></th>\n",
              "      <th>InvoiceNo</th>\n",
              "      <th>StockCode</th>\n",
              "      <th>Description</th>\n",
              "      <th>Quantity</th>\n",
              "      <th>InvoiceDate</th>\n",
              "      <th>UnitPrice</th>\n",
              "      <th>CustomerID</th>\n",
              "      <th>Country</th>\n",
              "    </tr>\n",
              "  </thead>\n",
              "  <tbody>\n",
              "    <tr>\n",
              "      <th>0</th>\n",
              "      <td>536365</td>\n",
              "      <td>85123A</td>\n",
              "      <td>WHITE HANGING HEART T-LIGHT HOLDER</td>\n",
              "      <td>6</td>\n",
              "      <td>2010-12-01 08:26:00</td>\n",
              "      <td>2.55</td>\n",
              "      <td>17850.0</td>\n",
              "      <td>United Kingdom</td>\n",
              "    </tr>\n",
              "    <tr>\n",
              "      <th>1</th>\n",
              "      <td>536365</td>\n",
              "      <td>71053</td>\n",
              "      <td>WHITE METAL LANTERN</td>\n",
              "      <td>6</td>\n",
              "      <td>2010-12-01 08:26:00</td>\n",
              "      <td>3.39</td>\n",
              "      <td>17850.0</td>\n",
              "      <td>United Kingdom</td>\n",
              "    </tr>\n",
              "    <tr>\n",
              "      <th>2</th>\n",
              "      <td>536365</td>\n",
              "      <td>84406B</td>\n",
              "      <td>CREAM CUPID HEARTS COAT HANGER</td>\n",
              "      <td>8</td>\n",
              "      <td>2010-12-01 08:26:00</td>\n",
              "      <td>2.75</td>\n",
              "      <td>17850.0</td>\n",
              "      <td>United Kingdom</td>\n",
              "    </tr>\n",
              "    <tr>\n",
              "      <th>3</th>\n",
              "      <td>536365</td>\n",
              "      <td>84029G</td>\n",
              "      <td>KNITTED UNION FLAG HOT WATER BOTTLE</td>\n",
              "      <td>6</td>\n",
              "      <td>2010-12-01 08:26:00</td>\n",
              "      <td>3.39</td>\n",
              "      <td>17850.0</td>\n",
              "      <td>United Kingdom</td>\n",
              "    </tr>\n",
              "    <tr>\n",
              "      <th>4</th>\n",
              "      <td>536365</td>\n",
              "      <td>84029E</td>\n",
              "      <td>RED WOOLLY HOTTIE WHITE HEART.</td>\n",
              "      <td>6</td>\n",
              "      <td>2010-12-01 08:26:00</td>\n",
              "      <td>3.39</td>\n",
              "      <td>17850.0</td>\n",
              "      <td>United Kingdom</td>\n",
              "    </tr>\n",
              "  </tbody>\n",
              "</table>\n",
              "</div>"
            ],
            "text/plain": [
              "  InvoiceNo StockCode  ... CustomerID         Country\n",
              "0    536365    85123A  ...    17850.0  United Kingdom\n",
              "1    536365     71053  ...    17850.0  United Kingdom\n",
              "2    536365    84406B  ...    17850.0  United Kingdom\n",
              "3    536365    84029G  ...    17850.0  United Kingdom\n",
              "4    536365    84029E  ...    17850.0  United Kingdom\n",
              "\n",
              "[5 rows x 8 columns]"
            ]
          },
          "metadata": {
            "tags": []
          },
          "execution_count": 10
        }
      ]
    },
    {
      "cell_type": "code",
      "metadata": {
        "id": "t-v1IsXpLezU",
        "colab_type": "code",
        "colab": {
          "base_uri": "https://localhost:8080/",
          "height": 269
        },
        "outputId": "8e42d653-447b-41f8-98cb-abf42a6b63ba"
      },
      "source": [
        "df.info()"
      ],
      "execution_count": 11,
      "outputs": [
        {
          "output_type": "stream",
          "text": [
            "<class 'pandas.core.frame.DataFrame'>\n",
            "Int64Index: 361878 entries, 0 to 541893\n",
            "Data columns (total 8 columns):\n",
            " #   Column       Non-Null Count   Dtype         \n",
            "---  ------       --------------   -----         \n",
            " 0   InvoiceNo    361878 non-null  object        \n",
            " 1   StockCode    361878 non-null  object        \n",
            " 2   Description  361878 non-null  object        \n",
            " 3   Quantity     361878 non-null  int64         \n",
            " 4   InvoiceDate  361878 non-null  datetime64[ns]\n",
            " 5   UnitPrice    361878 non-null  float64       \n",
            " 6   CustomerID   361878 non-null  float64       \n",
            " 7   Country      361878 non-null  object        \n",
            "dtypes: datetime64[ns](1), float64(2), int64(1), object(4)\n",
            "memory usage: 24.8+ MB\n"
          ],
          "name": "stdout"
        }
      ]
    },
    {
      "cell_type": "code",
      "metadata": {
        "id": "h9xH3Q_mnhbC",
        "colab_type": "code",
        "colab": {
          "base_uri": "https://localhost:8080/",
          "height": 50
        },
        "outputId": "40e2fd93-1efb-451b-ab97-93e83f59fe4b"
      },
      "source": [
        "#Check the min. of quantity and unitpricecolumn\n",
        "print(df.Quantity.min())\n",
        "print(df.UnitPrice.min())\n"
      ],
      "execution_count": 12,
      "outputs": [
        {
          "output_type": "stream",
          "text": [
            "-80995\n",
            "0.0\n"
          ],
          "name": "stdout"
        }
      ]
    },
    {
      "cell_type": "code",
      "metadata": {
        "id": "1AJvZRCqoI_n",
        "colab_type": "code",
        "colab": {}
      },
      "source": [
        "# Filtering out the non-negative values in the Quantity column.\n",
        "df = df[df.Quantity > 0]"
      ],
      "execution_count": 13,
      "outputs": []
    },
    {
      "cell_type": "code",
      "metadata": {
        "id": "J0suSjXhrPEP",
        "colab_type": "code",
        "colab": {}
      },
      "source": [
        "df['TotalCost'] = df.Quantity*df.UnitPrice"
      ],
      "execution_count": 14,
      "outputs": []
    },
    {
      "cell_type": "code",
      "metadata": {
        "id": "KFjPqZTQrZkh",
        "colab_type": "code",
        "colab": {
          "base_uri": "https://localhost:8080/",
          "height": 1000
        },
        "outputId": "4aa1bbcb-f0d9-444f-dd0b-a32c3f87052d"
      },
      "source": [
        "df.head(15)"
      ],
      "execution_count": 15,
      "outputs": [
        {
          "output_type": "execute_result",
          "data": {
            "text/html": [
              "<div>\n",
              "<style scoped>\n",
              "    .dataframe tbody tr th:only-of-type {\n",
              "        vertical-align: middle;\n",
              "    }\n",
              "\n",
              "    .dataframe tbody tr th {\n",
              "        vertical-align: top;\n",
              "    }\n",
              "\n",
              "    .dataframe thead th {\n",
              "        text-align: right;\n",
              "    }\n",
              "</style>\n",
              "<table border=\"1\" class=\"dataframe\">\n",
              "  <thead>\n",
              "    <tr style=\"text-align: right;\">\n",
              "      <th></th>\n",
              "      <th>InvoiceNo</th>\n",
              "      <th>StockCode</th>\n",
              "      <th>Description</th>\n",
              "      <th>Quantity</th>\n",
              "      <th>InvoiceDate</th>\n",
              "      <th>UnitPrice</th>\n",
              "      <th>CustomerID</th>\n",
              "      <th>Country</th>\n",
              "      <th>TotalCost</th>\n",
              "    </tr>\n",
              "  </thead>\n",
              "  <tbody>\n",
              "    <tr>\n",
              "      <th>0</th>\n",
              "      <td>536365</td>\n",
              "      <td>85123A</td>\n",
              "      <td>WHITE HANGING HEART T-LIGHT HOLDER</td>\n",
              "      <td>6</td>\n",
              "      <td>2010-12-01 08:26:00</td>\n",
              "      <td>2.55</td>\n",
              "      <td>17850.0</td>\n",
              "      <td>United Kingdom</td>\n",
              "      <td>15.30</td>\n",
              "    </tr>\n",
              "    <tr>\n",
              "      <th>1</th>\n",
              "      <td>536365</td>\n",
              "      <td>71053</td>\n",
              "      <td>WHITE METAL LANTERN</td>\n",
              "      <td>6</td>\n",
              "      <td>2010-12-01 08:26:00</td>\n",
              "      <td>3.39</td>\n",
              "      <td>17850.0</td>\n",
              "      <td>United Kingdom</td>\n",
              "      <td>20.34</td>\n",
              "    </tr>\n",
              "    <tr>\n",
              "      <th>2</th>\n",
              "      <td>536365</td>\n",
              "      <td>84406B</td>\n",
              "      <td>CREAM CUPID HEARTS COAT HANGER</td>\n",
              "      <td>8</td>\n",
              "      <td>2010-12-01 08:26:00</td>\n",
              "      <td>2.75</td>\n",
              "      <td>17850.0</td>\n",
              "      <td>United Kingdom</td>\n",
              "      <td>22.00</td>\n",
              "    </tr>\n",
              "    <tr>\n",
              "      <th>3</th>\n",
              "      <td>536365</td>\n",
              "      <td>84029G</td>\n",
              "      <td>KNITTED UNION FLAG HOT WATER BOTTLE</td>\n",
              "      <td>6</td>\n",
              "      <td>2010-12-01 08:26:00</td>\n",
              "      <td>3.39</td>\n",
              "      <td>17850.0</td>\n",
              "      <td>United Kingdom</td>\n",
              "      <td>20.34</td>\n",
              "    </tr>\n",
              "    <tr>\n",
              "      <th>4</th>\n",
              "      <td>536365</td>\n",
              "      <td>84029E</td>\n",
              "      <td>RED WOOLLY HOTTIE WHITE HEART.</td>\n",
              "      <td>6</td>\n",
              "      <td>2010-12-01 08:26:00</td>\n",
              "      <td>3.39</td>\n",
              "      <td>17850.0</td>\n",
              "      <td>United Kingdom</td>\n",
              "      <td>20.34</td>\n",
              "    </tr>\n",
              "    <tr>\n",
              "      <th>5</th>\n",
              "      <td>536365</td>\n",
              "      <td>22752</td>\n",
              "      <td>SET 7 BABUSHKA NESTING BOXES</td>\n",
              "      <td>2</td>\n",
              "      <td>2010-12-01 08:26:00</td>\n",
              "      <td>7.65</td>\n",
              "      <td>17850.0</td>\n",
              "      <td>United Kingdom</td>\n",
              "      <td>15.30</td>\n",
              "    </tr>\n",
              "    <tr>\n",
              "      <th>6</th>\n",
              "      <td>536365</td>\n",
              "      <td>21730</td>\n",
              "      <td>GLASS STAR FROSTED T-LIGHT HOLDER</td>\n",
              "      <td>6</td>\n",
              "      <td>2010-12-01 08:26:00</td>\n",
              "      <td>4.25</td>\n",
              "      <td>17850.0</td>\n",
              "      <td>United Kingdom</td>\n",
              "      <td>25.50</td>\n",
              "    </tr>\n",
              "    <tr>\n",
              "      <th>7</th>\n",
              "      <td>536366</td>\n",
              "      <td>22633</td>\n",
              "      <td>HAND WARMER UNION JACK</td>\n",
              "      <td>6</td>\n",
              "      <td>2010-12-01 08:28:00</td>\n",
              "      <td>1.85</td>\n",
              "      <td>17850.0</td>\n",
              "      <td>United Kingdom</td>\n",
              "      <td>11.10</td>\n",
              "    </tr>\n",
              "    <tr>\n",
              "      <th>8</th>\n",
              "      <td>536366</td>\n",
              "      <td>22632</td>\n",
              "      <td>HAND WARMER RED POLKA DOT</td>\n",
              "      <td>6</td>\n",
              "      <td>2010-12-01 08:28:00</td>\n",
              "      <td>1.85</td>\n",
              "      <td>17850.0</td>\n",
              "      <td>United Kingdom</td>\n",
              "      <td>11.10</td>\n",
              "    </tr>\n",
              "    <tr>\n",
              "      <th>9</th>\n",
              "      <td>536367</td>\n",
              "      <td>84879</td>\n",
              "      <td>ASSORTED COLOUR BIRD ORNAMENT</td>\n",
              "      <td>32</td>\n",
              "      <td>2010-12-01 08:34:00</td>\n",
              "      <td>1.69</td>\n",
              "      <td>13047.0</td>\n",
              "      <td>United Kingdom</td>\n",
              "      <td>54.08</td>\n",
              "    </tr>\n",
              "    <tr>\n",
              "      <th>10</th>\n",
              "      <td>536367</td>\n",
              "      <td>22745</td>\n",
              "      <td>POPPY'S PLAYHOUSE BEDROOM</td>\n",
              "      <td>6</td>\n",
              "      <td>2010-12-01 08:34:00</td>\n",
              "      <td>2.10</td>\n",
              "      <td>13047.0</td>\n",
              "      <td>United Kingdom</td>\n",
              "      <td>12.60</td>\n",
              "    </tr>\n",
              "    <tr>\n",
              "      <th>11</th>\n",
              "      <td>536367</td>\n",
              "      <td>22748</td>\n",
              "      <td>POPPY'S PLAYHOUSE KITCHEN</td>\n",
              "      <td>6</td>\n",
              "      <td>2010-12-01 08:34:00</td>\n",
              "      <td>2.10</td>\n",
              "      <td>13047.0</td>\n",
              "      <td>United Kingdom</td>\n",
              "      <td>12.60</td>\n",
              "    </tr>\n",
              "    <tr>\n",
              "      <th>12</th>\n",
              "      <td>536367</td>\n",
              "      <td>22749</td>\n",
              "      <td>FELTCRAFT PRINCESS CHARLOTTE DOLL</td>\n",
              "      <td>8</td>\n",
              "      <td>2010-12-01 08:34:00</td>\n",
              "      <td>3.75</td>\n",
              "      <td>13047.0</td>\n",
              "      <td>United Kingdom</td>\n",
              "      <td>30.00</td>\n",
              "    </tr>\n",
              "    <tr>\n",
              "      <th>13</th>\n",
              "      <td>536367</td>\n",
              "      <td>22310</td>\n",
              "      <td>IVORY KNITTED MUG COSY</td>\n",
              "      <td>6</td>\n",
              "      <td>2010-12-01 08:34:00</td>\n",
              "      <td>1.65</td>\n",
              "      <td>13047.0</td>\n",
              "      <td>United Kingdom</td>\n",
              "      <td>9.90</td>\n",
              "    </tr>\n",
              "    <tr>\n",
              "      <th>14</th>\n",
              "      <td>536367</td>\n",
              "      <td>84969</td>\n",
              "      <td>BOX OF 6 ASSORTED COLOUR TEASPOONS</td>\n",
              "      <td>6</td>\n",
              "      <td>2010-12-01 08:34:00</td>\n",
              "      <td>4.25</td>\n",
              "      <td>13047.0</td>\n",
              "      <td>United Kingdom</td>\n",
              "      <td>25.50</td>\n",
              "    </tr>\n",
              "  </tbody>\n",
              "</table>\n",
              "</div>"
            ],
            "text/plain": [
              "   InvoiceNo StockCode  ...         Country  TotalCost\n",
              "0     536365    85123A  ...  United Kingdom      15.30\n",
              "1     536365     71053  ...  United Kingdom      20.34\n",
              "2     536365    84406B  ...  United Kingdom      22.00\n",
              "3     536365    84029G  ...  United Kingdom      20.34\n",
              "4     536365    84029E  ...  United Kingdom      20.34\n",
              "5     536365     22752  ...  United Kingdom      15.30\n",
              "6     536365     21730  ...  United Kingdom      25.50\n",
              "7     536366     22633  ...  United Kingdom      11.10\n",
              "8     536366     22632  ...  United Kingdom      11.10\n",
              "9     536367     84879  ...  United Kingdom      54.08\n",
              "10    536367     22745  ...  United Kingdom      12.60\n",
              "11    536367     22748  ...  United Kingdom      12.60\n",
              "12    536367     22749  ...  United Kingdom      30.00\n",
              "13    536367     22310  ...  United Kingdom       9.90\n",
              "14    536367     84969  ...  United Kingdom      25.50\n",
              "\n",
              "[15 rows x 9 columns]"
            ]
          },
          "metadata": {
            "tags": []
          },
          "execution_count": 15
        }
      ]
    },
    {
      "cell_type": "code",
      "metadata": {
        "id": "XxBW5F5Srd2D",
        "colab_type": "code",
        "colab": {
          "base_uri": "https://localhost:8080/",
          "height": 34
        },
        "outputId": "74c77ce8-3663-4272-f870-212b9e8f89e3"
      },
      "source": [
        "print(df.shape)"
      ],
      "execution_count": 16,
      "outputs": [
        {
          "output_type": "stream",
          "text": [
            "(354345, 9)\n"
          ],
          "name": "stdout"
        }
      ]
    },
    {
      "cell_type": "code",
      "metadata": {
        "id": "uFQEStiyrwPU",
        "colab_type": "code",
        "colab": {},
        "cellView": "form"
      },
      "source": [
        "#@title RFM MODELLING"
      ],
      "execution_count": 17,
      "outputs": []
    },
    {
      "cell_type": "code",
      "metadata": {
        "id": "mxvHIPAbCSK0",
        "colab_type": "code",
        "colab": {
          "base_uri": "https://localhost:8080/",
          "height": 225
        },
        "outputId": "c4a6514c-2739-41c1-8a80-aef7c7cc2c3c"
      },
      "source": [
        "import datetime as dt\n",
        "latest_date = pd.to_datetime('2011-12-10', format='%Y-%m-%d')\n",
        "\n",
        "RFMscores = df.groupby('CustomerID').agg({'InvoiceDate':lambda x: (latest_date-x.max()).days, 'InvoiceNo':lambda x: len(x), 'TotalCost':lambda x: x.sum()})\n",
        "RFMscores.head()"
      ],
      "execution_count": 18,
      "outputs": [
        {
          "output_type": "execute_result",
          "data": {
            "text/html": [
              "<div>\n",
              "<style scoped>\n",
              "    .dataframe tbody tr th:only-of-type {\n",
              "        vertical-align: middle;\n",
              "    }\n",
              "\n",
              "    .dataframe tbody tr th {\n",
              "        vertical-align: top;\n",
              "    }\n",
              "\n",
              "    .dataframe thead th {\n",
              "        text-align: right;\n",
              "    }\n",
              "</style>\n",
              "<table border=\"1\" class=\"dataframe\">\n",
              "  <thead>\n",
              "    <tr style=\"text-align: right;\">\n",
              "      <th></th>\n",
              "      <th>InvoiceDate</th>\n",
              "      <th>InvoiceNo</th>\n",
              "      <th>TotalCost</th>\n",
              "    </tr>\n",
              "    <tr>\n",
              "      <th>CustomerID</th>\n",
              "      <th></th>\n",
              "      <th></th>\n",
              "      <th></th>\n",
              "    </tr>\n",
              "  </thead>\n",
              "  <tbody>\n",
              "    <tr>\n",
              "      <th>12346.0</th>\n",
              "      <td>325</td>\n",
              "      <td>1</td>\n",
              "      <td>77183.60</td>\n",
              "    </tr>\n",
              "    <tr>\n",
              "      <th>12747.0</th>\n",
              "      <td>2</td>\n",
              "      <td>103</td>\n",
              "      <td>4196.01</td>\n",
              "    </tr>\n",
              "    <tr>\n",
              "      <th>12748.0</th>\n",
              "      <td>0</td>\n",
              "      <td>4596</td>\n",
              "      <td>33719.73</td>\n",
              "    </tr>\n",
              "    <tr>\n",
              "      <th>12749.0</th>\n",
              "      <td>3</td>\n",
              "      <td>199</td>\n",
              "      <td>4090.88</td>\n",
              "    </tr>\n",
              "    <tr>\n",
              "      <th>12820.0</th>\n",
              "      <td>3</td>\n",
              "      <td>59</td>\n",
              "      <td>942.34</td>\n",
              "    </tr>\n",
              "  </tbody>\n",
              "</table>\n",
              "</div>"
            ],
            "text/plain": [
              "            InvoiceDate  InvoiceNo  TotalCost\n",
              "CustomerID                                   \n",
              "12346.0             325          1   77183.60\n",
              "12747.0               2        103    4196.01\n",
              "12748.0               0       4596   33719.73\n",
              "12749.0               3        199    4090.88\n",
              "12820.0               3         59     942.34"
            ]
          },
          "metadata": {
            "tags": []
          },
          "execution_count": 18
        }
      ]
    },
    {
      "cell_type": "code",
      "metadata": {
        "id": "XmSJeO2fcduB",
        "colab_type": "code",
        "colab": {
          "base_uri": "https://localhost:8080/",
          "height": 84
        },
        "outputId": "b4baf8bd-c6ef-4037-b425-9a243606b55b"
      },
      "source": [
        "RFMscores.dtypes"
      ],
      "execution_count": 19,
      "outputs": [
        {
          "output_type": "execute_result",
          "data": {
            "text/plain": [
              "InvoiceDate      int64\n",
              "InvoiceNo        int64\n",
              "TotalCost      float64\n",
              "dtype: object"
            ]
          },
          "metadata": {
            "tags": []
          },
          "execution_count": 19
        }
      ]
    },
    {
      "cell_type": "code",
      "metadata": {
        "id": "191YMLQrcsXU",
        "colab_type": "code",
        "colab": {
          "base_uri": "https://localhost:8080/",
          "height": 195
        },
        "outputId": "42401b29-7ed2-4206-8592-809559fdc20e"
      },
      "source": [
        "RFMscores=RFMscores.rename(columns = {'InvoiceDate':'Recency', 'InvoiceNo':'Frequency', 'TotalCost':'Monetary'})\n",
        "RFMscores.reset_index(inplace=True)\n",
        "RFMscores.head()\n"
      ],
      "execution_count": 20,
      "outputs": [
        {
          "output_type": "execute_result",
          "data": {
            "text/html": [
              "<div>\n",
              "<style scoped>\n",
              "    .dataframe tbody tr th:only-of-type {\n",
              "        vertical-align: middle;\n",
              "    }\n",
              "\n",
              "    .dataframe tbody tr th {\n",
              "        vertical-align: top;\n",
              "    }\n",
              "\n",
              "    .dataframe thead th {\n",
              "        text-align: right;\n",
              "    }\n",
              "</style>\n",
              "<table border=\"1\" class=\"dataframe\">\n",
              "  <thead>\n",
              "    <tr style=\"text-align: right;\">\n",
              "      <th></th>\n",
              "      <th>CustomerID</th>\n",
              "      <th>Recency</th>\n",
              "      <th>Frequency</th>\n",
              "      <th>Monetary</th>\n",
              "    </tr>\n",
              "  </thead>\n",
              "  <tbody>\n",
              "    <tr>\n",
              "      <th>0</th>\n",
              "      <td>12346.0</td>\n",
              "      <td>325</td>\n",
              "      <td>1</td>\n",
              "      <td>77183.60</td>\n",
              "    </tr>\n",
              "    <tr>\n",
              "      <th>1</th>\n",
              "      <td>12747.0</td>\n",
              "      <td>2</td>\n",
              "      <td>103</td>\n",
              "      <td>4196.01</td>\n",
              "    </tr>\n",
              "    <tr>\n",
              "      <th>2</th>\n",
              "      <td>12748.0</td>\n",
              "      <td>0</td>\n",
              "      <td>4596</td>\n",
              "      <td>33719.73</td>\n",
              "    </tr>\n",
              "    <tr>\n",
              "      <th>3</th>\n",
              "      <td>12749.0</td>\n",
              "      <td>3</td>\n",
              "      <td>199</td>\n",
              "      <td>4090.88</td>\n",
              "    </tr>\n",
              "    <tr>\n",
              "      <th>4</th>\n",
              "      <td>12820.0</td>\n",
              "      <td>3</td>\n",
              "      <td>59</td>\n",
              "      <td>942.34</td>\n",
              "    </tr>\n",
              "  </tbody>\n",
              "</table>\n",
              "</div>"
            ],
            "text/plain": [
              "   CustomerID  Recency  Frequency  Monetary\n",
              "0     12346.0      325          1  77183.60\n",
              "1     12747.0        2        103   4196.01\n",
              "2     12748.0        0       4596  33719.73\n",
              "3     12749.0        3        199   4090.88\n",
              "4     12820.0        3         59    942.34"
            ]
          },
          "metadata": {
            "tags": []
          },
          "execution_count": 20
        }
      ]
    },
    {
      "cell_type": "code",
      "metadata": {
        "id": "_5et3fyXc1np",
        "colab_type": "code",
        "colab": {
          "base_uri": "https://localhost:8080/",
          "height": 296
        },
        "cellView": "both",
        "outputId": "47acd036-c2d9-495d-add7-6814a2709fb9"
      },
      "source": [
        "#@title Recency visualization\n",
        "\n",
        "sns.distplot(RFMscores.Recency)"
      ],
      "execution_count": 21,
      "outputs": [
        {
          "output_type": "execute_result",
          "data": {
            "text/plain": [
              "<matplotlib.axes._subplots.AxesSubplot at 0x7f9d729373c8>"
            ]
          },
          "metadata": {
            "tags": []
          },
          "execution_count": 21
        },
        {
          "output_type": "display_data",
          "data": {
            "image/png": "[encoded data removed]",
            "text/plain": [
              "<Figure size 432x288 with 1 Axes>"
            ]
          },
          "metadata": {
            "tags": [],
            "needs_background": "light"
          }
        }
      ]
    },
    {
      "cell_type": "code",
      "metadata": {
        "id": "w_E0TTv8gfn8",
        "colab_type": "code",
        "colab": {
          "base_uri": "https://localhost:8080/",
          "height": 296
        },
        "outputId": "b24a9b08-5af8-4af7-c612-0aa23f9254c2"
      },
      "source": [
        "#@title Frequency score less than 1000\n",
        "f = RFMscores.loc[(RFMscores.Frequency<1000),'Frequency']\n",
        "sns.distplot(f)"
      ],
      "execution_count": 22,
      "outputs": [
        {
          "output_type": "execute_result",
          "data": {
            "text/plain": [
              "<matplotlib.axes._subplots.AxesSubplot at 0x7f9d71a8ef98>"
            ]
          },
          "metadata": {
            "tags": []
          },
          "execution_count": 22
        },
        {
          "output_type": "display_data",
          "data": {
            "image/png": "[encoded data removed]",
            "text/plain": [
              "<Figure size 432x288 with 1 Axes>"
            ]
          },
          "metadata": {
            "tags": [],
            "needs_background": "light"
          }
        }
      ]
    },
    {
      "cell_type": "code",
      "metadata": {
        "id": "6ilP_ReZjzco",
        "colab_type": "code",
        "colab": {
          "base_uri": "https://localhost:8080/",
          "height": 136
        },
        "outputId": "2f23dd96-9c88-46c7-f1e4-49d196437489"
      },
      "source": [
        "quantiles = RFMscores.quantile(q=[0.25,0.5,0.75])\n",
        "quantiles.head()"
      ],
      "execution_count": 23,
      "outputs": [
        {
          "output_type": "execute_result",
          "data": {
            "text/html": [
              "<div>\n",
              "<style scoped>\n",
              "    .dataframe tbody tr th:only-of-type {\n",
              "        vertical-align: middle;\n",
              "    }\n",
              "\n",
              "    .dataframe tbody tr th {\n",
              "        vertical-align: top;\n",
              "    }\n",
              "\n",
              "    .dataframe thead th {\n",
              "        text-align: right;\n",
              "    }\n",
              "</style>\n",
              "<table border=\"1\" class=\"dataframe\">\n",
              "  <thead>\n",
              "    <tr style=\"text-align: right;\">\n",
              "      <th></th>\n",
              "      <th>CustomerID</th>\n",
              "      <th>Recency</th>\n",
              "      <th>Frequency</th>\n",
              "      <th>Monetary</th>\n",
              "    </tr>\n",
              "  </thead>\n",
              "  <tbody>\n",
              "    <tr>\n",
              "      <th>0.25</th>\n",
              "      <td>14208.0</td>\n",
              "      <td>17.0</td>\n",
              "      <td>17.0</td>\n",
              "      <td>300.04</td>\n",
              "    </tr>\n",
              "    <tr>\n",
              "      <th>0.50</th>\n",
              "      <td>15569.0</td>\n",
              "      <td>50.0</td>\n",
              "      <td>41.0</td>\n",
              "      <td>651.82</td>\n",
              "    </tr>\n",
              "    <tr>\n",
              "      <th>0.75</th>\n",
              "      <td>16913.0</td>\n",
              "      <td>142.0</td>\n",
              "      <td>99.0</td>\n",
              "      <td>1575.89</td>\n",
              "    </tr>\n",
              "  </tbody>\n",
              "</table>\n",
              "</div>"
            ],
            "text/plain": [
              "      CustomerID  Recency  Frequency  Monetary\n",
              "0.25     14208.0     17.0       17.0    300.04\n",
              "0.50     15569.0     50.0       41.0    651.82\n",
              "0.75     16913.0    142.0       99.0   1575.89"
            ]
          },
          "metadata": {
            "tags": []
          },
          "execution_count": 23
        }
      ]
    },
    {
      "cell_type": "code",
      "metadata": {
        "id": "bqjQMf2-8RjE",
        "colab_type": "code",
        "colab": {}
      },
      "source": [
        "def RScoring(x,p,d):\n",
        "  if x<=p.loc[0.25,d]:\n",
        "    return 1\n",
        "  elif x<=p.loc[0.5,d]:\n",
        "    return 2\n",
        "  elif x<=p.loc[0.75,d]:\n",
        "    return 3\n",
        "  else:\n",
        "    return 4\n",
        "\n",
        "def FnMScoring(x,p,d):\n",
        "  if x<=p.loc[0.25,d]:\n",
        "    return 4\n",
        "  elif x<=p.loc[0.5,d]:\n",
        "    return 3\n",
        "  elif x<=p.loc[0.75,d]:\n",
        "    return 2\n",
        "  else:\n",
        "    return 1\n"
      ],
      "execution_count": 24,
      "outputs": []
    },
    {
      "cell_type": "code",
      "metadata": {
        "id": "xDeN0POOtEdJ",
        "colab_type": "code",
        "colab": {}
      },
      "source": [
        "RFMscores['R'] = RFMscores['Recency'].apply(RScoring, args =[quantiles,'Recency'] )\n",
        "RFMscores['F'] = RFMscores['Frequency'].apply(FnMScoring, args =[quantiles,'Frequency'] )\n",
        "RFMscores['M'] = RFMscores['Monetary'].apply(FnMScoring, args =[quantiles,'Monetary'] )"
      ],
      "execution_count": 25,
      "outputs": []
    },
    {
      "cell_type": "code",
      "metadata": {
        "id": "_tvSAt_d0zEl",
        "colab_type": "code",
        "colab": {
          "base_uri": "https://localhost:8080/",
          "height": 195
        },
        "outputId": "001ba83b-635d-4680-9443-1d9cf984fa1f"
      },
      "source": [
        "RFMscores.head()"
      ],
      "execution_count": 26,
      "outputs": [
        {
          "output_type": "execute_result",
          "data": {
            "text/html": [
              "<div>\n",
              "<style scoped>\n",
              "    .dataframe tbody tr th:only-of-type {\n",
              "        vertical-align: middle;\n",
              "    }\n",
              "\n",
              "    .dataframe tbody tr th {\n",
              "        vertical-align: top;\n",
              "    }\n",
              "\n",
              "    .dataframe thead th {\n",
              "        text-align: right;\n",
              "    }\n",
              "</style>\n",
              "<table border=\"1\" class=\"dataframe\">\n",
              "  <thead>\n",
              "    <tr style=\"text-align: right;\">\n",
              "      <th></th>\n",
              "      <th>CustomerID</th>\n",
              "      <th>Recency</th>\n",
              "      <th>Frequency</th>\n",
              "      <th>Monetary</th>\n",
              "      <th>R</th>\n",
              "      <th>F</th>\n",
              "      <th>M</th>\n",
              "    </tr>\n",
              "  </thead>\n",
              "  <tbody>\n",
              "    <tr>\n",
              "      <th>0</th>\n",
              "      <td>12346.0</td>\n",
              "      <td>325</td>\n",
              "      <td>1</td>\n",
              "      <td>77183.60</td>\n",
              "      <td>4</td>\n",
              "      <td>4</td>\n",
              "      <td>1</td>\n",
              "    </tr>\n",
              "    <tr>\n",
              "      <th>1</th>\n",
              "      <td>12747.0</td>\n",
              "      <td>2</td>\n",
              "      <td>103</td>\n",
              "      <td>4196.01</td>\n",
              "      <td>1</td>\n",
              "      <td>1</td>\n",
              "      <td>1</td>\n",
              "    </tr>\n",
              "    <tr>\n",
              "      <th>2</th>\n",
              "      <td>12748.0</td>\n",
              "      <td>0</td>\n",
              "      <td>4596</td>\n",
              "      <td>33719.73</td>\n",
              "      <td>1</td>\n",
              "      <td>1</td>\n",
              "      <td>1</td>\n",
              "    </tr>\n",
              "    <tr>\n",
              "      <th>3</th>\n",
              "      <td>12749.0</td>\n",
              "      <td>3</td>\n",
              "      <td>199</td>\n",
              "      <td>4090.88</td>\n",
              "      <td>1</td>\n",
              "      <td>1</td>\n",
              "      <td>1</td>\n",
              "    </tr>\n",
              "    <tr>\n",
              "      <th>4</th>\n",
              "      <td>12820.0</td>\n",
              "      <td>3</td>\n",
              "      <td>59</td>\n",
              "      <td>942.34</td>\n",
              "      <td>1</td>\n",
              "      <td>2</td>\n",
              "      <td>2</td>\n",
              "    </tr>\n",
              "  </tbody>\n",
              "</table>\n",
              "</div>"
            ],
            "text/plain": [
              "   CustomerID  Recency  Frequency  Monetary  R  F  M\n",
              "0     12346.0      325          1  77183.60  4  4  1\n",
              "1     12747.0        2        103   4196.01  1  1  1\n",
              "2     12748.0        0       4596  33719.73  1  1  1\n",
              "3     12749.0        3        199   4090.88  1  1  1\n",
              "4     12820.0        3         59    942.34  1  2  2"
            ]
          },
          "metadata": {
            "tags": []
          },
          "execution_count": 26
        }
      ]
    },
    {
      "cell_type": "code",
      "metadata": {
        "id": "-xQX0XQr4jQy",
        "colab_type": "code",
        "colab": {}
      },
      "source": [
        "## Add RFMgroup & RFMscore column to modify the dataset.\n",
        "\n",
        "for i in range(RFMscores.shape[0]):\n",
        "  RFMscores.loc[i,'RFMgroup'] = str(RFMscores.R[i])+str(RFMscores.F[i])+str(RFMscores.M[i])  \n",
        "\n",
        "RFMscores['RFMscore'] = RFMscores.R + RFMscores.F + RFMscores.M"
      ],
      "execution_count": 27,
      "outputs": []
    },
    {
      "cell_type": "code",
      "metadata": {
        "id": "v92_HRwe_yFH",
        "colab_type": "code",
        "colab": {
          "base_uri": "https://localhost:8080/",
          "height": 195
        },
        "outputId": "71cd4c6c-85d4-43d7-fe2f-e07ed7b68cd0"
      },
      "source": [
        "RFMscores.head()"
      ],
      "execution_count": 28,
      "outputs": [
        {
          "output_type": "execute_result",
          "data": {
            "text/html": [
              "<div>\n",
              "<style scoped>\n",
              "    .dataframe tbody tr th:only-of-type {\n",
              "        vertical-align: middle;\n",
              "    }\n",
              "\n",
              "    .dataframe tbody tr th {\n",
              "        vertical-align: top;\n",
              "    }\n",
              "\n",
              "    .dataframe thead th {\n",
              "        text-align: right;\n",
              "    }\n",
              "</style>\n",
              "<table border=\"1\" class=\"dataframe\">\n",
              "  <thead>\n",
              "    <tr style=\"text-align: right;\">\n",
              "      <th></th>\n",
              "      <th>CustomerID</th>\n",
              "      <th>Recency</th>\n",
              "      <th>Frequency</th>\n",
              "      <th>Monetary</th>\n",
              "      <th>R</th>\n",
              "      <th>F</th>\n",
              "      <th>M</th>\n",
              "      <th>RFMgroup</th>\n",
              "      <th>RFMscore</th>\n",
              "    </tr>\n",
              "  </thead>\n",
              "  <tbody>\n",
              "    <tr>\n",
              "      <th>0</th>\n",
              "      <td>12346.0</td>\n",
              "      <td>325</td>\n",
              "      <td>1</td>\n",
              "      <td>77183.60</td>\n",
              "      <td>4</td>\n",
              "      <td>4</td>\n",
              "      <td>1</td>\n",
              "      <td>441</td>\n",
              "      <td>9</td>\n",
              "    </tr>\n",
              "    <tr>\n",
              "      <th>1</th>\n",
              "      <td>12747.0</td>\n",
              "      <td>2</td>\n",
              "      <td>103</td>\n",
              "      <td>4196.01</td>\n",
              "      <td>1</td>\n",
              "      <td>1</td>\n",
              "      <td>1</td>\n",
              "      <td>111</td>\n",
              "      <td>3</td>\n",
              "    </tr>\n",
              "    <tr>\n",
              "      <th>2</th>\n",
              "      <td>12748.0</td>\n",
              "      <td>0</td>\n",
              "      <td>4596</td>\n",
              "      <td>33719.73</td>\n",
              "      <td>1</td>\n",
              "      <td>1</td>\n",
              "      <td>1</td>\n",
              "      <td>111</td>\n",
              "      <td>3</td>\n",
              "    </tr>\n",
              "    <tr>\n",
              "      <th>3</th>\n",
              "      <td>12749.0</td>\n",
              "      <td>3</td>\n",
              "      <td>199</td>\n",
              "      <td>4090.88</td>\n",
              "      <td>1</td>\n",
              "      <td>1</td>\n",
              "      <td>1</td>\n",
              "      <td>111</td>\n",
              "      <td>3</td>\n",
              "    </tr>\n",
              "    <tr>\n",
              "      <th>4</th>\n",
              "      <td>12820.0</td>\n",
              "      <td>3</td>\n",
              "      <td>59</td>\n",
              "      <td>942.34</td>\n",
              "      <td>1</td>\n",
              "      <td>2</td>\n",
              "      <td>2</td>\n",
              "      <td>122</td>\n",
              "      <td>5</td>\n",
              "    </tr>\n",
              "  </tbody>\n",
              "</table>\n",
              "</div>"
            ],
            "text/plain": [
              "   CustomerID  Recency  Frequency  Monetary  R  F  M RFMgroup  RFMscore\n",
              "0     12346.0      325          1  77183.60  4  4  1      441         9\n",
              "1     12747.0        2        103   4196.01  1  1  1      111         3\n",
              "2     12748.0        0       4596  33719.73  1  1  1      111         3\n",
              "3     12749.0        3        199   4090.88  1  1  1      111         3\n",
              "4     12820.0        3         59    942.34  1  2  2      122         5"
            ]
          },
          "metadata": {
            "tags": []
          },
          "execution_count": 28
        }
      ]
    },
    {
      "cell_type": "code",
      "metadata": {
        "id": "Eai-CNIN_x_s",
        "colab_type": "code",
        "colab": {
          "base_uri": "https://localhost:8080/",
          "height": 168
        },
        "outputId": "c13981d2-e49a-4fd2-c166-a34f30486e0d"
      },
      "source": [
        "RFMscores.RFMscore.describe()"
      ],
      "execution_count": 29,
      "outputs": [
        {
          "output_type": "execute_result",
          "data": {
            "text/plain": [
              "count    3921.000000\n",
              "mean        7.508289\n",
              "std         2.823461\n",
              "min         3.000000\n",
              "25%         5.000000\n",
              "50%         8.000000\n",
              "75%        10.000000\n",
              "max        12.000000\n",
              "Name: RFMscore, dtype: float64"
            ]
          },
          "metadata": {
            "tags": []
          },
          "execution_count": 29
        }
      ]
    },
    {
      "cell_type": "code",
      "metadata": {
        "id": "Y243rgFNlxnS",
        "colab_type": "code",
        "colab": {
          "base_uri": "https://localhost:8080/",
          "height": 235
        },
        "outputId": "460f1653-7732-48b3-c729-01242499bb89"
      },
      "source": [
        "# Create loyalty_level column :\n",
        "\n",
        "levels = ['Platinum', 'Gold', 'Silver', 'Bronze']\n",
        "cut_score = pd.qcut(RFMscores.RFMscore, 4, labels=levels)\n",
        "cut_score"
      ],
      "execution_count": 30,
      "outputs": [
        {
          "output_type": "execute_result",
          "data": {
            "text/plain": [
              "0         Silver\n",
              "1       Platinum\n",
              "2       Platinum\n",
              "3       Platinum\n",
              "4       Platinum\n",
              "          ...   \n",
              "3916      Bronze\n",
              "3917      Bronze\n",
              "3918      Silver\n",
              "3919    Platinum\n",
              "3920    Platinum\n",
              "Name: RFMscore, Length: 3921, dtype: category\n",
              "Categories (4, object): [Platinum < Gold < Silver < Bronze]"
            ]
          },
          "metadata": {
            "tags": []
          },
          "execution_count": 30
        }
      ]
    },
    {
      "cell_type": "code",
      "metadata": {
        "id": "tY2he0BhoHks",
        "colab_type": "code",
        "colab": {
          "base_uri": "https://localhost:8080/",
          "height": 195
        },
        "outputId": "aa7147c1-c47d-4d26-8ced-7f6f17facdb6"
      },
      "source": [
        "RFMscores['loyalty_level'] = pd.Series(cut_score)\n",
        "RFMscores.head()"
      ],
      "execution_count": 31,
      "outputs": [
        {
          "output_type": "execute_result",
          "data": {
            "text/html": [
              "<div>\n",
              "<style scoped>\n",
              "    .dataframe tbody tr th:only-of-type {\n",
              "        vertical-align: middle;\n",
              "    }\n",
              "\n",
              "    .dataframe tbody tr th {\n",
              "        vertical-align: top;\n",
              "    }\n",
              "\n",
              "    .dataframe thead th {\n",
              "        text-align: right;\n",
              "    }\n",
              "</style>\n",
              "<table border=\"1\" class=\"dataframe\">\n",
              "  <thead>\n",
              "    <tr style=\"text-align: right;\">\n",
              "      <th></th>\n",
              "      <th>CustomerID</th>\n",
              "      <th>Recency</th>\n",
              "      <th>Frequency</th>\n",
              "      <th>Monetary</th>\n",
              "      <th>R</th>\n",
              "      <th>F</th>\n",
              "      <th>M</th>\n",
              "      <th>RFMgroup</th>\n",
              "      <th>RFMscore</th>\n",
              "      <th>loyalty_level</th>\n",
              "    </tr>\n",
              "  </thead>\n",
              "  <tbody>\n",
              "    <tr>\n",
              "      <th>0</th>\n",
              "      <td>12346.0</td>\n",
              "      <td>325</td>\n",
              "      <td>1</td>\n",
              "      <td>77183.60</td>\n",
              "      <td>4</td>\n",
              "      <td>4</td>\n",
              "      <td>1</td>\n",
              "      <td>441</td>\n",
              "      <td>9</td>\n",
              "      <td>Silver</td>\n",
              "    </tr>\n",
              "    <tr>\n",
              "      <th>1</th>\n",
              "      <td>12747.0</td>\n",
              "      <td>2</td>\n",
              "      <td>103</td>\n",
              "      <td>4196.01</td>\n",
              "      <td>1</td>\n",
              "      <td>1</td>\n",
              "      <td>1</td>\n",
              "      <td>111</td>\n",
              "      <td>3</td>\n",
              "      <td>Platinum</td>\n",
              "    </tr>\n",
              "    <tr>\n",
              "      <th>2</th>\n",
              "      <td>12748.0</td>\n",
              "      <td>0</td>\n",
              "      <td>4596</td>\n",
              "      <td>33719.73</td>\n",
              "      <td>1</td>\n",
              "      <td>1</td>\n",
              "      <td>1</td>\n",
              "      <td>111</td>\n",
              "      <td>3</td>\n",
              "      <td>Platinum</td>\n",
              "    </tr>\n",
              "    <tr>\n",
              "      <th>3</th>\n",
              "      <td>12749.0</td>\n",
              "      <td>3</td>\n",
              "      <td>199</td>\n",
              "      <td>4090.88</td>\n",
              "      <td>1</td>\n",
              "      <td>1</td>\n",
              "      <td>1</td>\n",
              "      <td>111</td>\n",
              "      <td>3</td>\n",
              "      <td>Platinum</td>\n",
              "    </tr>\n",
              "    <tr>\n",
              "      <th>4</th>\n",
              "      <td>12820.0</td>\n",
              "      <td>3</td>\n",
              "      <td>59</td>\n",
              "      <td>942.34</td>\n",
              "      <td>1</td>\n",
              "      <td>2</td>\n",
              "      <td>2</td>\n",
              "      <td>122</td>\n",
              "      <td>5</td>\n",
              "      <td>Platinum</td>\n",
              "    </tr>\n",
              "  </tbody>\n",
              "</table>\n",
              "</div>"
            ],
            "text/plain": [
              "   CustomerID  Recency  Frequency  Monetary  ...  M  RFMgroup  RFMscore loyalty_level\n",
              "0     12346.0      325          1  77183.60  ...  1       441         9        Silver\n",
              "1     12747.0        2        103   4196.01  ...  1       111         3      Platinum\n",
              "2     12748.0        0       4596  33719.73  ...  1       111         3      Platinum\n",
              "3     12749.0        3        199   4090.88  ...  1       111         3      Platinum\n",
              "4     12820.0        3         59    942.34  ...  2       122         5      Platinum\n",
              "\n",
              "[5 rows x 10 columns]"
            ]
          },
          "metadata": {
            "tags": []
          },
          "execution_count": 31
        }
      ]
    },
    {
      "cell_type": "code",
      "metadata": {
        "id": "38mzzpe2qXsc",
        "colab_type": "code",
        "colab": {
          "base_uri": "https://localhost:8080/",
          "height": 195
        },
        "outputId": "829609c2-c711-4e12-b275-2c64e721e9d0"
      },
      "source": [
        "RFMscores[RFMscores['RFMgroup'] =='111'].head()\n",
        "# VERIFIED"
      ],
      "execution_count": 32,
      "outputs": [
        {
          "output_type": "execute_result",
          "data": {
            "text/html": [
              "<div>\n",
              "<style scoped>\n",
              "    .dataframe tbody tr th:only-of-type {\n",
              "        vertical-align: middle;\n",
              "    }\n",
              "\n",
              "    .dataframe tbody tr th {\n",
              "        vertical-align: top;\n",
              "    }\n",
              "\n",
              "    .dataframe thead th {\n",
              "        text-align: right;\n",
              "    }\n",
              "</style>\n",
              "<table border=\"1\" class=\"dataframe\">\n",
              "  <thead>\n",
              "    <tr style=\"text-align: right;\">\n",
              "      <th></th>\n",
              "      <th>CustomerID</th>\n",
              "      <th>Recency</th>\n",
              "      <th>Frequency</th>\n",
              "      <th>Monetary</th>\n",
              "      <th>R</th>\n",
              "      <th>F</th>\n",
              "      <th>M</th>\n",
              "      <th>RFMgroup</th>\n",
              "      <th>RFMscore</th>\n",
              "      <th>loyalty_level</th>\n",
              "    </tr>\n",
              "  </thead>\n",
              "  <tbody>\n",
              "    <tr>\n",
              "      <th>1</th>\n",
              "      <td>12747.0</td>\n",
              "      <td>2</td>\n",
              "      <td>103</td>\n",
              "      <td>4196.01</td>\n",
              "      <td>1</td>\n",
              "      <td>1</td>\n",
              "      <td>1</td>\n",
              "      <td>111</td>\n",
              "      <td>3</td>\n",
              "      <td>Platinum</td>\n",
              "    </tr>\n",
              "    <tr>\n",
              "      <th>2</th>\n",
              "      <td>12748.0</td>\n",
              "      <td>0</td>\n",
              "      <td>4596</td>\n",
              "      <td>33719.73</td>\n",
              "      <td>1</td>\n",
              "      <td>1</td>\n",
              "      <td>1</td>\n",
              "      <td>111</td>\n",
              "      <td>3</td>\n",
              "      <td>Platinum</td>\n",
              "    </tr>\n",
              "    <tr>\n",
              "      <th>3</th>\n",
              "      <td>12749.0</td>\n",
              "      <td>3</td>\n",
              "      <td>199</td>\n",
              "      <td>4090.88</td>\n",
              "      <td>1</td>\n",
              "      <td>1</td>\n",
              "      <td>1</td>\n",
              "      <td>111</td>\n",
              "      <td>3</td>\n",
              "      <td>Platinum</td>\n",
              "    </tr>\n",
              "    <tr>\n",
              "      <th>21</th>\n",
              "      <td>12839.0</td>\n",
              "      <td>2</td>\n",
              "      <td>314</td>\n",
              "      <td>5591.42</td>\n",
              "      <td>1</td>\n",
              "      <td>1</td>\n",
              "      <td>1</td>\n",
              "      <td>111</td>\n",
              "      <td>3</td>\n",
              "      <td>Platinum</td>\n",
              "    </tr>\n",
              "    <tr>\n",
              "      <th>23</th>\n",
              "      <td>12841.0</td>\n",
              "      <td>4</td>\n",
              "      <td>420</td>\n",
              "      <td>4022.35</td>\n",
              "      <td>1</td>\n",
              "      <td>1</td>\n",
              "      <td>1</td>\n",
              "      <td>111</td>\n",
              "      <td>3</td>\n",
              "      <td>Platinum</td>\n",
              "    </tr>\n",
              "  </tbody>\n",
              "</table>\n",
              "</div>"
            ],
            "text/plain": [
              "    CustomerID  Recency  Frequency  ...  RFMgroup  RFMscore  loyalty_level\n",
              "1      12747.0        2        103  ...       111         3       Platinum\n",
              "2      12748.0        0       4596  ...       111         3       Platinum\n",
              "3      12749.0        3        199  ...       111         3       Platinum\n",
              "21     12839.0        2        314  ...       111         3       Platinum\n",
              "23     12841.0        4        420  ...       111         3       Platinum\n",
              "\n",
              "[5 rows x 10 columns]"
            ]
          },
          "metadata": {
            "tags": []
          },
          "execution_count": 32
        }
      ]
    },
    {
      "cell_type": "code",
      "metadata": {
        "id": "DDQA0wE_rHu_",
        "colab_type": "code",
        "colab": {
          "base_uri": "https://localhost:8080/",
          "height": 1000
        },
        "outputId": "b16158a6-2891-4157-dee5-11bd6ead37d0"
      },
      "source": [
        "import plotly.offline as po\n",
        "import plotly.graph_objs as gobj\n",
        "\n",
        "#Recency Vs Frequency\n",
        "graph = RFMscores.query(\"Monetary < 50000 and Frequency < 2000\")\n",
        "\n",
        "plot_data = [\n",
        "    gobj.Scatter(\n",
        "        x=graph.query(\"loyalty_level == 'Bronze'\")['Recency'],\n",
        "        y=graph.query(\"loyalty_level == 'Bronze'\")['Frequency'],\n",
        "        mode='markers',\n",
        "        name='Bronze',\n",
        "        marker= dict(size= 7,\n",
        "            line= dict(width=1),\n",
        "            color= 'blue',\n",
        "            opacity= 0.8\n",
        "           )\n",
        "    ),\n",
        "        gobj.Scatter(\n",
        "        x=graph.query(\"loyalty_level == 'Silver'\")['Recency'],\n",
        "        y=graph.query(\"loyalty_level == 'Silver'\")['Frequency'],\n",
        "        mode='markers',\n",
        "        name='Silver',\n",
        "        marker= dict(size= 9,\n",
        "            line= dict(width=1),\n",
        "            color= 'green',\n",
        "            opacity= 0.5\n",
        "           )\n",
        "    ),\n",
        "        gobj.Scatter(\n",
        "        x=graph.query(\"loyalty_level == 'Gold'\")['Recency'],\n",
        "        y=graph.query(\"loyalty_level == 'Gold'\")['Frequency'],\n",
        "        mode='markers',\n",
        "        name='Gold',\n",
        "        marker= dict(size= 11,\n",
        "            line= dict(width=1),\n",
        "            color= 'red',\n",
        "            opacity= 0.9\n",
        "           )\n",
        "    ),\n",
        "    gobj.Scatter(\n",
        "        x=graph.query(\"loyalty_level == 'Platinum'\")['Recency'],\n",
        "        y=graph.query(\"loyalty_level == 'Platinum'\")['Frequency'],\n",
        "        mode='markers',\n",
        "        name='Platinum',\n",
        "        marker= dict(size= 13,\n",
        "            line= dict(width=1),\n",
        "            color= 'black',\n",
        "            opacity= 0.9\n",
        "           )\n",
        "    ),\n",
        "]\n",
        "\n",
        "plot_layout = gobj.Layout(\n",
        "        yaxis= {'title': \"Frequency\"},\n",
        "        xaxis= {'title': \"Recency\"},\n",
        "        title='Segments'\n",
        "    )\n",
        "fig = gobj.Figure(data=plot_data, layout=plot_layout)\n",
        "po.iplot(fig)\n",
        "\n",
        "#Frequency Vs Monetary\n",
        "graph = RFMscores.query(\"Monetary < 50000 and Frequency < 2000\")\n",
        "\n",
        "plot_data = [\n",
        "    gobj.Scatter(\n",
        "        x=graph.query(\"loyalty_level == 'Bronze'\")['Frequency'],\n",
        "        y=graph.query(\"loyalty_level == 'Bronze'\")['Monetary'],\n",
        "        mode='markers',\n",
        "        name='Bronze',\n",
        "        marker= dict(size= 7,\n",
        "            line= dict(width=1),\n",
        "            color= 'blue',\n",
        "            opacity= 0.8\n",
        "           )\n",
        "    ),\n",
        "        gobj.Scatter(\n",
        "        x=graph.query(\"loyalty_level == 'Silver'\")['Frequency'],\n",
        "        y=graph.query(\"loyalty_level == 'Silver'\")['Monetary'],\n",
        "        mode='markers',\n",
        "        name='Silver',\n",
        "        marker= dict(size= 9,\n",
        "            line= dict(width=1),\n",
        "            color= 'green',\n",
        "            opacity= 0.5\n",
        "           )\n",
        "    ),\n",
        "        gobj.Scatter(\n",
        "        x=graph.query(\"loyalty_level == 'Gold'\")['Frequency'],\n",
        "        y=graph.query(\"loyalty_level == 'Gold'\")['Monetary'],\n",
        "        mode='markers',\n",
        "        name='Gold',\n",
        "        marker= dict(size= 11,\n",
        "            line= dict(width=1),\n",
        "            color= 'red',\n",
        "            opacity= 0.9\n",
        "           )\n",
        "    ),\n",
        "    gobj.Scatter(\n",
        "        x=graph.query(\"loyalty_level == 'Platinum'\")['Frequency'],\n",
        "        y=graph.query(\"loyalty_level == 'Platinum'\")['Monetary'],\n",
        "        mode='markers',\n",
        "        name='Platinum',\n",
        "        marker= dict(size= 13,\n",
        "            line= dict(width=1),\n",
        "            color= 'black',\n",
        "            opacity= 0.9\n",
        "           )\n",
        "    ),\n",
        "]\n",
        "\n",
        "plot_layout = gobj.Layout(\n",
        "        yaxis= {'title': \"Monetary\"},\n",
        "        xaxis= {'title': \"Frequency\"},\n",
        "        title='Segments'\n",
        "    )\n",
        "fig = gobj.Figure(data=plot_data, layout=plot_layout)\n",
        "po.iplot(fig)\n",
        "\n",
        "#Recency Vs Monetary\n",
        "graph = RFMscores.query(\"Monetary < 50000 and Frequency < 2000\")\n",
        "\n",
        "plot_data = [\n",
        "    gobj.Scatter(\n",
        "        x=graph.query(\"loyalty_level == 'Bronze'\")['Recency'],\n",
        "        y=graph.query(\"loyalty_level == 'Bronze'\")['Monetary'],\n",
        "        mode='markers',\n",
        "        name='Bronze',\n",
        "        marker= dict(size= 7,\n",
        "            line= dict(width=1),\n",
        "            color= 'blue',\n",
        "            opacity= 0.8\n",
        "           )\n",
        "    ),\n",
        "        gobj.Scatter(\n",
        "        x=graph.query(\"loyalty_level == 'Silver'\")['Recency'],\n",
        "        y=graph.query(\"loyalty_level == 'Silver'\")['Monetary'],\n",
        "        mode='markers',\n",
        "        name='Silver',\n",
        "        marker= dict(size= 9,\n",
        "            line= dict(width=1),\n",
        "            color= 'green',\n",
        "            opacity= 0.5\n",
        "           )\n",
        "    ),\n",
        "        gobj.Scatter(\n",
        "        x=graph.query(\"loyalty_level == 'Gold'\")['Recency'],\n",
        "        y=graph.query(\"loyalty_level == 'Gold'\")['Monetary'],\n",
        "        mode='markers',\n",
        "        name='Gold',\n",
        "        marker= dict(size= 11,\n",
        "            line= dict(width=1),\n",
        "            color= 'red',\n",
        "            opacity= 0.9\n",
        "           )\n",
        "    ),\n",
        "    gobj.Scatter(\n",
        "        x=graph.query(\"loyalty_level == 'Platinum'\")['Recency'],\n",
        "        y=graph.query(\"loyalty_level == 'Platinum'\")['Monetary'],\n",
        "        mode='markers',\n",
        "        name='Platinum',\n",
        "        marker= dict(size= 13,\n",
        "            line= dict(width=1),\n",
        "            color= 'black',\n",
        "            opacity= 0.9\n",
        "           )\n",
        "    ),\n",
        "]\n",
        "\n",
        "plot_layout = gobj.Layout(\n",
        "        yaxis= {'title': \"Monetary\"},\n",
        "        xaxis= {'title': \"Recency\"},\n",
        "        title='Segments'\n",
        "    )\n",
        "fig = gobj.Figure(data=plot_data, layout=plot_layout)\n",
        "po.iplot(fig)\n",
        "\n"
      ],
      "execution_count": 33,
      "outputs": [
        {
          "output_type": "display_data",
          "data": {
            "text/html": [
              "<html>\n",
              "<head><meta charset=\"utf-8\" /></head>\n",
              "<body>\n",
              "    <div>\n",
              "            <script src=\"https://cdnjs.cloudflare.com/ajax/libs/mathjax/2.7.5/MathJax.js?config=TeX-AMS-MML_SVG\"></script><script type=\"text/javascript\">if (window.MathJax) {MathJax.Hub.Config({SVG: {font: \"STIX-Web\"}});}</script>\n",
              "                <script type=\"text/javascript\">window.PlotlyConfig = {MathJaxConfig: 'local'};</script>\n",
              "        <script src=\"https://cdn.plot.ly/plotly-latest.min.js\"></script>    \n",
              "            <div id=\"e59167df-690b-4b1c-ae2c-3827b7c2b762\" class=\"plotly-graph-div\" style=\"height:525px; width:100%;\"></div>\n",
              "            <script type=\"text/javascript\">\n",
              "                \n",
              "                    window.PLOTLYENV=window.PLOTLYENV || {};\n",
              "                    \n",
              "                if (document.getElementById(\"e59167df-690b-4b1c-ae2c-3827b7c2b762\")) {\n",
              "                    Plotly.newPlot(\n",
              "                        'e59167df-690b-4b1c-ae2c-3827b7c2b762',\n",
              "                        [{\"marker\": {\"color\": \"blue\", \"line\": {\"width\": 1}, \"opacity\": 0.8, \"size\": 7}, \"mode\": \"markers\", \"name\": \"Bronze\", \"type\": \"scatter\", \"x\": [214, 336, 262, 173, 294, 372, 138, 282, 143, 275, 214, 185, 204, 264, 311, 306, 112, 197, 156, 85, 318, 105, 56, 323, 372, 357, 273, 249, 253, 72, 191, 373, 82, 192, 266, 179, 70, 99, 234, 133, 372, 238, 77, 94, 261, 273, 332, 313, 64, 267, 337, 135, 267, 127, 200, 273, 201, 225, 112, 263, 366, 113, 78, 59, 330, 359, 137, 268, 155, 120, 64, 71, 365, 280, 203, 63, 149, 91, 259, 165, 252, 184, 99, 200, 232, 65, 241, 71, 243, 260, 126, 73, 78, 319, 215, 243, 309, 306, 312, 173, 252, 120, 179, 60, 301, 151, 187, 285, 182, 59, 155, 318, 218, 246, 269, 246, 217, 162, 373, 288, 151, 218, 103, 250, 367, 66, 255, 63, 367, 176, 211, 252, 168, 57, 326, 74, 63, 86, 71, 325, 351, 294, 169, 65, 360, 145, 70, 287, 206, 60, 213, 211, 277, 60, 176, 266, 284, 124, 65, 266, 266, 320, 364, 56, 324, 154, 72, 273, 143, 133, 233, 266, 173, 275, 331, 218, 94, 373, 326, 183, 234, 278, 318, 141, 154, 225, 196, 213, 222, 106, 242, 163, 242, 218, 274, 164, 215, 365, 319, 295, 358, 191, 296, 218, 119, 362, 218, 302, 98, 365, 306, 190, 310, 74, 257, 281, 175, 183, 187, 64, 108, 259, 185, 280, 372, 276, 371, 242, 57, 262, 58, 201, 187, 208, 264, 218, 214, 198, 147, 274, 297, 58, 112, 319, 63, 166, 52, 51, 75, 369, 197, 64, 366, 267, 148, 52, 261, 336, 253, 157, 74, 245, 72, 253, 270, 247, 57, 246, 159, 172, 199, 273, 319, 213, 372, 256, 281, 311, 134, 245, 239, 239, 225, 357, 320, 322, 260, 367, 92, 357, 241, 87, 176, 366, 318, 358, 310, 276, 298, 148, 283, 323, 106, 338, 354, 172, 201, 95, 110, 326, 283, 52, 332, 366, 72, 373, 361, 372, 128, 213, 172, 325, 112, 289, 189, 264, 171, 323, 254, 248, 264, 330, 362, 94, 92, 81, 330, 155, 233, 254, 163, 288, 217, 277, 351, 151, 162, 70, 53, 78, 52, 336, 184, 51, 52, 317, 106, 217, 296, 117, 119, 252, 264, 201, 283, 234, 364, 201, 212, 212, 282, 77, 304, 218, 245, 319, 372, 303, 186, 277, 60, 80, 253, 149, 194, 368, 173, 178, 247, 373, 372, 194, 239, 64, 311, 276, 365, 74, 303, 366, 211, 373, 173, 220, 297, 283, 81, 106, 264, 240, 248, 65, 143, 183, 170, 189, 317, 367, 246, 296, 281, 252, 59, 138, 60, 78, 80, 235, 203, 225, 170, 61, 176, 339, 169, 126, 330, 217, 196, 157, 284, 158, 290, 332, 197, 53, 322, 312, 302, 191, 263, 106, 64, 198, 149, 87, 218, 177, 73, 74, 274, 192, 161, 296, 372, 277, 171, 81, 53, 164, 242, 364, 182, 373, 248, 232, 68, 285, 219, 186, 235, 263, 245, 222, 105, 169, 368, 189, 362, 366, 72, 241, 262, 297, 176, 372, 214, 318, 294, 74, 372, 282, 57, 192, 360, 93, 156, 184, 128, 52, 186, 368, 59, 140, 84, 187, 299, 290, 276, 371, 109, 239, 87, 116, 187, 226, 267, 218, 149, 185, 63, 266, 78, 322, 261, 165, 288, 317, 119, 161, 185, 334, 239, 51, 284, 289, 217, 201, 226, 273, 53, 253, 234, 182, 312, 204, 362, 107, 208, 241, 57, 308, 95, 280, 123, 302, 94, 355, 86, 179, 311, 238, 65, 163, 219, 163, 71, 253, 156, 176, 203, 365, 158, 79, 248, 358, 75, 220, 308, 361, 359, 190, 53, 280, 177, 269, 233, 205, 71, 242, 218, 236, 239, 173, 59, 81, 276, 373, 65, 277, 227, 263, 358, 137, 141, 260, 185, 187, 169, 320, 200, 232, 240, 112, 359, 263, 254, 159, 53, 281, 51, 303, 185, 372, 304, 323, 204, 170, 173, 304, 129, 212, 162, 225, 159, 190, 247, 282, 372, 159, 233, 147, 249, 171, 166, 241, 365, 56, 185, 225, 281, 362, 235, 256, 373, 155, 51, 334, 154, 53, 203, 359, 289, 185, 373, 274, 254, 368, 290, 367, 214, 243, 295, 140, 177, 60, 249, 192, 261, 165, 157, 236, 89, 226, 263, 217, 325, 89, 140, 134, 366, 58, 73, 277, 180], \"y\": [6, 11, 9, 12, 17, 3, 3, 4, 2, 7, 5, 3, 4, 10, 8, 19, 5, 8, 9, 3, 7, 6, 4, 14, 3, 11, 13, 8, 15, 10, 11, 14, 15, 9, 7, 6, 6, 1, 8, 1, 10, 1, 15, 2, 3, 7, 3, 8, 17, 1, 37, 3, 5, 5, 5, 16, 9, 10, 13, 11, 1, 16, 9, 7, 13, 10, 5, 5, 1, 1, 14, 10, 14, 15, 1, 16, 8, 13, 2, 17, 9, 17, 10, 15, 11, 10, 8, 17, 12, 15, 10, 4, 8, 4, 14, 27, 10, 24, 19, 13, 19, 5, 13, 12, 6, 16, 3, 30, 8, 9, 14, 1, 13, 10, 21, 12, 6, 25, 1, 9, 12, 7, 9, 17, 7, 13, 17, 10, 7, 10, 19, 1, 14, 11, 28, 7, 7, 3, 16, 12, 7, 16, 9, 5, 3, 2, 15, 11, 10, 11, 16, 15, 11, 6, 28, 21, 14, 4, 6, 8, 7, 24, 29, 14, 1, 21, 9, 15, 3, 7, 3, 6, 25, 25, 3, 2, 10, 9, 8, 10, 16, 20, 8, 5, 17, 10, 8, 16, 17, 8, 8, 12, 14, 6, 18, 1, 6, 11, 8, 4, 4, 11, 7, 5, 8, 23, 3, 17, 9, 5, 9, 22, 4, 7, 19, 9, 17, 10, 23, 16, 12, 19, 5, 29, 1, 19, 3, 3, 13, 8, 2, 30, 2, 13, 8, 22, 8, 1, 29, 10, 5, 11, 9, 6, 2, 6, 12, 13, 11, 30, 4, 13, 2, 4, 13, 6, 13, 10, 7, 17, 9, 10, 14, 12, 5, 13, 11, 8, 12, 20, 5, 3, 30, 5, 1, 5, 15, 17, 1, 14, 9, 13, 14, 4, 41, 11, 3, 6, 10, 9, 5, 2, 9, 5, 5, 14, 8, 14, 15, 6, 7, 10, 12, 6, 19, 16, 25, 12, 1, 1, 16, 10, 17, 5, 9, 5, 7, 16, 3, 8, 1, 7, 14, 6, 8, 34, 10, 6, 17, 2, 5, 9, 25, 11, 2, 13, 1, 7, 27, 26, 24, 28, 17, 14, 1, 39, 13, 5, 14, 2, 17, 13, 16, 6, 15, 5, 9, 1, 12, 10, 9, 2, 5, 6, 6, 7, 41, 11, 5, 14, 10, 3, 1, 7, 7, 17, 1, 8, 22, 15, 12, 12, 41, 11, 24, 4, 7, 19, 12, 11, 21, 12, 12, 7, 1, 6, 2, 7, 11, 4, 8, 8, 10, 8, 1, 1, 10, 1, 12, 10, 13, 6, 16, 30, 8, 30, 11, 13, 1, 1, 14, 2, 3, 8, 11, 6, 14, 15, 8, 6, 16, 7, 2, 11, 8, 11, 14, 3, 1, 11, 20, 2, 9, 8, 31, 5, 4, 10, 5, 5, 9, 2, 8, 20, 11, 14, 9, 33, 3, 2, 13, 19, 15, 13, 13, 17, 15, 14, 5, 3, 17, 3, 9, 14, 8, 13, 10, 10, 6, 10, 5, 14, 5, 9, 12, 14, 8, 2, 9, 3, 12, 21, 37, 1, 13, 9, 13, 7, 1, 16, 17, 12, 16, 15, 15, 8, 11, 12, 10, 14, 8, 10, 6, 11, 3, 38, 37, 8, 9, 14, 16, 16, 7, 14, 7, 26, 2, 1, 4, 4, 11, 5, 2, 14, 1, 12, 9, 10, 7, 9, 32, 14, 15, 9, 10, 16, 4, 15, 10, 29, 7, 4, 9, 14, 15, 9, 39, 16, 23, 15, 9, 1, 12, 6, 1, 11, 9, 17, 1, 9, 19, 34, 2, 3, 4, 2, 2, 17, 5, 9, 8, 17, 9, 14, 12, 10, 17, 18, 11, 6, 9, 14, 9, 13, 3, 25, 5, 6, 12, 8, 5, 29, 9, 3, 4, 5, 7, 8, 7, 22, 11, 16, 19, 16, 15, 8, 5, 35, 7, 10, 1, 6, 6, 1, 1, 1, 3, 12, 13, 14, 13, 37, 15, 17, 25, 11, 10, 12, 6, 8, 10, 21, 34, 16, 32, 6, 12, 1, 1, 12, 20, 1, 1, 26, 14, 31, 12, 1, 13, 5, 2, 40, 32, 14, 28, 31, 5, 5, 19, 7, 7, 5, 1, 18, 13, 7, 17, 1, 28, 30, 17, 14, 8, 10, 10, 9, 17, 15, 7, 16, 19, 15, 13, 2, 10, 5, 1, 6, 13, 1, 7, 8, 9, 10, 7]}, {\"marker\": {\"color\": \"green\", \"line\": {\"width\": 1}, \"opacity\": 0.5, \"size\": 9}, \"mode\": \"markers\", \"name\": \"Silver\", \"type\": \"scatter\", \"x\": [59, 145, 282, 267, 96, 52, 84, 326, 44, 88, 30, 176, 148, 128, 161, 64, 78, 25, 288, 7, 9, 211, 242, 18, 73, 292, 31, 196, 106, 173, 7, 54, 291, 99, 64, 212, 24, 4, 157, 70, 39, 138, 269, 196, 39, 26, 22, 283, 63, 26, 45, 11, 18, 61, 15, 93, 122, 81, 261, 203, 92, 50, 124, 156, 14, 61, 61, 268, 31, 63, 15, 155, 169, 351, 72, 81, 316, 157, 177, 287, 70, 10, 66, 60, 257, 268, 63, 50, 256, 371, 89, 329, 74, 185, 192, 127, 17, 1, 74, 107, 74, 1, 255, 23, 29, 60, 236, 233, 57, 105, 311, 282, 64, 316, 30, 78, 205, 182, 85, 19, 173, 205, 50, 63, 35, 52, 47, 64, 26, 318, 116, 15, 215, 256, 35, 164, 149, 50, 75, 151, 63, 38, 302, 271, 31, 219, 200, 18, 240, 287, 54, 81, 75, 127, 309, 66, 52, 301, 144, 22, 19, 159, 64, 92, 247, 58, 119, 358, 189, 204, 119, 92, 297, 50, 49, 53, 23, 74, 169, 57, 109, 263, 179, 35, 79, 176, 154, 21, 21, 308, 14, 30, 110, 77, 155, 225, 121, 63, 284, 33, 305, 106, 32, 129, 124, 32, 36, 137, 84, 319, 129, 373, 78, 220, 33, 297, 66, 201, 106, 239, 89, 42, 4, 247, 177, 80, 331, 73, 51, 8, 40, 18, 117, 242, 64, 206, 114, 124, 67, 161, 38, 260, 5, 43, 22, 185, 52, 9, 149, 310, 22, 99, 50, 180, 110, 98, 253, 11, 164, 50, 207, 25, 50, 311, 309, 88, 100, 1, 57, 64, 150, 311, 18, 151, 57, 85, 1, 16, 40, 50, 305, 10, 274, 72, 245, 205, 184, 266, 50, 21, 170, 156, 77, 169, 86, 26, 24, 71, 106, 24, 373, 249, 43, 87, 75, 263, 46, 29, 17, 280, 54, 26, 10, 28, 21, 61, 180, 196, 53, 10, 311, 24, 119, 19, 29, 7, 185, 210, 19, 26, 131, 252, 207, 148, 204, 91, 32, 14, 79, 147, 49, 30, 128, 37, 19, 198, 211, 170, 43, 33, 266, 71, 89, 170, 31, 151, 269, 275, 308, 67, 215, 42, 182, 84, 333, 245, 133, 22, 65, 169, 240, 133, 75, 45, 373, 25, 331, 71, 66, 154, 70, 60, 59, 225, 318, 225, 234, 239, 113, 74, 65, 238, 122, 127, 168, 135, 64, 23, 66, 46, 49, 64, 290, 274, 199, 64, 44, 103, 333, 208, 156, 53, 129, 87, 158, 29, 39, 21, 169, 40, 186, 16, 92, 148, 313, 85, 24, 38, 15, 23, 213, 22, 262, 131, 312, 283, 262, 25, 354, 29, 51, 77, 161, 362, 171, 44, 84, 24, 33, 173, 11, 114, 54, 24, 50, 18, 176, 255, 36, 141, 116, 17, 134, 191, 157, 204, 336, 91, 92, 243, 22, 43, 50, 39, 81, 52, 28, 266, 143, 66, 49, 134, 40, 235, 51, 24, 65, 64, 115, 68, 133, 241, 183, 10, 358, 149, 142, 51, 207, 172, 50, 64, 58, 46, 51, 18, 25, 101, 312, 198, 92, 156, 226, 190, 154, 172, 67, 112, 133, 84, 165, 30, 19, 3, 54, 245, 47, 260, 43, 91, 309, 196, 269, 54, 260, 365, 288, 299, 154, 61, 218, 211, 51, 262, 88, 249, 157, 133, 232, 50, 73, 67, 15, 40, 236, 75, 360, 58, 88, 267, 189, 71, 78, 56, 261, 266, 116, 373, 196, 176, 100, 121, 268, 138, 213, 3, 36, 75, 63, 267, 247, 89, 269, 94, 264, 70, 53, 56, 21, 302, 57, 213, 28, 67, 135, 197, 44, 164, 88, 25, 173, 360, 19, 30, 61, 25, 3, 190, 290, 35, 24, 194, 3, 71, 113, 71, 75, 15, 4, 40, 74, 70, 182, 3, 274, 79, 245, 42, 71, 141, 19, 43, 75, 256, 135, 226, 78, 266, 369, 26, 364, 53, 46, 58, 372, 65, 96, 198, 273, 260, 57, 80, 19, 8, 365, 89, 65, 173, 99, 103, 95, 227, 51, 227, 39, 197, 50, 43, 333, 10, 14, 77, 66, 35, 366, 64, 72, 36, 61, 115, 53, 211, 235, 138, 30, 184, 189, 77, 60, 5, 288, 18, 30, 31, 45, 60, 110, 245, 30, 137, 113, 157, 194, 130, 313, 22, 47, 233, 50, 106, 275, 247, 194, 24, 75, 21, 38, 78, 57, 46, 58, 53, 53, 31, 65, 310, 308, 35, 18, 52, 127, 107, 35, 101, 361, 138, 22, 85, 46, 303, 11, 239, 72, 218, 199, 70, 19, 77, 306, 36, 184, 79, 128, 32, 313, 1, 192, 94, 10, 77, 65, 261, 58, 289, 75, 261, 72, 128, 53, 25, 23, 197, 359, 129, 332, 252, 17, 78, 217, 130, 312, 169, 19, 86, 21, 141, 74, 23, 43, 236, 252, 168, 372, 9, 113, 178, 21, 158, 198, 56, 72, 85, 73, 29, 179, 73, 36, 33, 47, 218, 368, 142, 107, 364, 322, 56, 44, 23, 85, 29, 21, 373, 310, 133, 45, 138, 130, 7, 37, 198, 66, 116, 142, 371, 373, 211, 51, 372, 29, 165, 145, 236, 28, 81, 108, 152, 98, 4, 65, 70, 288, 9, 173, 133, 75, 257, 217, 36, 16, 330, 61, 312, 127, 37, 329, 149, 60, 212, 157, 45, 50, 75, 301, 57, 7, 358, 227, 15, 82, 106, 28, 326, 211, 92, 81, 46, 23, 17, 310, 38, 2, 30, 43, 7], \"y\": [25, 24, 18, 27, 50, 5, 11, 66, 10, 7, 34, 2, 22, 2, 28, 29, 25, 9, 23, 16, 10, 22, 28, 4, 28, 92, 13, 28, 31, 26, 1, 37, 33, 18, 14, 18, 8, 6, 22, 25, 8, 30, 50, 1, 6, 17, 4, 41, 13, 32, 11, 2, 29, 29, 8, 22, 4, 2, 22, 58, 27, 16, 26, 36, 1, 87, 8, 9, 15, 30, 8, 42, 20, 21, 11, 12, 17, 19, 19, 20, 8, 16, 16, 24, 90, 29, 23, 1, 29, 39, 23, 35, 13, 21, 26, 39, 3, 11, 27, 18, 10, 12, 54, 19, 17, 21, 64, 23, 34, 14, 18, 19, 22, 26, 5, 15, 22, 76, 37, 38, 44, 33, 26, 8, 16, 26, 40, 23, 27, 23, 19, 8, 66, 23, 6, 49, 87, 9, 25, 25, 6, 12, 20, 51, 8, 38, 30, 3, 23, 35, 57, 22, 31, 11, 33, 23, 13, 36, 59, 15, 3, 29, 9, 5, 20, 30, 23, 18, 28, 19, 40, 15, 21, 17, 18, 20, 11, 21, 9, 17, 23, 31, 26, 7, 11, 39, 33, 12, 11, 35, 15, 5, 34, 39, 22, 28, 16, 15, 38, 6, 85, 10, 13, 46, 12, 4, 21, 26, 5, 67, 28, 22, 5, 28, 26, 31, 24, 7, 6, 20, 9, 12, 7, 21, 41, 15, 29, 33, 29, 9, 5, 3, 13, 20, 24, 31, 36, 28, 15, 31, 6, 18, 9, 41, 41, 75, 56, 14, 25, 14, 14, 29, 17, 40, 16, 6, 18, 13, 30, 14, 30, 7, 6, 19, 29, 7, 12, 4, 10, 19, 4, 56, 10, 58, 21, 16, 12, 17, 6, 29, 25, 7, 2, 4, 20, 26, 21, 20, 16, 7, 31, 30, 29, 80, 30, 4, 14, 7, 15, 10, 71, 18, 5, 30, 19, 21, 6, 39, 5, 41, 27, 15, 3, 6, 14, 59, 70, 17, 40, 6, 21, 9, 20, 11, 11, 4, 36, 28, 17, 11, 15, 18, 20, 33, 43, 12, 11, 3, 20, 42, 6, 37, 18, 21, 41, 87, 40, 75, 35, 20, 70, 7, 27, 67, 3, 12, 22, 25, 23, 30, 26, 11, 3, 23, 3, 28, 21, 15, 16, 22, 28, 23, 85, 7, 27, 5, 5, 23, 16, 29, 21, 19, 13, 20, 24, 20, 23, 23, 31, 22, 34, 33, 6, 18, 34, 19, 23, 2, 52, 12, 3, 28, 31, 19, 24, 37, 36, 49, 29, 16, 99, 36, 24, 21, 72, 14, 13, 4, 41, 12, 31, 12, 12, 42, 48, 28, 8, 2, 6, 10, 41, 29, 45, 25, 28, 60, 58, 7, 58, 7, 24, 29, 88, 70, 46, 15, 10, 1, 4, 75, 15, 29, 81, 31, 8, 7, 31, 29, 6, 19, 34, 15, 25, 33, 35, 25, 2, 21, 6, 34, 1, 11, 17, 13, 21, 12, 12, 22, 19, 8, 9, 28, 21, 10, 28, 9, 37, 11, 27, 25, 18, 21, 29, 14, 25, 42, 1, 8, 40, 20, 10, 24, 27, 11, 30, 14, 18, 45, 29, 23, 18, 93, 62, 40, 60, 25, 21, 18, 14, 24, 98, 14, 27, 3, 35, 86, 32, 76, 32, 16, 29, 22, 39, 34, 23, 74, 23, 38, 18, 29, 18, 34, 16, 21, 30, 37, 29, 22, 6, 15, 11, 15, 11, 6, 19, 15, 18, 35, 23, 37, 35, 22, 20, 19, 24, 13, 25, 67, 33, 6, 23, 17, 20, 22, 41, 16, 10, 15, 39, 5, 23, 33, 45, 29, 60, 23, 35, 31, 7, 21, 6, 83, 17, 24, 36, 40, 2, 18, 28, 17, 25, 19, 3, 6, 40, 13, 17, 30, 25, 17, 11, 35, 5, 28, 6, 33, 53, 12, 7, 31, 34, 30, 26, 9, 23, 20, 27, 19, 24, 29, 32, 10, 13, 3, 10, 5, 19, 2, 45, 27, 46, 1, 1, 34, 2, 22, 13, 23, 34, 40, 26, 50, 3, 5, 66, 18, 24, 98, 23, 28, 26, 38, 22, 24, 11, 25, 11, 12, 19, 9, 2, 7, 1, 37, 45, 69, 18, 38, 60, 6, 53, 33, 21, 19, 1, 25, 21, 39, 22, 7, 12, 11, 15, 7, 3, 9, 2, 28, 22, 15, 22, 22, 43, 13, 70, 8, 30, 18, 40, 24, 24, 20, 14, 14, 23, 5, 12, 15, 23, 2, 19, 40, 13, 25, 28, 49, 21, 25, 18, 12, 38, 6, 27, 30, 53, 14, 6, 28, 32, 59, 15, 35, 33, 28, 69, 24, 15, 15, 62, 33, 13, 14, 39, 14, 43, 9, 61, 29, 5, 29, 21, 24, 29, 40, 14, 88, 6, 40, 30, 9, 6, 42, 43, 2, 29, 45, 13, 11, 63, 14, 77, 26, 20, 5, 8, 45, 27, 11, 15, 19, 24, 31, 18, 10, 15, 35, 25, 57, 38, 54, 67, 72, 5, 10, 46, 10, 17, 2, 24, 26, 58, 9, 40, 26, 94, 28, 16, 2, 28, 19, 38, 58, 38, 21, 23, 29, 2, 2, 9, 19, 31, 7, 35, 48, 85, 31, 15, 65, 21, 30, 48, 29, 32, 3, 29, 21, 21, 9, 34, 20, 19, 3, 27, 7, 10, 25, 29, 17, 1, 29, 39, 21, 19, 18, 39, 32, 56, 1, 15, 7, 16, 25, 23, 39, 1, 30, 37, 1, 7, 32, 8, 43, 21, 19, 37, 6, 4, 8, 21, 11, 3, 11, 14, 12]}, {\"marker\": {\"color\": \"red\", \"line\": {\"width\": 1}, \"opacity\": 0.9, \"size\": 11}, \"mode\": \"markers\", \"name\": \"Gold\", \"type\": \"scatter\", \"x\": [70, 74, 5, 37, 32, 143, 70, 29, 22, 31, 134, 78, 210, 185, 236, 9, 24, 63, 67, 24, 42, 18, 17, 88, 24, 64, 54, 131, 35, 143, 9, 89, 358, 157, 29, 23, 23, 22, 73, 64, 1, 113, 22, 30, 52, 73, 138, 80, 30, 78, 24, 10, 129, 126, 4, 28, 275, 21, 3, 44, 59, 21, 19, 94, 23, 85, 22, 108, 19, 10, 295, 5, 33, 94, 122, 46, 18, 21, 4, 46, 39, 95, 19, 58, 56, 78, 240, 74, 212, 24, 17, 96, 17, 92, 9, 11, 53, 37, 40, 122, 18, 38, 189, 1, 103, 22, 28, 4, 22, 1, 78, 17, 3, 31, 92, 14, 77, 200, 260, 16, 71, 122, 80, 88, 99, 26, 131, 29, 72, 24, 133, 43, 4, 108, 19, 10, 18, 67, 23, 24, 38, 58, 191, 178, 37, 78, 51, 10, 23, 16, 72, 21, 85, 40, 14, 33, 43, 39, 12, 96, 25, 28, 7, 81, 84, 144, 17, 23, 14, 155, 14, 64, 45, 29, 40, 89, 40, 30, 59, 99, 67, 36, 52, 74, 31, 45, 114, 10, 205, 85, 18, 24, 7, 267, 281, 116, 36, 131, 38, 28, 36, 135, 28, 71, 2, 95, 95, 53, 124, 33, 50, 63, 70, 7, 4, 116, 138, 5, 18, 57, 25, 11, 24, 51, 129, 95, 57, 31, 54, 26, 23, 16, 183, 37, 11, 49, 92, 10, 95, 23, 11, 217, 1, 79, 49, 73, 26, 17, 65, 45, 134, 115, 198, 52, 46, 16, 7, 22, 28, 78, 109, 8, 31, 19, 29, 63, 40, 101, 302, 2, 73, 239, 30, 14, 19, 7, 122, 60, 46, 2, 46, 35, 75, 239, 19, 40, 215, 87, 70, 39, 98, 10, 86, 67, 18, 60, 2, 16, 30, 92, 110, 51, 183, 49, 75, 30, 219, 110, 260, 50, 162, 98, 30, 21, 51, 22, 21, 127, 120, 10, 157, 79, 19, 108, 44, 26, 38, 65, 65, 130, 107, 71, 92, 42, 91, 57, 17, 21, 53, 18, 9, 60, 10, 155, 148, 246, 17, 11, 46, 71, 19, 38, 67, 23, 22, 61, 33, 24, 37, 60, 236, 15, 58, 75, 56, 179, 3, 169, 35, 21, 7, 44, 9, 196, 91, 50, 36, 67, 67, 5, 19, 60, 241, 280, 234, 44, 137, 14, 2, 29, 24, 43, 5, 24, 47, 3, 42, 197, 16, 112, 29, 44, 15, 144, 232, 58, 127, 7, 162, 8, 15, 36, 200, 73, 21, 10, 29, 23, 36, 59, 25, 3, 107, 77, 18, 79, 85, 25, 2, 35, 70, 115, 212, 30, 50, 23, 19, 25, 12, 64, 8, 96, 14, 68, 107, 57, 15, 38, 46, 47, 147, 51, 35, 53, 38, 33, 80, 30, 8, 256, 72, 58, 65, 71, 53, 78, 46, 179, 93, 105, 77, 172, 212, 22, 21, 103, 4, 8, 31, 196, 23, 29, 18, 50, 114, 60, 18, 127, 52, 46, 164, 10, 31, 18, 68, 29, 14, 119, 2, 10, 87, 85, 10, 60, 46, 36, 217, 29, 134, 36, 66, 100, 151, 22, 57, 37, 22, 29, 10, 67, 60, 64, 75, 3, 70, 85, 39, 32, 66, 80, 0, 45, 254, 95, 75, 57, 137, 169, 31, 26, 9, 58, 26, 54, 26, 30, 29, 338, 85, 9, 50, 2, 113, 14, 40, 22, 28, 17, 52, 189, 1, 32, 19, 7, 4, 36, 60, 28, 11, 103, 11, 31, 177, 37, 68, 24, 50, 46, 100, 35, 26, 36, 61, 28, 32, 10, 56, 4, 103, 74, 45, 89, 166, 18, 36, 9, 45, 190, 168, 40, 49, 25, 4, 17, 172, 63, 11, 145, 24, 11, 15, 65, 114, 19, 61, 65, 31, 5, 25, 10, 14, 113, 75, 107, 46, 46, 50, 306, 36, 78, 107, 63, 44, 3, 56, 99, 37, 58, 254, 44, 33, 72, 38, 19, 136, 22, 40, 32, 369, 2, 23, 8, 19, 21, 89, 82, 16, 8, 33, 31, 19, 23, 2, 77, 88, 123, 44, 88, 2, 23, 22, 35, 39, 12, 29, 92, 87, 7, 65, 30, 22, 37, 119, 32, 145, 45, 65, 22, 44, 16, 100, 59, 114, 87, 50, 70, 84, 8, 59, 57, 73, 39, 51, 21, 59, 18, 65, 4, 268, 15, 65, 17, 95, 126, 94, 72, 64, 16, 44, 23, 30, 54, 25, 44, 88, 19, 170, 36, 318, 57, 87, 43, 40, 33, 211, 23, 52, 50, 73, 71, 353, 72, 22, 37, 106, 17, 119, 35, 1, 128, 46, 17, 107, 16, 44, 21, 17, 33, 32, 18, 2, 82, 33, 66, 61, 74, 60, 28, 53, 56, 60, 154, 19, 18, 19, 44, 26, 112, 24, 46, 33, 63, 21, 23, 51, 10, 75, 15, 77, 33, 46, 79, 296, 4, 106, 25, 31, 4, 186, 22, 17, 5, 110, 95, 163, 42, 26, 5, 53, 15, 26, 127, 84, 80, 50, 61, 36, 32, 15, 51, 80, 73, 32, 31, 4, 177, 16, 68, 15, 28, 54, 72, 4, 61, 68, 37, 45, 84, 218, 91, 302, 52, 31, 52, 37, 44, 30, 114, 19, 47, 57, 67, 60, 100, 123, 163, 23, 103, 142, 4, 15, 38, 38, 100, 4, 23, 144, 31, 66, 37, 194, 1, 26, 116, 29, 81, 9, 23, 156, 21, 26, 1, 54, 25, 56, 134, 17, 38, 4, 39, 38, 255, 29, 7, 30, 23, 85, 46, 50, 8, 40, 78, 11, 86, 16, 87, 26, 25, 85, 117, 28, 28, 81, 73, 21, 58, 114, 36, 36, 25, 109, 123, 22, 18, 159, 8, 3, 152, 105, 17, 7, 32, 57, 44, 178, 56, 106, 35, 29, 23, 175, 60, 7, 18, 96, 264, 2, 25, 11, 108, 53, 15, 120, 3, 116, 4, 40, 148, 138, 2, 227, 130, 21, 28, 17, 21, 78, 31, 46, 100, 14, 151, 156, 15, 36, 129, 50, 24, 49, 17, 40, 11, 4, 14, 19, 39, 22, 114, 333, 12, 43, 42, 50, 46, 19, 18, 88, 40, 17, 126, 15, 60, 10, 44, 191, 7, 17, 9, 2, 206, 161, 24, 31, 29, 11, 4, 53, 29, 24, 43, 60, 19, 14, 94, 19, 24, 29, 4, 7, 109, 100, 85, 12, 213, 33, 57, 21, 32, 1, 31, 31, 119, 219, 60, 138, 36, 73, 25, 18, 3, 1, 52, 127, 131, 35, 10, 44, 26, 127, 71, 79, 38, 53, 9, 32, 50, 15, 10, 96, 21, 152, 25, 40, 82, 11, 4, 71, 1, 49, 2, 42, 85, 81, 372, 11, 1, 30, 80, 185, 43, 12, 21, 71, 172, 71, 9, 58, 3, 45, 88, 64, 11, 35, 134, 29, 51, 5, 49, 72, 39, 31, 37, 22, 11, 121, 37, 12, 3, 23, 70, 4, 21, 35, 32, 19, 24, 45, 23, 40, 114, 18, 25, 98, 93, 81, 11, 37, 19, 12, 67, 25, 24, 19, 29, 63, 116, 32, 134, 3, 9, 37, 23, 176, 33, 58, 86, 31, 128, 24, 77, 71, 95, 199, 36, 25, 31, 29, 22, 56, 192, 29, 218, 72, 122, 87, 50, 172, 43, 25, 72], \"y\": [46, 5, 25, 38, 27, 113, 34, 52, 91, 51, 78, 110, 46, 107, 47, 13, 42, 71, 82, 82, 22, 72, 28, 30, 106, 47, 99, 75, 30, 97, 17, 109, 19, 20, 20, 31, 27, 59, 47, 40, 40, 26, 45, 10, 71, 27, 48, 28, 35, 76, 48, 2, 22, 73, 18, 21, 159, 24, 20, 58, 47, 76, 79, 55, 44, 98, 63, 46, 23, 4, 74, 15, 85, 79, 79, 42, 65, 46, 43, 72, 79, 63, 46, 149, 90, 21, 66, 43, 58, 36, 31, 67, 25, 23, 13, 38, 91, 96, 46, 85, 37, 31, 54, 2, 81, 54, 72, 26, 78, 20, 106, 25, 21, 17, 53, 21, 51, 54, 42, 40, 51, 32, 42, 37, 53, 97, 35, 43, 38, 28, 24, 19, 28, 78, 29, 74, 49, 46, 59, 46, 27, 41, 86, 58, 79, 69, 86, 35, 65, 18, 59, 44, 38, 27, 6, 66, 25, 87, 98, 124, 51, 34, 33, 82, 49, 83, 85, 46, 23, 53, 21, 58, 99, 43, 98, 74, 44, 81, 92, 11, 62, 63, 101, 40, 28, 63, 56, 16, 104, 53, 65, 53, 28, 48, 105, 43, 28, 85, 42, 20, 63, 43, 33, 34, 41, 72, 28, 24, 76, 25, 70, 15, 208, 57, 45, 39, 60, 96, 40, 93, 55, 20, 55, 101, 93, 81, 23, 61, 36, 27, 27, 19, 43, 26, 33, 30, 41, 27, 58, 45, 35, 137, 25, 92, 28, 54, 16, 13, 41, 39, 47, 30, 42, 20, 66, 39, 31, 89, 66, 92, 6, 32, 54, 56, 80, 52, 42, 65, 153, 69, 35, 74, 34, 10, 72, 15, 44, 46, 26, 40, 11, 26, 49, 52, 48, 41, 108, 52, 29, 52, 58, 29, 42, 42, 39, 37, 44, 24, 67, 60, 118, 40, 50, 35, 79, 42, 108, 75, 53, 52, 55, 64, 32, 27, 33, 26, 21, 71, 60, 31, 47, 33, 55, 69, 46, 131, 59, 45, 73, 20, 73, 54, 194, 43, 97, 27, 1, 12, 93, 70, 20, 109, 62, 37, 180, 130, 90, 43, 29, 42, 10, 47, 46, 96, 57, 73, 18, 17, 18, 229, 64, 32, 111, 69, 33, 235, 24, 100, 164, 152, 53, 50, 16, 53, 24, 41, 28, 26, 102, 29, 99, 90, 170, 132, 61, 50, 68, 22, 28, 25, 71, 55, 37, 52, 45, 17, 54, 89, 26, 69, 89, 41, 38, 71, 52, 60, 35, 30, 44, 12, 47, 53, 63, 48, 29, 29, 42, 28, 66, 60, 48, 98, 47, 47, 53, 6, 23, 20, 30, 87, 77, 45, 57, 78, 44, 63, 19, 55, 85, 59, 27, 83, 38, 34, 32, 72, 4, 61, 26, 77, 158, 144, 20, 128, 31, 72, 61, 35, 48, 52, 127, 130, 97, 57, 42, 82, 104, 70, 26, 42, 27, 49, 47, 33, 57, 47, 25, 8, 35, 69, 35, 84, 21, 28, 82, 102, 52, 29, 80, 26, 91, 20, 22, 29, 103, 63, 19, 51, 1, 32, 69, 37, 9, 52, 35, 58, 143, 50, 89, 44, 47, 77, 82, 11, 63, 41, 20, 58, 39, 7, 23, 58, 47, 33, 95, 42, 57, 13, 86, 17, 26, 20, 63, 29, 44, 95, 27, 194, 53, 99, 39, 53, 82, 62, 60, 30, 58, 157, 57, 52, 24, 77, 76, 11, 46, 50, 35, 15, 97, 92, 18, 57, 83, 41, 61, 29, 56, 20, 27, 31, 57, 104, 168, 45, 51, 44, 9, 24, 77, 22, 52, 67, 77, 60, 45, 3, 100, 16, 64, 49, 60, 25, 238, 52, 32, 21, 47, 48, 116, 33, 33, 53, 19, 18, 86, 55, 35, 118, 128, 91, 32, 70, 26, 62, 192, 45, 61, 10, 20, 35, 12, 8, 98, 119, 64, 31, 48, 208, 35, 89, 41, 49, 62, 33, 68, 51, 39, 68, 54, 50, 62, 47, 22, 97, 80, 20, 40, 76, 105, 49, 51, 30, 143, 74, 76, 29, 19, 41, 91, 42, 28, 84, 20, 49, 43, 37, 52, 130, 9, 33, 90, 94, 28, 64, 28, 100, 55, 26, 65, 6, 71, 39, 83, 84, 70, 68, 180, 33, 21, 21, 31, 39, 51, 67, 39, 76, 48, 16, 30, 212, 38, 40, 78, 35, 37, 31, 35, 18, 29, 18, 20, 34, 69, 23, 58, 28, 45, 31, 67, 57, 98, 63, 19, 66, 46, 41, 44, 97, 137, 96, 47, 37, 46, 51, 91, 90, 69, 18, 61, 45, 54, 17, 27, 4, 42, 37, 69, 19, 37, 118, 18, 39, 153, 47, 38, 57, 28, 34, 81, 18, 76, 228, 97, 111, 32, 102, 59, 88, 34, 83, 210, 82, 73, 63, 45, 54, 71, 51, 18, 84, 63, 99, 82, 182, 170, 35, 53, 18, 42, 29, 39, 56, 50, 11, 84, 86, 4, 35, 156, 77, 4, 31, 55, 32, 84, 52, 57, 31, 19, 18, 87, 57, 42, 28, 27, 85, 29, 66, 33, 29, 48, 64, 69, 50, 34, 62, 16, 53, 20, 6, 98, 44, 30, 62, 60, 123, 27, 79, 93, 43, 151, 82, 28, 53, 42, 95, 25, 170, 89, 54, 145, 48, 76, 60, 155, 76, 60, 103, 67, 28, 26, 28, 23, 63, 20, 19, 52, 26, 39, 26, 135, 99, 162, 44, 60, 93, 57, 143, 327, 83, 54, 44, 62, 57, 42, 86, 16, 101, 31, 42, 41, 87, 3, 12, 37, 23, 49, 44, 52, 74, 16, 153, 22, 28, 30, 75, 70, 6, 65, 43, 92, 83, 62, 99, 78, 62, 64, 25, 28, 64, 52, 187, 74, 65, 90, 39, 35, 260, 35, 20, 13, 67, 54, 63, 80, 128, 61, 32, 29, 96, 57, 103, 63, 47, 47, 69, 36, 29, 19, 40, 31, 55, 69, 57, 87, 112, 78, 124, 127, 80, 69, 94, 45, 69, 51, 66, 55, 24, 9, 73, 33, 543, 183, 87, 27, 8, 16, 45, 29, 87, 57, 83, 51, 47, 78, 27, 92, 38, 113, 41, 6, 30, 30, 26, 43, 48, 54, 36, 19, 19, 54, 27, 41, 78, 181, 27, 5, 28, 38, 127, 52, 20, 87, 45, 33, 19, 47, 75, 25, 145, 49, 106, 34, 27, 46, 49, 25, 50, 35, 214, 23, 50, 83, 55, 59, 100, 26, 33, 39, 70, 35, 40, 51, 91, 52, 44, 82, 19, 43, 18, 15, 30, 46, 35, 55, 23, 29, 50, 10, 40, 67, 35, 43, 25, 19, 75, 21, 53, 156, 82, 134, 58, 82, 140, 43, 33, 48, 23, 61, 61, 56, 1, 51, 297, 24, 15, 79, 44, 46, 26, 64, 67, 193, 114, 34, 39, 59, 80, 94, 23, 145, 5, 39, 65, 90, 21, 77, 19, 71, 20, 104, 68, 23, 38, 81, 93, 58, 60, 22, 30, 46, 112, 53, 96, 19, 121, 47, 19, 37, 73, 2, 73, 2, 36, 70, 41, 38, 46, 26, 378, 74, 36, 47, 20, 38, 61, 37, 38, 21, 34, 24, 37, 131, 38, 54, 31, 74, 97, 44, 68, 45, 141, 68, 32, 42, 26, 31, 64, 30, 124, 49, 88, 78, 47, 16, 98, 134, 21, 61, 46]}, {\"marker\": {\"color\": \"black\", \"line\": {\"width\": 1}, \"opacity\": 0.9, \"size\": 13}, \"mode\": \"markers\", \"name\": \"Platinum\", \"type\": \"scatter\", \"x\": [2, 3, 3, 2, 2, 59, 33, 2, 4, 65, 7, 26, 3, 8, 11, 39, 23, 2, 4, 138, 8, 9, 4, 35, 21, 2, 17, 15, 16, 30, 2, 8, 5, 1, 9, 8, 7, 3, 0, 3, 4, 4, 11, 9, 1, 10, 53, 16, 4, 11, 8, 31, 14, 14, 12, 0, 1, 3, 11, 8, 32, 1, 1, 31, 0, 11, 89, 4, 56, 10, 16, 84, 29, 14, 49, 8, 36, 16, 26, 7, 14, 11, 10, 3, 9, 30, 10, 19, 60, 3, 4, 12, 18, 1, 11, 2, 17, 1, 23, 7, 4, 7, 1, 37, 66, 5, 36, 38, 82, 45, 67, 9, 17, 33, 60, 31, 30, 11, 1, 1, 11, 40, 64, 0, 10, 5, 14, 16, 26, 26, 17, 7, 10, 1, 1, 45, 17, 7, 17, 3, 8, 1, 59, 1, 33, 33, 2, 1, 66, 73, 5, 40, 12, 10, 25, 15, 11, 108, 5, 1, 12, 24, 23, 5, 24, 33, 16, 9, 16, 43, 9, 2, 1, 17, 2, 31, 26, 5, 3, 32, 15, 49, 24, 5, 16, 3, 2, 11, 2, 2, 64, 33, 0, 12, 9, 1, 30, 5, 32, 16, 5, 58, 8, 1, 18, 7, 123, 2, 22, 53, 21, 3, 2, 10, 7, 1, 28, 72, 79, 57, 1, 17, 21, 2, 7, 5, 7, 18, 31, 39, 29, 4, 19, 12, 42, 3, 15, 10, 43, 9, 18, 7, 2, 40, 26, 16, 0, 1, 23, 4, 9, 3, 4, 4, 2, 7, 12, 16, 5, 51, 3, 22, 3, 3, 10, 1, 2, 1, 1, 3, 8, 19, 59, 8, 40, 10, 30, 2, 1, 4, 10, 105, 53, 11, 3, 1, 42, 28, 26, 42, 22, 43, 8, 7, 1, 64, 9, 8, 3, 23, 8, 11, 1, 7, 3, 17, 8, 71, 88, 8, 46, 44, 10, 17, 16, 16, 45, 31, 8, 32, 10, 10, 2, 2, 4, 33, 10, 1, 3, 10, 0, 23, 7, 9, 8, 0, 0, 18, 5, 66, 29, 103, 18, 26, 7, 42, 26, 19, 3, 47, 17, 17, 11, 17, 31, 19, 2, 25, 24, 2, 60, 9, 28, 24, 5, 3, 10, 19, 10, 7, 3, 95, 3, 12, 5, 18, 15, 19, 11, 15, 4, 1, 32, 23, 4, 52, 24, 4, 1, 8, 17, 8, 28, 10, 3, 16, 31, 25, 25, 7, 30, 4, 1, 32, 10, 1, 11, 15, 14, 10, 9, 1, 10, 1, 8, 16, 3, 4, 11, 9, 4, 8, 2, 51, 16, 2, 1, 47, 39, 40, 3, 17, 89, 53, 43, 63, 21, 58, 78, 12, 10, 3, 8, 12, 9, 7, 7, 23, 11, 21, 2, 3, 29, 59, 10, 9, 35, 72, 115, 15, 12, 8, 11, 3, 9, 4, 4, 15, 9, 19, 9, 25, 23, 4, 12, 25, 40, 8, 37, 9, 7, 10, 18, 18, 17, 9, 30, 17, 14, 7, 25, 50, 14, 2, 8, 4, 17, 9, 1, 3, 1, 8, 18, 1, 1, 3, 25, 1, 1, 10, 51, 66, 1, 10, 44, 66, 31, 9, 16, 15, 7, 4, 58, 43, 4, 25, 50, 2, 50, 12, 31, 4, 25, 40, 8, 40, 8, 14, 4, 9, 16, 1, 33, 84, 64, 19, 33, 8, 12, 1, 9, 1, 19, 15, 1, 30, 95, 32, 21, 2, 8, 15, 22, 11, 33, 12, 64, 40, 2, 18, 22, 21, 8, 25, 9, 7, 77, 12, 22, 2, 7, 4, 120, 23, 15, 11, 8, 9, 10, 43, 4, 15, 4, 105, 25, 18, 88, 73, 18, 24, 9, 8, 0, 33, 2, 140, 35, 40, 9, 32, 35, 16, 14, 18, 16, 12, 2, 39, 10, 88, 9, 32, 46, 26, 43, 1, 0, 23, 22, 16, 49, 73, 70, 11, 17, 4, 4, 15, 40, 12, 8, 5, 14, 63, 1, 1, 16, 9, 19, 3, 0, 16, 4, 8, 31, 15, 24, 17, 17, 39, 17, 24, 22, 2, 12, 8, 36, 29, 12, 47, 8, 3, 37, 3, 3, 46, 16, 46, 5, 40, 16, 9, 16, 3, 56, 23, 11, 42, 7, 17, 45, 9, 29, 17, 3, 3, 8, 42, 49, 8, 1, 10, 8, 50, 15, 100, 22, 31, 2, 4, 3, 1, 29, 44, 24, 9, 8, 66, 16, 45, 17, 9, 2, 21, 5, 31, 21, 9, 25, 64, 5, 14, 28, 7, 24, 11, 32, 3, 1, 7, 4, 9, 11, 17, 37, 18, 8, 4, 2, 1, 12, 36, 44, 17, 2, 29, 5, 7, 1, 99, 2, 28, 19, 33, 7, 63, 3, 8, 49, 21, 52, 1, 2, 19, 2, 10, 108, 66, 0, 15, 4, 4, 17, 15, 31, 0, 29, 17, 22, 58, 16, 17, 22, 9, 23, 16, 2, 33, 2, 47, 1, 8, 8, 0, 19, 3, 9, 18, 23, 14, 17, 26, 46, 38, 78, 29, 11, 86, 4, 17, 7, 3, 30, 33, 10, 2, 10, 3, 29, 1, 11, 23, 8, 14, 2, 10, 1, 31, 8, 36, 42, 22, 22, 4, 67, 12, 30, 15, 1, 7, 16, 4, 5, 29, 4, 28, 49, 12, 80, 3, 5, 8, 52, 12, 21, 3, 0, 8, 3, 12, 88, 17, 3, 10, 0, 4, 28, 2, 11, 2, 32, 2, 96, 29, 12, 28, 28, 17, 17, 33, 35, 7, 28, 4, 2, 50, 15, 10, 33, 29, 5, 5, 15, 16, 15, 1, 22, 21, 31, 28, 32, 5, 7, 11, 28, 35, 26, 40, 4, 24, 15, 12, 12, 2, 1, 42, 60, 26, 9, 31, 3, 8, 11, 14, 10, 24, 1, 8, 15, 17, 17, 29, 3, 14, 8, 17, 0, 12, 23, 40, 23, 8, 7, 0, 126, 4, 1, 16, 2, 29, 11, 16, 8, 0, 2, 36, 2, 1, 43, 22, 16, 16, 3, 0, 1, 57, 28, 15, 17, 1, 1, 1, 1, 14, 8, 7, 50, 8, 0, 60, 2, 73, 3, 23, 2, 40, 7, 53, 22, 5, 14, 18, 5, 36, 1, 11, 25, 10, 17, 25, 66, 42, 15, 50, 1, 1, 4, 1, 10, 16, 7, 30, 38, 16, 30, 3, 4, 22, 37, 96, 16, 15, 3, 3, 2, 19, 11, 3, 5, 0, 1, 19, 17, 8, 12, 24, 26, 22, 22, 37, 16, 4, 12, 14, 5, 42, 26, 4, 5, 3, 59, 12, 30, 2, 3, 3, 31, 4, 11, 8, 5, 21, 37, 24, 15, 35, 74, 32, 35, 11, 4, 7, 21, 5, 26, 23, 8, 45, 2, 11, 7, 1, 10, 8, 29, 15, 17, 7, 12, 12, 15, 14, 9, 4, 15, 4, 71, 1, 2, 4, 3, 44, 11, 9, 71, 2, 9, 7, 39, 24, 2, 3, 42], \"y\": [103, 199, 59, 91, 56, 175, 123, 314, 420, 103, 314, 538, 154, 116, 63, 91, 75, 24, 50, 107, 50, 720, 45, 84, 82, 129, 62, 120, 116, 215, 23, 63, 79, 180, 238, 95, 151, 305, 76, 64, 61, 339, 404, 89, 219, 110, 176, 458, 131, 99, 43, 172, 136, 403, 69, 425, 112, 358, 1028, 155, 423, 572, 304, 145, 201, 120, 235, 140, 127, 704, 170, 135, 319, 86, 87, 121, 131, 314, 265, 94, 181, 110, 226, 119, 57, 321, 56, 142, 108, 32, 611, 207, 141, 1677, 187, 211, 440, 316, 187, 59, 81, 107, 62, 87, 124, 476, 75, 108, 268, 134, 119, 166, 60, 128, 158, 172, 152, 51, 155, 478, 304, 104, 127, 157, 67, 101, 167, 195, 71, 443, 63, 382, 99, 302, 260, 109, 422, 48, 42, 162, 44, 115, 141, 436, 172, 223, 296, 179, 109, 136, 175, 176, 341, 126, 83, 174, 87, 128, 166, 247, 226, 201, 59, 71, 146, 188, 146, 79, 96, 166, 108, 470, 195, 57, 39, 90, 197, 134, 336, 102, 60, 104, 196, 191, 321, 342, 142, 117, 368, 135, 119, 177, 197, 115, 31, 349, 137, 76, 46, 74, 174, 206, 110, 76, 139, 33, 307, 115, 336, 104, 165, 178, 65, 142, 59, 110, 118, 149, 122, 148, 117, 49, 45, 160, 20, 152, 626, 149, 338, 111, 107, 351, 234, 84, 121, 155, 86, 208, 171, 84, 243, 250, 143, 235, 209, 488, 210, 1106, 284, 202, 111, 324, 43, 181, 450, 214, 105, 250, 79, 123, 156, 160, 34, 159, 167, 52, 200, 134, 47, 66, 210, 1204, 149, 327, 165, 240, 65, 265, 259, 579, 87, 102, 112, 108, 59, 100, 193, 67, 175, 115, 159, 112, 141, 111, 78, 106, 111, 143, 156, 280, 47, 101, 237, 100, 61, 62, 143, 105, 180, 117, 87, 101, 123, 259, 162, 90, 129, 118, 524, 140, 186, 286, 350, 87, 182, 103, 107, 590, 124, 206, 222, 224, 144, 382, 55, 51, 293, 258, 970, 240, 72, 281, 144, 144, 120, 193, 194, 624, 164, 107, 799, 316, 68, 101, 203, 291, 972, 216, 62, 519, 330, 76, 72, 114, 399, 366, 48, 113, 216, 74, 423, 127, 270, 123, 330, 383, 197, 102, 55, 86, 20, 92, 134, 122, 152, 172, 106, 199, 237, 49, 126, 253, 168, 573, 74, 102, 42, 258, 421, 327, 71, 130, 210, 115, 335, 347, 415, 196, 139, 357, 339, 237, 278, 501, 147, 202, 194, 60, 59, 235, 102, 135, 1090, 117, 46, 80, 1141, 385, 235, 255, 121, 67, 108, 138, 145, 130, 388, 143, 127, 58, 99, 144, 71, 124, 73, 498, 55, 116, 96, 355, 69, 165, 170, 138, 312, 198, 160, 216, 115, 1119, 182, 472, 135, 562, 155, 111, 510, 394, 1502, 453, 206, 78, 143, 71, 114, 276, 237, 121, 155, 54, 440, 145, 108, 101, 100, 100, 197, 45, 79, 106, 127, 84, 73, 68, 217, 67, 343, 271, 55, 125, 710, 110, 93, 91, 212, 310, 142, 42, 110, 166, 117, 125, 99, 49, 78, 110, 350, 111, 53, 41, 274, 47, 139, 88, 204, 103, 194, 192, 243, 225, 519, 551, 114, 94, 132, 117, 36, 302, 84, 85, 73, 50, 153, 122, 192, 292, 306, 55, 329, 382, 219, 286, 97, 98, 188, 86, 154, 297, 125, 512, 68, 213, 164, 160, 308, 178, 214, 185, 178, 163, 672, 108, 228, 256, 259, 702, 115, 899, 113, 53, 323, 215, 150, 123, 103, 410, 47, 43, 423, 185, 155, 167, 484, 119, 90, 78, 155, 114, 202, 110, 78, 166, 78, 171, 237, 117, 214, 288, 53, 937, 69, 302, 72, 173, 88, 93, 293, 411, 141, 180, 43, 83, 267, 206, 75, 133, 263, 301, 133, 72, 123, 115, 273, 167, 138, 140, 645, 191, 142, 546, 147, 461, 128, 120, 129, 86, 116, 74, 150, 249, 267, 155, 115, 60, 98, 98, 183, 122, 35, 176, 65, 97, 113, 270, 140, 552, 506, 103, 218, 385, 212, 139, 145, 182, 235, 160, 46, 101, 1137, 312, 121, 64, 102, 129, 227, 167, 63, 57, 48, 31, 354, 284, 117, 89, 339, 117, 224, 117, 89, 130, 474, 98, 85, 125, 84, 162, 218, 295, 134, 179, 111, 123, 84, 134, 135, 662, 294, 123, 270, 135, 124, 258, 133, 107, 166, 109, 118, 79, 162, 151, 319, 319, 153, 45, 77, 92, 235, 94, 109, 66, 662, 106, 53, 51, 130, 118, 125, 108, 330, 186, 172, 232, 102, 369, 372, 109, 132, 282, 174, 111, 202, 135, 236, 148, 360, 146, 97, 95, 136, 169, 113, 290, 183, 177, 45, 981, 251, 207, 460, 126, 216, 62, 172, 276, 96, 179, 117, 152, 94, 118, 69, 261, 73, 208, 160, 252, 114, 89, 163, 585, 62, 308, 144, 270, 402, 22, 447, 624, 199, 201, 225, 185, 269, 660, 125, 191, 242, 357, 449, 69, 42, 706, 222, 255, 158, 333, 190, 93, 320, 285, 164, 149, 449, 324, 86, 189, 47, 165, 266, 116, 378, 128, 137, 279, 112, 159, 178, 101, 203, 125, 79, 710, 208, 151, 547, 101, 128, 672, 209, 77, 898, 241, 305, 281, 249, 60, 54, 28, 89, 148, 407, 120, 129, 93, 169, 44, 217, 252, 234, 98, 102, 318, 316, 516, 296, 143, 140, 174, 77, 81, 162, 96, 115, 63, 195, 125, 48, 42, 418, 117, 127, 134, 27, 52, 478, 48, 81, 101, 229, 104, 144, 86, 73, 84, 237, 152, 211, 157, 274, 472, 208, 541, 105, 566, 400, 114, 292, 124, 142, 111, 102, 135, 57, 79, 66, 131, 473, 107, 200, 50, 753, 407, 500, 215, 71, 132, 411, 468, 111, 253, 418, 109, 28, 213, 213, 59, 82, 64, 66, 269, 206, 117, 271, 328, 134, 135, 277, 100, 111, 111, 215, 88, 82, 76, 109, 366, 105, 137, 82, 73, 253, 394, 88, 63, 152, 165, 299, 411, 440, 253, 201, 166, 213, 270, 560, 237, 576, 135, 312, 78, 50, 315, 123, 297, 157, 232, 259, 91, 158, 86, 117, 68, 53, 110, 227, 705, 78, 304, 118, 130, 286, 256, 115, 142, 74, 103, 382, 245, 274, 115, 192, 66, 165, 218, 690, 97, 47, 136, 193, 92, 741, 412, 95, 105, 310, 194, 190, 111, 408, 104, 61, 851, 141, 371, 220, 169, 121, 54, 199, 222, 148, 102, 370, 279, 145, 117, 109, 696, 31, 43, 485, 249, 329, 179, 296, 146, 166, 123, 191, 472, 127, 360, 46, 137, 470, 142, 227, 127, 89, 213, 108, 444, 1279, 364, 196, 70, 159, 43, 221, 140, 80, 189, 90, 119, 71, 159, 200, 134, 114, 272, 271, 242, 164, 86, 104, 61, 104, 175, 118, 42, 166, 756, 70]}],\n",
              "                        {\"template\": {\"data\": {\"bar\": [{\"error_x\": {\"color\": \"#2a3f5f\"}, \"error_y\": {\"color\": \"#2a3f5f\"}, \"marker\": {\"line\": {\"color\": \"#E5ECF6\", \"width\": 0.5}}, \"type\": \"bar\"}], \"barpolar\": [{\"marker\": {\"line\": {\"color\": \"#E5ECF6\", \"width\": 0.5}}, \"type\": \"barpolar\"}], \"carpet\": [{\"aaxis\": {\"endlinecolor\": \"#2a3f5f\", \"gridcolor\": \"white\", \"linecolor\": \"white\", \"minorgridcolor\": \"white\", \"startlinecolor\": \"#2a3f5f\"}, \"baxis\": {\"endlinecolor\": \"#2a3f5f\", \"gridcolor\": \"white\", \"linecolor\": \"white\", \"minorgridcolor\": \"white\", \"startlinecolor\": \"#2a3f5f\"}, \"type\": \"carpet\"}], \"choropleth\": [{\"colorbar\": {\"outlinewidth\": 0, \"ticks\": \"\"}, \"type\": \"choropleth\"}], \"contour\": [{\"colorbar\": {\"outlinewidth\": 0, \"ticks\": \"\"}, \"colorscale\": [[0.0, \"#0d0887\"], [0.1111111111111111, \"#46039f\"], [0.2222222222222222, \"#7201a8\"], [0.3333333333333333, \"#9c179e\"], [0.4444444444444444, \"#bd3786\"], [0.5555555555555556, \"#d8576b\"], [0.6666666666666666, \"#ed7953\"], [0.7777777777777778, \"#fb9f3a\"], [0.8888888888888888, \"#fdca26\"], [1.0, \"#f0f921\"]], \"type\": \"contour\"}], \"contourcarpet\": [{\"colorbar\": {\"outlinewidth\": 0, \"ticks\": \"\"}, \"type\": \"contourcarpet\"}], \"heatmap\": [{\"colorbar\": {\"outlinewidth\": 0, \"ticks\": \"\"}, \"colorscale\": [[0.0, \"#0d0887\"], [0.1111111111111111, \"#46039f\"], [0.2222222222222222, \"#7201a8\"], [0.3333333333333333, \"#9c179e\"], [0.4444444444444444, \"#bd3786\"], [0.5555555555555556, \"#d8576b\"], [0.6666666666666666, \"#ed7953\"], [0.7777777777777778, \"#fb9f3a\"], [0.8888888888888888, \"#fdca26\"], [1.0, \"#f0f921\"]], \"type\": \"heatmap\"}], \"heatmapgl\": [{\"colorbar\": {\"outlinewidth\": 0, \"ticks\": \"\"}, \"colorscale\": [[0.0, \"#0d0887\"], [0.1111111111111111, \"#46039f\"], [0.2222222222222222, \"#7201a8\"], [0.3333333333333333, \"#9c179e\"], [0.4444444444444444, \"#bd3786\"], [0.5555555555555556, \"#d8576b\"], [0.6666666666666666, \"#ed7953\"], [0.7777777777777778, \"#fb9f3a\"], [0.8888888888888888, \"#fdca26\"], [1.0, \"#f0f921\"]], \"type\": \"heatmapgl\"}], \"histogram\": [{\"marker\": {\"colorbar\": {\"outlinewidth\": 0, \"ticks\": \"\"}}, \"type\": \"histogram\"}], \"histogram2d\": [{\"colorbar\": {\"outlinewidth\": 0, \"ticks\": \"\"}, \"colorscale\": [[0.0, \"#0d0887\"], [0.1111111111111111, \"#46039f\"], [0.2222222222222222, \"#7201a8\"], [0.3333333333333333, \"#9c179e\"], [0.4444444444444444, \"#bd3786\"], [0.5555555555555556, \"#d8576b\"], [0.6666666666666666, \"#ed7953\"], [0.7777777777777778, \"#fb9f3a\"], [0.8888888888888888, \"#fdca26\"], [1.0, \"#f0f921\"]], \"type\": \"histogram2d\"}], \"histogram2dcontour\": [{\"colorbar\": {\"outlinewidth\": 0, \"ticks\": \"\"}, \"colorscale\": [[0.0, \"#0d0887\"], [0.1111111111111111, \"#46039f\"], [0.2222222222222222, \"#7201a8\"], [0.3333333333333333, \"#9c179e\"], [0.4444444444444444, \"#bd3786\"], [0.5555555555555556, \"#d8576b\"], [0.6666666666666666, \"#ed7953\"], [0.7777777777777778, \"#fb9f3a\"], [0.8888888888888888, \"#fdca26\"], [1.0, \"#f0f921\"]], \"type\": \"histogram2dcontour\"}], \"mesh3d\": [{\"colorbar\": {\"outlinewidth\": 0, \"ticks\": \"\"}, \"type\": \"mesh3d\"}], \"parcoords\": [{\"line\": {\"colorbar\": {\"outlinewidth\": 0, \"ticks\": \"\"}}, \"type\": \"parcoords\"}], \"pie\": [{\"automargin\": true, \"type\": \"pie\"}], \"scatter\": [{\"marker\": {\"colorbar\": {\"outlinewidth\": 0, \"ticks\": \"\"}}, \"type\": \"scatter\"}], \"scatter3d\": [{\"line\": {\"colorbar\": {\"outlinewidth\": 0, \"ticks\": \"\"}}, \"marker\": {\"colorbar\": {\"outlinewidth\": 0, \"ticks\": \"\"}}, \"type\": \"scatter3d\"}], \"scattercarpet\": [{\"marker\": {\"colorbar\": {\"outlinewidth\": 0, \"ticks\": \"\"}}, \"type\": \"scattercarpet\"}], \"scattergeo\": [{\"marker\": {\"colorbar\": {\"outlinewidth\": 0, \"ticks\": \"\"}}, \"type\": \"scattergeo\"}], \"scattergl\": [{\"marker\": {\"colorbar\": {\"outlinewidth\": 0, \"ticks\": \"\"}}, \"type\": \"scattergl\"}], \"scattermapbox\": [{\"marker\": {\"colorbar\": {\"outlinewidth\": 0, \"ticks\": \"\"}}, \"type\": \"scattermapbox\"}], \"scatterpolar\": [{\"marker\": {\"colorbar\": {\"outlinewidth\": 0, \"ticks\": \"\"}}, \"type\": \"scatterpolar\"}], \"scatterpolargl\": [{\"marker\": {\"colorbar\": {\"outlinewidth\": 0, \"ticks\": \"\"}}, \"type\": \"scatterpolargl\"}], \"scatterternary\": [{\"marker\": {\"colorbar\": {\"outlinewidth\": 0, \"ticks\": \"\"}}, \"type\": \"scatterternary\"}], \"surface\": [{\"colorbar\": {\"outlinewidth\": 0, \"ticks\": \"\"}, \"colorscale\": [[0.0, \"#0d0887\"], [0.1111111111111111, \"#46039f\"], [0.2222222222222222, \"#7201a8\"], [0.3333333333333333, \"#9c179e\"], [0.4444444444444444, \"#bd3786\"], [0.5555555555555556, \"#d8576b\"], [0.6666666666666666, \"#ed7953\"], [0.7777777777777778, \"#fb9f3a\"], [0.8888888888888888, \"#fdca26\"], [1.0, \"#f0f921\"]], \"type\": \"surface\"}], \"table\": [{\"cells\": {\"fill\": {\"color\": \"#EBF0F8\"}, \"line\": {\"color\": \"white\"}}, \"header\": {\"fill\": {\"color\": \"#C8D4E3\"}, \"line\": {\"color\": \"white\"}}, \"type\": \"table\"}]}, \"layout\": {\"annotationdefaults\": {\"arrowcolor\": \"#2a3f5f\", \"arrowhead\": 0, \"arrowwidth\": 1}, \"coloraxis\": {\"colorbar\": {\"outlinewidth\": 0, \"ticks\": \"\"}}, \"colorscale\": {\"diverging\": [[0, \"#8e0152\"], [0.1, \"#c51b7d\"], [0.2, \"#de77ae\"], [0.3, \"#f1b6da\"], [0.4, \"#fde0ef\"], [0.5, \"#f7f7f7\"], [0.6, \"#e6f5d0\"], [0.7, \"#b8e186\"], [0.8, \"#7fbc41\"], [0.9, \"#4d9221\"], [1, \"#276419\"]], \"sequential\": [[0.0, \"#0d0887\"], [0.1111111111111111, \"#46039f\"], [0.2222222222222222, \"#7201a8\"], [0.3333333333333333, \"#9c179e\"], [0.4444444444444444, \"#bd3786\"], [0.5555555555555556, \"#d8576b\"], [0.6666666666666666, \"#ed7953\"], [0.7777777777777778, \"#fb9f3a\"], [0.8888888888888888, \"#fdca26\"], [1.0, \"#f0f921\"]], \"sequentialminus\": [[0.0, \"#0d0887\"], [0.1111111111111111, \"#46039f\"], [0.2222222222222222, \"#7201a8\"], [0.3333333333333333, \"#9c179e\"], [0.4444444444444444, \"#bd3786\"], [0.5555555555555556, \"#d8576b\"], [0.6666666666666666, \"#ed7953\"], [0.7777777777777778, \"#fb9f3a\"], [0.8888888888888888, \"#fdca26\"], [1.0, \"#f0f921\"]]}, \"colorway\": [\"#636efa\", \"#EF553B\", \"#00cc96\", \"#ab63fa\", \"#FFA15A\", \"#19d3f3\", \"#FF6692\", \"#B6E880\", \"#FF97FF\", \"#FECB52\"], \"font\": {\"color\": \"#2a3f5f\"}, \"geo\": {\"bgcolor\": \"white\", \"lakecolor\": \"white\", \"landcolor\": \"#E5ECF6\", \"showlakes\": true, \"showland\": true, \"subunitcolor\": \"white\"}, \"hoverlabel\": {\"align\": \"left\"}, \"hovermode\": \"closest\", \"mapbox\": {\"style\": \"light\"}, \"paper_bgcolor\": \"white\", \"plot_bgcolor\": \"#E5ECF6\", \"polar\": {\"angularaxis\": {\"gridcolor\": \"white\", \"linecolor\": \"white\", \"ticks\": \"\"}, \"bgcolor\": \"#E5ECF6\", \"radialaxis\": {\"gridcolor\": \"white\", \"linecolor\": \"white\", \"ticks\": \"\"}}, \"scene\": {\"xaxis\": {\"backgroundcolor\": \"#E5ECF6\", \"gridcolor\": \"white\", \"gridwidth\": 2, \"linecolor\": \"white\", \"showbackground\": true, \"ticks\": \"\", \"zerolinecolor\": \"white\"}, \"yaxis\": {\"backgroundcolor\": \"#E5ECF6\", \"gridcolor\": \"white\", \"gridwidth\": 2, \"linecolor\": \"white\", \"showbackground\": true, \"ticks\": \"\", \"zerolinecolor\": \"white\"}, \"zaxis\": {\"backgroundcolor\": \"#E5ECF6\", \"gridcolor\": \"white\", \"gridwidth\": 2, \"linecolor\": \"white\", \"showbackground\": true, \"ticks\": \"\", \"zerolinecolor\": \"white\"}}, \"shapedefaults\": {\"line\": {\"color\": \"#2a3f5f\"}}, \"ternary\": {\"aaxis\": {\"gridcolor\": \"white\", \"linecolor\": \"white\", \"ticks\": \"\"}, \"baxis\": {\"gridcolor\": \"white\", \"linecolor\": \"white\", \"ticks\": \"\"}, \"bgcolor\": \"#E5ECF6\", \"caxis\": {\"gridcolor\": \"white\", \"linecolor\": \"white\", \"ticks\": \"\"}}, \"title\": {\"x\": 0.05}, \"xaxis\": {\"automargin\": true, \"gridcolor\": \"white\", \"linecolor\": \"white\", \"ticks\": \"\", \"title\": {\"standoff\": 15}, \"zerolinecolor\": \"white\", \"zerolinewidth\": 2}, \"yaxis\": {\"automargin\": true, \"gridcolor\": \"white\", \"linecolor\": \"white\", \"ticks\": \"\", \"title\": {\"standoff\": 15}, \"zerolinecolor\": \"white\", \"zerolinewidth\": 2}}}, \"title\": {\"text\": \"Segments\"}, \"xaxis\": {\"title\": {\"text\": \"Recency\"}}, \"yaxis\": {\"title\": {\"text\": \"Frequency\"}}},\n",
              "                        {\"responsive\": true}\n",
              "                    ).then(function(){\n",
              "                            \n",
              "var gd = document.getElementById('e59167df-690b-4b1c-ae2c-3827b7c2b762');\n",
              "var x = new MutationObserver(function (mutations, observer) {{\n",
              "        var display = window.getComputedStyle(gd).display;\n",
              "        if (!display || display === 'none') {{\n",
              "            console.log([gd, 'removed!']);\n",
              "            Plotly.purge(gd);\n",
              "            observer.disconnect();\n",
              "        }}\n",
              "}});\n",
              "\n",
              "// Listen for the removal of the full notebook cells\n",
              "var notebookContainer = gd.closest('#notebook-container');\n",
              "if (notebookContainer) {{\n",
              "    x.observe(notebookContainer, {childList: true});\n",
              "}}\n",
              "\n",
              "// Listen for the clearing of the current output cell\n",
              "var outputEl = gd.closest('.output');\n",
              "if (outputEl) {{\n",
              "    x.observe(outputEl, {childList: true});\n",
              "}}\n",
              "\n",
              "                        })\n",
              "                };\n",
              "                \n",
              "            </script>\n",
              "        </div>\n",
              "</body>\n",
              "</html>"
            ]
          },
          "metadata": {
            "tags": []
          }
        },
        {
          "output_type": "display_data",
          "data": {
            "text/html": [
              "<html>\n",
              "<head><meta charset=\"utf-8\" /></head>\n",
              "<body>\n",
              "    <div>\n",
              "            <script src=\"https://cdnjs.cloudflare.com/ajax/libs/mathjax/2.7.5/MathJax.js?config=TeX-AMS-MML_SVG\"></script><script type=\"text/javascript\">if (window.MathJax) {MathJax.Hub.Config({SVG: {font: \"STIX-Web\"}});}</script>\n",
              "                <script type=\"text/javascript\">window.PlotlyConfig = {MathJaxConfig: 'local'};</script>\n",
              "        <script src=\"https://cdn.plot.ly/plotly-latest.min.js\"></script>    \n",
              "            <div id=\"a96c865d-70dd-4360-9ea0-dc22c127e764\" class=\"plotly-graph-div\" style=\"height:525px; width:100%;\"></div>\n",
              "            <script type=\"text/javascript\">\n",
              "                \n",
              "                    window.PLOTLYENV=window.PLOTLYENV || {};\n",
              "                    \n",
              "                if (document.getElementById(\"a96c865d-70dd-4360-9ea0-dc22c127e764\")) {\n",
              "                    Plotly.newPlot(\n",
              "                        'a96c865d-70dd-4360-9ea0-dc22c127e764',\n",
              "                        [{\"marker\": {\"color\": \"blue\", \"line\": {\"width\": 1}, \"opacity\": 0.8, \"size\": 7}, \"mode\": \"markers\", \"name\": \"Bronze\", \"type\": \"scatter\", \"x\": [6, 11, 9, 12, 17, 3, 3, 4, 2, 7, 5, 3, 4, 10, 8, 19, 5, 8, 9, 3, 7, 6, 4, 14, 3, 11, 13, 8, 15, 10, 11, 14, 15, 9, 7, 6, 6, 1, 8, 1, 10, 1, 15, 2, 3, 7, 3, 8, 17, 1, 37, 3, 5, 5, 5, 16, 9, 10, 13, 11, 1, 16, 9, 7, 13, 10, 5, 5, 1, 1, 14, 10, 14, 15, 1, 16, 8, 13, 2, 17, 9, 17, 10, 15, 11, 10, 8, 17, 12, 15, 10, 4, 8, 4, 14, 27, 10, 24, 19, 13, 19, 5, 13, 12, 6, 16, 3, 30, 8, 9, 14, 1, 13, 10, 21, 12, 6, 25, 1, 9, 12, 7, 9, 17, 7, 13, 17, 10, 7, 10, 19, 1, 14, 11, 28, 7, 7, 3, 16, 12, 7, 16, 9, 5, 3, 2, 15, 11, 10, 11, 16, 15, 11, 6, 28, 21, 14, 4, 6, 8, 7, 24, 29, 14, 1, 21, 9, 15, 3, 7, 3, 6, 25, 25, 3, 2, 10, 9, 8, 10, 16, 20, 8, 5, 17, 10, 8, 16, 17, 8, 8, 12, 14, 6, 18, 1, 6, 11, 8, 4, 4, 11, 7, 5, 8, 23, 3, 17, 9, 5, 9, 22, 4, 7, 19, 9, 17, 10, 23, 16, 12, 19, 5, 29, 1, 19, 3, 3, 13, 8, 2, 30, 2, 13, 8, 22, 8, 1, 29, 10, 5, 11, 9, 6, 2, 6, 12, 13, 11, 30, 4, 13, 2, 4, 13, 6, 13, 10, 7, 17, 9, 10, 14, 12, 5, 13, 11, 8, 12, 20, 5, 3, 30, 5, 1, 5, 15, 17, 1, 14, 9, 13, 14, 4, 41, 11, 3, 6, 10, 9, 5, 2, 9, 5, 5, 14, 8, 14, 15, 6, 7, 10, 12, 6, 19, 16, 25, 12, 1, 1, 16, 10, 17, 5, 9, 5, 7, 16, 3, 8, 1, 7, 14, 6, 8, 34, 10, 6, 17, 2, 5, 9, 25, 11, 2, 13, 1, 7, 27, 26, 24, 28, 17, 14, 1, 39, 13, 5, 14, 2, 17, 13, 16, 6, 15, 5, 9, 1, 12, 10, 9, 2, 5, 6, 6, 7, 41, 11, 5, 14, 10, 3, 1, 7, 7, 17, 1, 8, 22, 15, 12, 12, 41, 11, 24, 4, 7, 19, 12, 11, 21, 12, 12, 7, 1, 6, 2, 7, 11, 4, 8, 8, 10, 8, 1, 1, 10, 1, 12, 10, 13, 6, 16, 30, 8, 30, 11, 13, 1, 1, 14, 2, 3, 8, 11, 6, 14, 15, 8, 6, 16, 7, 2, 11, 8, 11, 14, 3, 1, 11, 20, 2, 9, 8, 31, 5, 4, 10, 5, 5, 9, 2, 8, 20, 11, 14, 9, 33, 3, 2, 13, 19, 15, 13, 13, 17, 15, 14, 5, 3, 17, 3, 9, 14, 8, 13, 10, 10, 6, 10, 5, 14, 5, 9, 12, 14, 8, 2, 9, 3, 12, 21, 37, 1, 13, 9, 13, 7, 1, 16, 17, 12, 16, 15, 15, 8, 11, 12, 10, 14, 8, 10, 6, 11, 3, 38, 37, 8, 9, 14, 16, 16, 7, 14, 7, 26, 2, 1, 4, 4, 11, 5, 2, 14, 1, 12, 9, 10, 7, 9, 32, 14, 15, 9, 10, 16, 4, 15, 10, 29, 7, 4, 9, 14, 15, 9, 39, 16, 23, 15, 9, 1, 12, 6, 1, 11, 9, 17, 1, 9, 19, 34, 2, 3, 4, 2, 2, 17, 5, 9, 8, 17, 9, 14, 12, 10, 17, 18, 11, 6, 9, 14, 9, 13, 3, 25, 5, 6, 12, 8, 5, 29, 9, 3, 4, 5, 7, 8, 7, 22, 11, 16, 19, 16, 15, 8, 5, 35, 7, 10, 1, 6, 6, 1, 1, 1, 3, 12, 13, 14, 13, 37, 15, 17, 25, 11, 10, 12, 6, 8, 10, 21, 34, 16, 32, 6, 12, 1, 1, 12, 20, 1, 1, 26, 14, 31, 12, 1, 13, 5, 2, 40, 32, 14, 28, 31, 5, 5, 19, 7, 7, 5, 1, 18, 13, 7, 17, 1, 28, 30, 17, 14, 8, 10, 10, 9, 17, 15, 7, 16, 19, 15, 13, 2, 10, 5, 1, 6, 13, 1, 7, 8, 9, 10, 7], \"y\": [92.72, 293.0, 215.05, 134.1, 311.55, 38.1, 147.12, 374.0, 343.2300000000001, 298.0, 354.12, 331.0, 216.5, 138.67999999999998, 117.85, 108.07, 135.95, 144.8, 39.24, 211.32, 120.94999999999999, 149.05, 81.57, 229.47000000000003, 50.550000000000004, 190.54999999999998, 516.4200000000001, 183.4, 307.53000000000003, 248.61, 346.98, 205.85999999999999, 115.46000000000001, 228.8, 177.14999999999998, 58.08, 74.4, 207.35999999999999, 101.19, 76.5, 350.05999999999995, 30.599999999999998, 259.16999999999996, 64.0, 77.3, 109.80000000000001, 110.94999999999999, 112.75, 282.45, 71.4, 236.01999999999998, 60.7, 333.74, 62.64, 163.20000000000002, 108.21, 257.7, 160.95, 270.40000000000003, 200.29, 590.0, 138.98, 137.75, 93.66, 201.19, 201.2, 87.4, 142.5, 63.75, 15.0, 233.76, 134.96, 308.28, 222.99, 59.8, 221.06, 159.85, 296.64000000000004, 590.0, 356.97999999999996, 151.5, 307.90000000000003, 165.0, 300.95, 184.64, 140.34, 313.8, 216.85000000000002, 110.97000000000003, 251.20999999999998, 205.09999999999997, 152.20000000000002, 122.75, 91.80000000000001, 141.86, 239.49000000000004, 118.0, 142.4, 219.51999999999998, 177.34, 257.22999999999996, 252.1, 189.46999999999997, 84.65, 186.39, 232.6, 59.5, 67.23, 72.0, 172.25, 308.58, 99.5, 252.06000000000003, 228.83999999999997, 138.28, 306.55, 199.85000000000002, 300.03999999999996, 79.6, 296.25, 282.6, 306.72, 178.7, 127.84, 230.4, 195.54999999999995, 277.07000000000005, 256.38, 112.6, 189.5, 271.24, 85.0, 388.5, 216.17000000000002, 201.16, 145.67, 122.69999999999999, 117.24000000000001, 243.56, 155.93, 172.24999999999997, 307.4, 158.85, 90.6, 101.99999999999999, 80.7, 190.25000000000003, 264.7, 357.98, 200.14000000000001, 311.3, 635.6600000000001, 328.8, 104.82000000000002, 147.2, 141.41, 154.99, 260.25, 92.46, 183.6, 152.55, 265.85, 182.24999999999997, 161.0, 76.32000000000001, 216.20999999999998, 144.2, 386.53, 90.0, 115.8, 157.2, 118.75, 289.36, 122.54, 197.65, 185.39999999999998, 151.73999999999998, 161.00000000000003, 146.85, 213.70000000000005, 280.55, 136.76999999999998, 302.58, 120.0, 333.97, 112.32, 134.04, 426.6, 383.45000000000005, 120.0, 183.85000000000002, 311.65000000000003, 309.52, 134.7, 282.92999999999995, 51.0, 90.6, 174.4, 155.0, 100.5, 76.55, 617.05, 142.4, 67.94999999999999, 156.75, 122.7, 265.2, 470.36, 89.06, 63.0, 131.9, 119.93, 113.64, 234.34, 215.7, 137.1, 340.93, 251.21, 275.28, 174.37, 241.09, 171.8, 103.25000000000001, 218.06, 35.400000000000006, 237.36, 39.75, 406.08000000000004, 225.84999999999997, 114.56, 96.12, 243.21999999999997, 52.0, 112.80000000000001, 172.9, 188.60999999999996, 109.13000000000001, 179.0, 187.92, 268.58, 89.2, 255.89999999999998, 139.26, 200.10000000000002, 6.2, 131.45, 173.74, 157.70000000000002, 193.39, 155.42999999999998, 271.85, 272.07, 48.800000000000004, 62.85, 309.4, 125.79000000000002, 327.24999999999994, 135.9, 125.65, 616.15, 277.79999999999995, 310.05, 290.82000000000005, 58.49, 126.70000000000002, 206.21, 279.94, 102.12, 156.91000000000003, 170.04, 135.93, 121.17000000000002, 215.78, 370.79999999999995, 106.2, 88.19999999999999, 306.94, 319.5, 244.8, 266.4, 139.04999999999998, 178.96, 259.45, 158.16000000000003, 163.00000000000003, 135.75, 40.5, 87.5, 193.64, 316.58, 101.79999999999998, 96.6, 305.75, 403.25, 585.0, 322.0799999999999, 154.41, 197.00000000000006, 321.04999999999995, 98.45, 317.15, 178.95000000000002, 156.50999999999996, 119.30000000000001, 290.51, 113.12, 180.94, 205.3, 52.0, 165.0, 204.5, 208.75, 252.42000000000002, 201.59999999999997, 158.04, 115.65, 418.9200000000001, 326.0, 168.0, 596.85, 500.0, 107.45000000000002, 288.17999999999995, 94.0, 349.1, 267.18, 190.53, 97.7, 383.34000000000003, 594.0, 113.5, 155.17, 179.10000000000002, 234.6, 91.32000000000001, 52.83, 250.0, 121.0, 267.03000000000003, 229.32999999999998, 110.92000000000002, 127.86, 90.12, 217.2, 134.55, 258.88000000000005, 127.1, 199.8, 240.68, 48.480000000000004, 216.39, 104.76, 298.48, 112.46, 223.36, 309.8, 138.14, 76.32000000000001, 173.05, 193.75, 254.1, 136.8, 211.5, 143.10000000000002, 133.25, 150.3, 203.10000000000002, 218.25, 85.0, 294.11999999999995, 162.3, 34.8, 79.2, 253.04000000000002, 104.9, 206.98, 15.0, 118.95000000000002, 160.70999999999998, 149.64000000000001, 181.09000000000003, 168.31, 263.55, 179.17000000000002, 222.05, 56.25, 191.93999999999997, 264.61999999999995, 123.10000000000001, 369.50000000000006, 127.08000000000001, 207.14999999999998, 416.86, 145.35, 35.8, 325.1, 181.0, 104.35, 314.1, 307.82, 101.4, 256.44000000000005, 137.89999999999998, 134.8, 122.39999999999999, 79.2, 217.16000000000003, 17.0, 320.62, 185.05, 336.96, 108.38, 195.74, 161.38, 135.75000000000003, 232.21, 249.0, 289.35, 175.2, 76.32000000000001, 348.2000000000001, 37.4, 73.2, 197.9, 215.83, 159.0, 242.35000000000002, 304.25000000000006, 255.12, 314.22, 114.56, 152.94, 46.95, 168.3, 142.5, 233.22, 226.37, 404.40000000000003, 207.50000000000003, 214.8, 109.95000000000002, 101.10000000000001, 53.5, 153.9, 211.77, 109.36000000000001, 94.36, 177.5, 167.25, 133.56, 241.06, 284.55, 287.4, 188.89000000000001, 311.92, 266.97, 208.35999999999999, 151.41999999999996, 136.0, 74.9, 223.95, 139.35, 100.97000000000001, 363.70000000000005, 248.10000000000002, 162.70000000000005, 290.35999999999996, 228.06000000000003, 119.62, 339.3, 379.73, 173.7, 105.84, 233.45000000000002, 463.95, 225.14999999999995, 213.5, 145.05, 75.66, 129.49, 151.85000000000002, 226.21, 129.45, 217.9, 231.10000000000002, 214.06, 123.24, 39.12, 135.39999999999998, 129.75, 225.57999999999996, 112.75000000000001, 292.46999999999997, 3.75, 323.00000000000006, 207.5, 239.40000000000003, 106.83, 34.0, 245.94, 311.25, 110.38000000000001, 243.84, 309.53999999999996, 479.3500000000001, 128.5, 197.22, 199.15, 180.85000000000002, 281.42, 124.57, 375.69000000000005, 173.76, 207.73999999999998, 13.3, 276.72999999999996, 289.78, 113.44, 391.52000000000004, 230.25000000000003, 167.60999999999999, 416.64, 117.35000000000001, 234.17000000000002, 110.55000000000001, 201.18999999999994, 251.51999999999998, 179.0, 295.0, 154.82999999999998, 146.87000000000003, 234.24, 118.80000000000001, 301.99999999999994, 25.5, 163.3, 116.19999999999999, 157.02, 138.32, 345.29999999999995, 298.89, 157.08999999999997, 578.9999999999999, 124.88, 158.68, 224.91, 59.9, 306.13, 203.95, 262.62, 204.24, 226.85, 113.49999999999999, 149.89, 382.50000000000006, 171.45, 283.28, 240.0, 63.440000000000005, 246.04000000000002, 187.82999999999998, 550.8000000000001, 82.75, 96.8, 175.2, 307.02000000000004, 243.36, 193.64, 228.96, 110.75, 178.21999999999997, 168.39999999999998, 65.4, 508.8, 203.86999999999995, 32.65, 100.8, 388.45000000000005, 186.42, 120.90000000000002, 131.7, 249.86, 289.96000000000004, 194.36999999999995, 374.57, 271.05, 272.22, 288.59999999999997, 153.94, 145.0, 422.7, 296.7, 223.36, 164.39999999999998, 76.5, 170.75, 103.3, 157.9, 226.75, 185.64999999999998, 143.45999999999998, 175.27, 116.00999999999999, 571.2, 81.44, 75.75000000000001, 108.5, 101.55, 133.06, 117.55000000000001, 205.7, 298.11, 290.4, 200.46999999999997, 283.12, 154.95, 152.39999999999998, 267.08000000000004, 137.45, 153.0, 326.4, 139.35, 110.25000000000001, 71.4, 80.64, 15.0, 56.4, 188.01999999999998, 131.94, 225.9, 298.4, 205.48000000000002, 311.26, 208.97, 148.21, 330.9, 155.90000000000003, 237.61, 178.51999999999998, 133.35000000000002, 111.35, 203.87, 203.85999999999996, 112.25, 155.79999999999998, 112.19999999999999, 72.9, 207.50000000000003, 244.08, 99.14000000000001, 149.58, 358.56000000000006, 12.75, 73.78, 228.20000000000002, 136.04, 300.91999999999996, 20.8, 198.57, 93.35, 76.1, 169.47, 257.34, 174.79999999999998, 102.79, 187.29, 38.45, 73.5, 70.02, 165.04999999999998, 172.29000000000002, 74.4, 101.69999999999999, 247.44, 489.6, 101.33999999999999, 271.0, 76.32000000000001, 220.1, 181.11999999999995, 111.14999999999999, 112.55, 152.65, 160.35, 302.46000000000004, 202.65, 304.25, 284.46, 207.79999999999998, 243.76, 160.42000000000002, 232.48000000000002, 299.34, 305.28000000000003, 158.95000000000002, 93.75, 440.0, 103.3, 149.48, 25.5, 168.6, 110.38, 173.89999999999998, 180.6, 80.82]}, {\"marker\": {\"color\": \"green\", \"line\": {\"width\": 1}, \"opacity\": 0.5, \"size\": 9}, \"mode\": \"markers\", \"name\": \"Silver\", \"type\": \"scatter\", \"x\": [25, 24, 18, 27, 50, 5, 11, 66, 10, 7, 34, 2, 22, 2, 28, 29, 25, 9, 23, 16, 10, 22, 28, 4, 28, 92, 13, 28, 31, 26, 1, 37, 33, 18, 14, 18, 8, 6, 22, 25, 8, 30, 50, 1, 6, 17, 4, 41, 13, 32, 11, 2, 29, 29, 8, 22, 4, 2, 22, 58, 27, 16, 26, 36, 1, 87, 8, 9, 15, 30, 8, 42, 20, 21, 11, 12, 17, 19, 19, 20, 8, 16, 16, 24, 90, 29, 23, 1, 29, 39, 23, 35, 13, 21, 26, 39, 3, 11, 27, 18, 10, 12, 54, 19, 17, 21, 64, 23, 34, 14, 18, 19, 22, 26, 5, 15, 22, 76, 37, 38, 44, 33, 26, 8, 16, 26, 40, 23, 27, 23, 19, 8, 66, 23, 6, 49, 87, 9, 25, 25, 6, 12, 20, 51, 8, 38, 30, 3, 23, 35, 57, 22, 31, 11, 33, 23, 13, 36, 59, 15, 3, 29, 9, 5, 20, 30, 23, 18, 28, 19, 40, 15, 21, 17, 18, 20, 11, 21, 9, 17, 23, 31, 26, 7, 11, 39, 33, 12, 11, 35, 15, 5, 34, 39, 22, 28, 16, 15, 38, 6, 85, 10, 13, 46, 12, 4, 21, 26, 5, 67, 28, 22, 5, 28, 26, 31, 24, 7, 6, 20, 9, 12, 7, 21, 41, 15, 29, 33, 29, 9, 5, 3, 13, 20, 24, 31, 36, 28, 15, 31, 6, 18, 9, 41, 41, 75, 56, 14, 25, 14, 14, 29, 17, 40, 16, 6, 18, 13, 30, 14, 30, 7, 6, 19, 29, 7, 12, 4, 10, 19, 4, 56, 10, 58, 21, 16, 12, 17, 6, 29, 25, 7, 2, 4, 20, 26, 21, 20, 16, 7, 31, 30, 29, 80, 30, 4, 14, 7, 15, 10, 71, 18, 5, 30, 19, 21, 6, 39, 5, 41, 27, 15, 3, 6, 14, 59, 70, 17, 40, 6, 21, 9, 20, 11, 11, 4, 36, 28, 17, 11, 15, 18, 20, 33, 43, 12, 11, 3, 20, 42, 6, 37, 18, 21, 41, 87, 40, 75, 35, 20, 70, 7, 27, 67, 3, 12, 22, 25, 23, 30, 26, 11, 3, 23, 3, 28, 21, 15, 16, 22, 28, 23, 85, 7, 27, 5, 5, 23, 16, 29, 21, 19, 13, 20, 24, 20, 23, 23, 31, 22, 34, 33, 6, 18, 34, 19, 23, 2, 52, 12, 3, 28, 31, 19, 24, 37, 36, 49, 29, 16, 99, 36, 24, 21, 72, 14, 13, 4, 41, 12, 31, 12, 12, 42, 48, 28, 8, 2, 6, 10, 41, 29, 45, 25, 28, 60, 58, 7, 58, 7, 24, 29, 88, 70, 46, 15, 10, 1, 4, 75, 15, 29, 81, 31, 8, 7, 31, 29, 6, 19, 34, 15, 25, 33, 35, 25, 2, 21, 6, 34, 1, 11, 17, 13, 21, 12, 12, 22, 19, 8, 9, 28, 21, 10, 28, 9, 37, 11, 27, 25, 18, 21, 29, 14, 25, 42, 1, 8, 40, 20, 10, 24, 27, 11, 30, 14, 18, 45, 29, 23, 18, 93, 62, 40, 60, 25, 21, 18, 14, 24, 98, 14, 27, 3, 35, 86, 32, 76, 32, 16, 29, 22, 39, 34, 23, 74, 23, 38, 18, 29, 18, 34, 16, 21, 30, 37, 29, 22, 6, 15, 11, 15, 11, 6, 19, 15, 18, 35, 23, 37, 35, 22, 20, 19, 24, 13, 25, 67, 33, 6, 23, 17, 20, 22, 41, 16, 10, 15, 39, 5, 23, 33, 45, 29, 60, 23, 35, 31, 7, 21, 6, 83, 17, 24, 36, 40, 2, 18, 28, 17, 25, 19, 3, 6, 40, 13, 17, 30, 25, 17, 11, 35, 5, 28, 6, 33, 53, 12, 7, 31, 34, 30, 26, 9, 23, 20, 27, 19, 24, 29, 32, 10, 13, 3, 10, 5, 19, 2, 45, 27, 46, 1, 1, 34, 2, 22, 13, 23, 34, 40, 26, 50, 3, 5, 66, 18, 24, 98, 23, 28, 26, 38, 22, 24, 11, 25, 11, 12, 19, 9, 2, 7, 1, 37, 45, 69, 18, 38, 60, 6, 53, 33, 21, 19, 1, 25, 21, 39, 22, 7, 12, 11, 15, 7, 3, 9, 2, 28, 22, 15, 22, 22, 43, 13, 70, 8, 30, 18, 40, 24, 24, 20, 14, 14, 23, 5, 12, 15, 23, 2, 19, 40, 13, 25, 28, 49, 21, 25, 18, 12, 38, 6, 27, 30, 53, 14, 6, 28, 32, 59, 15, 35, 33, 28, 69, 24, 15, 15, 62, 33, 13, 14, 39, 14, 43, 9, 61, 29, 5, 29, 21, 24, 29, 40, 14, 88, 6, 40, 30, 9, 6, 42, 43, 2, 29, 45, 13, 11, 63, 14, 77, 26, 20, 5, 8, 45, 27, 11, 15, 19, 24, 31, 18, 10, 15, 35, 25, 57, 38, 54, 67, 72, 5, 10, 46, 10, 17, 2, 24, 26, 58, 9, 40, 26, 94, 28, 16, 2, 28, 19, 38, 58, 38, 21, 23, 29, 2, 2, 9, 19, 31, 7, 35, 48, 85, 31, 15, 65, 21, 30, 48, 29, 32, 3, 29, 21, 21, 9, 34, 20, 19, 3, 27, 7, 10, 25, 29, 17, 1, 29, 39, 21, 19, 18, 39, 32, 56, 1, 15, 7, 16, 25, 23, 39, 1, 30, 37, 1, 7, 32, 8, 43, 21, 19, 37, 6, 4, 8, 21, 11, 3, 11, 14, 12], \"y\": [397.11999999999995, 417.38, 312.38, 354.09, 135.18, 521.2, 380.64000000000004, 599.9700000000001, 573.22, 309.05000000000007, 188.14000000000001, 750.0, 363.65, 594.0, 405.38, 176.97, 415.8, 114.13999999999999, 462.95000000000005, 266.39, 160.18, 738.6, 390.53999999999996, 97.5, 558.7, 535.3200000000002, 409.5000000000001, 455.88, 534.8500000000001, 513.6999999999999, 204.0, 642.7700000000001, 560.47, 305.28, 656.6800000000002, 348.15000000000003, 271.4, 220.09999999999997, 416.08000000000004, 477.83000000000004, 243.94, 501.14, 283.72999999999996, 3096.0, 618.52, 228.91, 91.8, 417.20000000000005, 712.88, 116.00999999999999, 121.18, 114.60000000000001, 260.67999999999995, 117.88000000000001, 250.26000000000002, 353.48, 533.98, 358.0, 329.56, 600.0700000000002, 121.74, 430.5, 465.67999999999995, 1030.3999999999999, 0.0, 292.31999999999994, 557.62, 944.1, 276.56000000000006, 590.93, 258.4, 361.11, 371.89, 300.41999999999996, 567.36, 675.3, 1308.48, 487.02000000000004, 353.43, 389.5, 341.36, 247.32, 373.94, 397.97999999999996, 609.95, 439.03000000000003, 439.55999999999995, 56.160000000000004, 623.4, 754.8700000000001, 378.63999999999993, 534.5699999999999, 544.08, 307.71999999999997, 457.34000000000003, 621.2300000000002, 75.0, 252.49, 572.4509999999999, 213.55, 534.24, 196.88999999999996, 283.71, 291.88000000000005, 183.44, 422.64000000000004, 229.59, 454.24, 575.4000000000001, 449.52, 316.26000000000005, 348.04999999999995, 295.93000000000006, 458.52, 125.80000000000001, 307.76, 483.80000000000007, 270.79, 631.34, 240.22, 192.85, 1384.2499999999998, 294.4, 712.4, 247.95999999999998, 396.97, 180.17000000000002, 428.89, 164.34, 417.6900000000001, 213.85, 122.64, 354.8, 346.6, 94.2, 379.65000000000003, 305.0199999999999, 218.55, 349.7, 486.82000000000005, 910.0, 151.3, 330.79, 296.88, 180.48, 610.59, 339.6, 216.9, 350.75, 741.26, 286.78999999999996, 345.0, 309.04, 1516.0, 558.32, 324.79999999999995, 924.5999999999999, 1140.35, 385.64, 209.49000000000004, 52.199999999999996, 384.7999999999999, 312.98, 1255.0, 305.78, 501.56, 389.59999999999997, 540.45, 506.8, 349.54999999999995, 605.63, 416.9, 821.1000000000001, 311.15999999999997, 272.03999999999996, 351.13000000000005, 223.85000000000002, 348.99000000000007, 842.65, 337.34, 608.7899999999998, 922.0999999999999, 376.5799999999999, 71.66, 561.57, 674.4499999999998, 322.96, 230.22, 169.55, 664.5400000000001, 196.79, 76.8, 473.02, 505.18, 631.9000000000001, 440.0, 327.70000000000005, 467.66, 626.65, 152.2, 409.93, 725.6400000000001, 151.04, 122.47, 375.0999999999999, 45.599999999999994, 147.34999999999997, 194.90000000000003, 419.58000000000004, 483.86, 605.6399999999999, 311.81, 483.4, 446.62000000000006, 134.46, 576.9, 452.89, 1011.9999999999998, 335.52, 328.15999999999997, 1070.48, 169.48000000000002, 89.94, 632.3999999999999, 683.1700000000001, 490.86, 492.65, 437.96000000000004, 559.97, 176.63, 166.2, 43.2, 640.1400000000001, 310.26, 508.58, 477.78999999999996, 605.0600000000001, 462.65999999999997, 415.2, 588.2199999999999, 108.97999999999999, 409.57, 163.62, 225.76999999999998, 161.2, 257.68, 202.68, 202.10999999999999, 574.6999999999999, 1063.0, 490.2200000000001, 387.52, 363.34000000000003, 483.24999999999994, 434.34000000000003, 529.62, 316.24999999999994, 279.05, 636.51, 321.92, 463.38, 139.56, 123.79999999999998, 538.8100000000001, 475.37, 356.85, 455.59000000000003, 270.6, 355.56000000000006, 388.24999999999994, 652.8, 289.24, 186.23000000000002, 165.07, 324.14, 788.38, 227.38999999999996, 138.6, 114.11, 157.05, 393.33, 213.96000000000004, 660.0, 601.5600000000001, 394.43999999999994, 412.78000000000003, 320.58, 344.9000000000001, 443.6, 110.46, 693.81, 597.0899999999999, 114.18, 291.05, 285.73999999999995, 107.95, 195.25, 498.95, 628.3799999999999, 160.19, 313.49000000000007, 328.19999999999993, 389.63999999999993, 563.1499999999999, 420.50000000000006, 300.52, 278.3, 254.11, 192.60000000000002, 386.15, 447.68, 289.99, 77.4, 197.64000000000001, 228.99, 193.13999999999996, 321.42999999999995, 2139.76, 197.13, 102.44999999999999, 325.75, 475.79999999999995, 645.65, 170.32, 266.76, 52.2, 710.28, 519.6800000000001, 255.4, 589.7, 765.3199999999999, 364.79999999999995, 369.2, 554.38, 468.77000000000004, 307.48, 223.88, 100.9, 311.69000000000005, 499.68, 463.8, 147.59000000000003, 114.77, 114.39, 213.27, 296.75, 334.53999999999996, 429.87, 260.17, 125.58000000000001, 265.99999999999994, 518.28, 252.73000000000002, 180.35000000000002, 537.0, 735.6600000000001, 343.61999999999995, 1489.5, 381.32, 480.71, 457.80999999999995, 219.39, 39916.5, 410.48, 876.0, 484.9500000000001, 358.8199999999999, 184.19000000000003, 406.53000000000003, 330.11000000000007, 623.5, 520.8, 296.42, 401.4000000000001, 487.75, 106.56, 1289.5, 224.14000000000004, 689.48, 622.8499999999998, 310.62, 499.31999999999994, 1268.6999999999998, 331.18, 328.35, 755.75, 409.4000000000001, 429.6, 612.0600000000001, 316.68, 631.5699999999999, 514.15, 356.0, 300.36000000000007, 623.1600000000001, 254.81999999999996, 393.7400000000001, 408.8, 135.31, 255.89999999999998, 240.55, 496.43999999999994, 574.02, 310.46999999999997, 327.96999999999997, 570.5000000000001, 267.13000000000005, 162.29000000000002, 311.7099999999999, 1028.56, 351.67, 173.97, 406.09, 364.5, 473.80999999999995, 277.05000000000007, 427.92999999999995, 446.94000000000005, 642.41, 316.88, 394.14, 231.86, 716.2, 626.77, 572.81, 508.80000000000007, 135.85999999999999, 43.5, 93.78, 171.19, 533.3, 149.29000000000002, 200.16, 156.57999999999998, 494.64, 447.22, 237.07, 161.64, 216.76, 126.14, 467.51, 454.10999999999996, 233.81, 147.09, 492.36000000000007, 62.43, 412.01, 440.0, 148.44, 536.4000000000002, 213.30000000000004, 85.13, 292.71999999999997, 279.77, 173.16000000000003, 186.01000000000002, 455.29999999999995, 478.53, 195.15, 301.03, 588.13, 243.55, 425.32, 664.0, 447.64, 657.3500000000001, 816.0, 337.74, 877.4399999999999, 560.6700000000001, 30.0, 306.45000000000005, 386.43, 301.32000000000005, 323.69, 352.70000000000005, 191.03999999999996, 409.98, 356.7, 449.12, 154.88000000000002, 196.88000000000002, 149.30999999999997, 44534.3, 458.57, 205.25, 583.75, 315.05999999999995, 621.83, 270.79999999999995, 241.61999999999998, 1047.1100000000001, 475.28, 246.3, 351.3, 610.01, 451.42, 415.82000000000005, 1303.9099999999999, 532.94, 137.37, 391.98, 355.55999999999995, 130.73999999999998, 110.80000000000001, 296.99999999999994, 68.84, 230.53, 501.39000000000004, 516.36, 379.35, 446.87, 524.52, 334.23, 167.5, 336.03000000000003, 426.63000000000005, 404.58, 337.43999999999994, 371.01, 430.94, 168.11999999999998, 158.03, 41.989999999999995, 427.07000000000005, 407.50000000000006, 211.88, 628.2800000000002, 236.09, 934.6199999999999, 331.24, 437.69999999999993, 855.0200000000001, 362.05999999999995, 335.32000000000005, 372.09, 584.32, 436.18, 315.06, 302.36, 611.8800000000001, 612.7800000000001, 307.78000000000003, 517.5500000000001, 620.4, 535.3399999999999, 734.1299999999999, 374.99999999999994, 856.6000000000001, 331.95, 305.5400000000001, 338.7100000000001, 215.47999999999996, 215.08, 314.45000000000005, 400.681, 365.27, 592.9, 547.0200000000001, 914.9299999999998, 542.03, 536.68, 432.19999999999993, 414.2, 389.44, 752.4300000000002, 411.7, 357.94999999999993, 559.87, 810.6000000000001, 566.38, 302.25, 301.90000000000003, 361.21999999999986, 632.27, 274.15000000000003, 151.05, 322.41, 395.8, 676.2, 362.9500000000001, 584.5, 221.18999999999997, 303.93, 299.6, 443.05000000000007, 151.83, 262.2, 126.25, 302.69999999999993, 300.85, 642.8100000000001, 184.26, 381.2, 259.01, 707.69, 6.9, 316.11, 544.3, 331.0, 404.30000000000007, 365.45000000000005, 90.30000000000001, 101.7, 484.32000000000005, 215.08, 244.41000000000003, 455.25, 787.15, 285.89, 281.84999999999997, 865.6, 124.2, 451.43999999999994, 313.61999999999995, 459.24, 181.09, 250.14999999999998, 90.04000000000002, 244.79999999999995, 482.47, 618.5900000000001, 506.19, 178.96, 333.08, 322.80000000000007, 487.51, 290.65999999999997, 518.4200000000001, 601.2699999999999, 118.97999999999999, 183.7, 422.59999999999997, 1276.0, 657.9000000000001, 1998.0, 301.71999999999997, 901.2, 623.7500000000001, 155.24, 272.81999999999994, 417.59999999999997, 464.9, 223.92, 2002.4, 369.34000000000003, 316.62, 611.8500000000001, 1145.5999999999997, 380.39, 171.59, 226.35000000000002, 107.6, 80.8, 414.87999999999994, 305.61999999999995, 332.3, 460.5899999999999, 288.42, 417.06000000000006, 497.61, 358.37999999999994, 341.70000000000005, 413.46000000000004, 251.87, 588.85, 214.32000000000002, 193.44, 332.41, 144.91, 35.400000000000006, 680.02, 432.0, 194.88000000000002, 145.93, 219.14000000000001, 379.14, 208.45999999999995, 169.79000000000002, 543.0500000000001, 161.93999999999997, 816.7299999999999, 406.48, 435.02000000000004, 20.8, 518.67, 319.02, 344.3299999999999, 384.06, 126.12, 702.0, 195.36, 270.9, 71.0, 95.85, 357.77, 716.0, 433.53, 112.40000000000002, 449.72999999999996, 339.43999999999994, 642.0199999999999, 247.14, 498.47999999999996, 538.37, 287.62, 248.60999999999996, 307.46000000000004, 259.35, 425.0, 380.5, 465.32, 1689.5, 213.77999999999997, 329.34, 293.1, 206.33999999999997, 317.76, 239.91999999999996, 144.0, 444.74, 342.63, 384.08, 114.23, 354.15, 426.79, 393.48999999999995, 190.88, 178.26, 1253.3600000000001, 317.61999999999995, 763.64, 111.98000000000002, 498.42, 250.03999999999996, 644.3, 363.9, 494.25, 160.57000000000002, 365.84999999999997, 127.85999999999999, 312.22999999999996, 446.17999999999995, 495.7699999999999, 400.09999999999997, 203.2, 336.4, 1259.5600000000002, 457.90999999999997, 281.62, 771.8499999999999, 507.8399999999999, 524.9200000000001, 265.76000000000005, 403.3, 216.3, 517.53, 622.43, 137.0, 511.82, 414.04, 396.87, 376.63999999999993, 622.88, 302.20000000000005, 605.58, 513.2, 208.65, 546.81, 98.42, 148.86, 267.1600000000001, 306.84000000000003, 1487.6, 344.13999999999993, 215.71999999999997, 161.67000000000002, 394.71999999999997, 309.35999999999996, 329.6000000000001, 218.51999999999995, 503.59999999999997, 285.55999999999995, 621.6600000000001, 166.07999999999998, 196.0, 551.0400000000001, 184.39999999999998, 239.41, 338.95000000000005, 417.95000000000005, 885.1899999999999, 303.96999999999997, 168.24, 355.11, 674.52, 287.59000000000003, 371.88, 1143.2699999999998, 245.81000000000003, 283.4699999999999, 278.74, 1117.9, 106.1, 350.38999999999993, 512.31, 36.559999999999995, 35.400000000000006, 110.21, 605.8000000000001, 252.8, 329.65, 428.18, 458.91999999999996, 602.0900000000001, 244.10000000000002, 98.0, 256.32, 152.06, 110.38, 191.66999999999993, 243.27999999999997, 311.01, 397.29, 212.54000000000002, 145.79000000000002, 304.56, 77.50000000000001, 176.67999999999998, 557.3, 111.67999999999999, 508.4599999999999, 102.83, 123.07, 277.35, 582.59, 337.03999999999996, 353.19000000000005, 288.14, 811.45, 152.68, 630.84, 166.42, 523.0, 122.14, 389.78, 115.30999999999999, 230.64999999999998, 97.97000000000001, 300.0200000000001, 363.65, 170.16, 720.5200000000001, 814.0, 318.0, 453.0, 336.13, 343.45, 90.47999999999999, 689.9499999999999, 167.66999999999996, 580.05, 168.31, 113.48000000000002, 430.7, 673.1, 206.83, 931.4999999999999, 1019.52, 179.33999999999997, 612.0799999999999, 371.62000000000006, 530.1500000000001, 638.0600000000002, 104.0, 476.35, 632.0700000000002, 49.8, 973.8399999999999, 163.8, 139.10000000000002, 248.42, 662.08, 443.0, 592.97, 422.58000000000004, 596.0999999999999, 95.34, 349.27000000000004, 283.15000000000003, 204.0, 175.92000000000002, 335.8599999999999, 178.05]}, {\"marker\": {\"color\": \"red\", \"line\": {\"width\": 1}, \"opacity\": 0.9, \"size\": 11}, \"mode\": \"markers\", \"name\": \"Gold\", \"type\": \"scatter\", \"x\": [46, 5, 25, 38, 27, 113, 34, 52, 91, 51, 78, 110, 46, 107, 47, 13, 42, 71, 82, 82, 22, 72, 28, 30, 106, 47, 99, 75, 30, 97, 17, 109, 19, 20, 20, 31, 27, 59, 47, 40, 40, 26, 45, 10, 71, 27, 48, 28, 35, 76, 48, 2, 22, 73, 18, 21, 159, 24, 20, 58, 47, 76, 79, 55, 44, 98, 63, 46, 23, 4, 74, 15, 85, 79, 79, 42, 65, 46, 43, 72, 79, 63, 46, 149, 90, 21, 66, 43, 58, 36, 31, 67, 25, 23, 13, 38, 91, 96, 46, 85, 37, 31, 54, 2, 81, 54, 72, 26, 78, 20, 106, 25, 21, 17, 53, 21, 51, 54, 42, 40, 51, 32, 42, 37, 53, 97, 35, 43, 38, 28, 24, 19, 28, 78, 29, 74, 49, 46, 59, 46, 27, 41, 86, 58, 79, 69, 86, 35, 65, 18, 59, 44, 38, 27, 6, 66, 25, 87, 98, 124, 51, 34, 33, 82, 49, 83, 85, 46, 23, 53, 21, 58, 99, 43, 98, 74, 44, 81, 92, 11, 62, 63, 101, 40, 28, 63, 56, 16, 104, 53, 65, 53, 28, 48, 105, 43, 28, 85, 42, 20, 63, 43, 33, 34, 41, 72, 28, 24, 76, 25, 70, 15, 208, 57, 45, 39, 60, 96, 40, 93, 55, 20, 55, 101, 93, 81, 23, 61, 36, 27, 27, 19, 43, 26, 33, 30, 41, 27, 58, 45, 35, 137, 25, 92, 28, 54, 16, 13, 41, 39, 47, 30, 42, 20, 66, 39, 31, 89, 66, 92, 6, 32, 54, 56, 80, 52, 42, 65, 153, 69, 35, 74, 34, 10, 72, 15, 44, 46, 26, 40, 11, 26, 49, 52, 48, 41, 108, 52, 29, 52, 58, 29, 42, 42, 39, 37, 44, 24, 67, 60, 118, 40, 50, 35, 79, 42, 108, 75, 53, 52, 55, 64, 32, 27, 33, 26, 21, 71, 60, 31, 47, 33, 55, 69, 46, 131, 59, 45, 73, 20, 73, 54, 194, 43, 97, 27, 1, 12, 93, 70, 20, 109, 62, 37, 180, 130, 90, 43, 29, 42, 10, 47, 46, 96, 57, 73, 18, 17, 18, 229, 64, 32, 111, 69, 33, 235, 24, 100, 164, 152, 53, 50, 16, 53, 24, 41, 28, 26, 102, 29, 99, 90, 170, 132, 61, 50, 68, 22, 28, 25, 71, 55, 37, 52, 45, 17, 54, 89, 26, 69, 89, 41, 38, 71, 52, 60, 35, 30, 44, 12, 47, 53, 63, 48, 29, 29, 42, 28, 66, 60, 48, 98, 47, 47, 53, 6, 23, 20, 30, 87, 77, 45, 57, 78, 44, 63, 19, 55, 85, 59, 27, 83, 38, 34, 32, 72, 4, 61, 26, 77, 158, 144, 20, 128, 31, 72, 61, 35, 48, 52, 127, 130, 97, 57, 42, 82, 104, 70, 26, 42, 27, 49, 47, 33, 57, 47, 25, 8, 35, 69, 35, 84, 21, 28, 82, 102, 52, 29, 80, 26, 91, 20, 22, 29, 103, 63, 19, 51, 1, 32, 69, 37, 9, 52, 35, 58, 143, 50, 89, 44, 47, 77, 82, 11, 63, 41, 20, 58, 39, 7, 23, 58, 47, 33, 95, 42, 57, 13, 86, 17, 26, 20, 63, 29, 44, 95, 27, 194, 53, 99, 39, 53, 82, 62, 60, 30, 58, 157, 57, 52, 24, 77, 76, 11, 46, 50, 35, 15, 97, 92, 18, 57, 83, 41, 61, 29, 56, 20, 27, 31, 57, 104, 168, 45, 51, 44, 9, 24, 77, 22, 52, 67, 77, 60, 45, 3, 100, 16, 64, 49, 60, 25, 238, 52, 32, 21, 47, 48, 116, 33, 33, 53, 19, 18, 86, 55, 35, 118, 128, 91, 32, 70, 26, 62, 192, 45, 61, 10, 20, 35, 12, 8, 98, 119, 64, 31, 48, 208, 35, 89, 41, 49, 62, 33, 68, 51, 39, 68, 54, 50, 62, 47, 22, 97, 80, 20, 40, 76, 105, 49, 51, 30, 143, 74, 76, 29, 19, 41, 91, 42, 28, 84, 20, 49, 43, 37, 52, 130, 9, 33, 90, 94, 28, 64, 28, 100, 55, 26, 65, 6, 71, 39, 83, 84, 70, 68, 180, 33, 21, 21, 31, 39, 51, 67, 39, 76, 48, 16, 30, 212, 38, 40, 78, 35, 37, 31, 35, 18, 29, 18, 20, 34, 69, 23, 58, 28, 45, 31, 67, 57, 98, 63, 19, 66, 46, 41, 44, 97, 137, 96, 47, 37, 46, 51, 91, 90, 69, 18, 61, 45, 54, 17, 27, 4, 42, 37, 69, 19, 37, 118, 18, 39, 153, 47, 38, 57, 28, 34, 81, 18, 76, 228, 97, 111, 32, 102, 59, 88, 34, 83, 210, 82, 73, 63, 45, 54, 71, 51, 18, 84, 63, 99, 82, 182, 170, 35, 53, 18, 42, 29, 39, 56, 50, 11, 84, 86, 4, 35, 156, 77, 4, 31, 55, 32, 84, 52, 57, 31, 19, 18, 87, 57, 42, 28, 27, 85, 29, 66, 33, 29, 48, 64, 69, 50, 34, 62, 16, 53, 20, 6, 98, 44, 30, 62, 60, 123, 27, 79, 93, 43, 151, 82, 28, 53, 42, 95, 25, 170, 89, 54, 145, 48, 76, 60, 155, 76, 60, 103, 67, 28, 26, 28, 23, 63, 20, 19, 52, 26, 39, 26, 135, 99, 162, 44, 60, 93, 57, 143, 327, 83, 54, 44, 62, 57, 42, 86, 16, 101, 31, 42, 41, 87, 3, 12, 37, 23, 49, 44, 52, 74, 16, 153, 22, 28, 30, 75, 70, 6, 65, 43, 92, 83, 62, 99, 78, 62, 64, 25, 28, 64, 52, 187, 74, 65, 90, 39, 35, 260, 35, 20, 13, 67, 54, 63, 80, 128, 61, 32, 29, 96, 57, 103, 63, 47, 47, 69, 36, 29, 19, 40, 31, 55, 69, 57, 87, 112, 78, 124, 127, 80, 69, 94, 45, 69, 51, 66, 55, 24, 9, 73, 33, 543, 183, 87, 27, 8, 16, 45, 29, 87, 57, 83, 51, 47, 78, 27, 92, 38, 113, 41, 6, 30, 30, 26, 43, 48, 54, 36, 19, 19, 54, 27, 41, 78, 181, 27, 5, 28, 38, 127, 52, 20, 87, 45, 33, 19, 47, 75, 25, 145, 49, 106, 34, 27, 46, 49, 25, 50, 35, 214, 23, 50, 83, 55, 59, 100, 26, 33, 39, 70, 35, 40, 51, 91, 52, 44, 82, 19, 43, 18, 15, 30, 46, 35, 55, 23, 29, 50, 10, 40, 67, 35, 43, 25, 19, 75, 21, 53, 156, 82, 134, 58, 82, 140, 43, 33, 48, 23, 61, 61, 56, 1, 51, 297, 24, 15, 79, 44, 46, 26, 64, 67, 193, 114, 34, 39, 59, 80, 94, 23, 145, 5, 39, 65, 90, 21, 77, 19, 71, 20, 104, 68, 23, 38, 81, 93, 58, 60, 22, 30, 46, 112, 53, 96, 19, 121, 47, 19, 37, 73, 2, 73, 2, 36, 70, 41, 38, 46, 26, 378, 74, 36, 47, 20, 38, 61, 37, 38, 21, 34, 24, 37, 131, 38, 54, 31, 74, 97, 44, 68, 45, 141, 68, 32, 42, 26, 31, 64, 30, 124, 49, 88, 78, 47, 16, 98, 134, 21, 61, 46], \"y\": [948.8800000000002, 1759.5, 430.15, 6814.640000000001, 383.03000000000003, 2726.77, 1118.99, 325.96, 871.5399999999998, 1050.8899999999999, 1957.1000000000004, 1324.5000000000002, 1106.4, 1607.0600000000002, 854.99, 1463.0399999999997, 703.47, 1175.2199999999998, 1378.3999999999999, 380.47, 372.8, 509.58, 164.23000000000002, 933.7000000000002, 607.53, 11581.800000000001, 913.54, 683.9000000000001, 604.5099999999999, 1603.99, 329.85, 771.91, 1660.9, 7374.9, 372.2199999999999, 503.76000000000005, 414.75999999999993, 1226.89, 789.8899999999999, 689.9000000000001, 975.36, 6912.0, 661.3200000000002, 1247.5, 1010.1800000000002, 921.88, 881.07, 908.46, 629.31, 1214.41, 470.79999999999995, 344.0, 919.6100000000001, 3613.6299999999997, 303.75, 345.82000000000005, 7832.470000000001, 1927.3200000000002, 1098.48, 1531.6200000000003, 786.54, 984.9100000000001, 1197.81, 922.39, 1073.2999999999997, 1793.5800000000002, 962.39, 423.72, 307.0899999999999, 712.8000000000001, 1257.8700000000003, 486.22, 971.7600000000002, 1201.06, 1688.2899999999997, 1021.48, 791.3299999999999, 468.40999999999997, 353.65000000000003, 492.84000000000003, 1575.89, 911.9400000000002, 870.0900000000001, 1223.9, 1520.58, 819.29, 847.4100000000001, 605.1199999999999, 1031.0700000000002, 744.85, 700.7299999999999, 663.6500000000001, 501.11999999999995, 711.41, 399.51, 698.5799999999999, 2107.6600000000003, 217.38, 542.73, 814.86, 1132.14, 578.9399999999999, 873.74, 360.0, 618.09, 1385.51, 1132.0300000000002, 598.57, 1555.32, 640.7600000000001, 1548.6999999999998, 199.48, 787.8499999999999, 789.0, 1140.93, 350.9, 795.1200000000001, 860.12, 775.8499999999999, 979.12, 743.5300000000001, 674.7, 768.2400000000001, 778.65, 1019.76, 572.56, 677.1, 1360.99, 1544.1299999999999, 1003.0600000000002, 1390.5, 712.5, 640.83, 1624.2100000000003, 582.6, 218.46999999999997, 679.4499999999999, 1269.1, 1129.1400000000003, 1058.3400000000001, 1445.0000000000002, 674.6800000000001, 1431.7800000000002, 1238.47, 1454.5800000000002, 1122.4099999999999, 1215.8199999999997, 653.3299999999999, 1166.77, 291.99999999999994, 891.12, 1389.4100000000003, 659.4399999999998, 680.1800000000001, 628.78, 210.30999999999995, 1280.8500000000001, 291.40999999999997, 626.99, 682.4100000000001, 918.1999999999999, 584.06, 174.36999999999998, 1799.33, 777.53, 1749.0200000000004, 373.74999999999994, 732.07, 467.0400000000001, 781.03, 379.65000000000003, 1117.1299999999997, 693.32, 280.53999999999996, 678.0100000000001, 1171.7999999999997, 544.1800000000001, 747.7800000000001, 1638.47, 3070.42, 1071.03, 949.12, 810.5, 1033.3400000000001, 519.44, 1095.08, 932.97, 382.14, 1573.1999999999998, 897.76, 396.91999999999996, 1488.32, 711.86, 806.41, 1079.3400000000001, 799.9, 524.1400000000001, 2375.41, 1079.6599999999999, 333.48, 1016.1400000000001, 752.6, 491.86000000000007, 668.4300000000001, 1341.6, 1156.36, 948.2499999999999, 1647.26, 1186.28, 659.41, 1070.65, 1714.9599999999998, 1521.7600000000002, 360.01000000000005, 348.79999999999995, 688.8600000000001, 4599.42, 632.0, 957.66, 412.05, 834.57, 361.62, 865.0600000000002, 1537.95, 1595.4800000000002, 2651.4599999999996, 1090.1399999999999, 1015.29, 1281.53, 632.97, 564.6200000000001, 388.52, 740.9499999999999, 332.64000000000004, 626.45, 1212.8400000000004, 678.25, 464.57, 1237.53, 568.55, 745.0600000000001, 3251.071, 439.92, 598.1999999999999, 413.59, 869.8699999999998, 920.51, 320.46000000000004, 1266.08, 2043.0800000000002, 529.7299999999999, 962.1899999999999, 695.6099999999999, 917.34, 1421.61, 642.8000000000001, 584.0699999999999, 651.8199999999999, 1428.0200000000002, 1560.3799999999994, 1659.75, 1308.6100000000001, 746.3599999999999, 225.36, 1353.74, 374.7, 499.4200000000001, 1049.37, 934.52, 194.42, 5976.790000000001, 1266.23, 597.9100000000001, 692.85, 1382.7399999999998, 706.1300000000001, 709.7099999999999, 637.5000000000002, 415.81999999999994, 915.1300000000001, 3742.2, 658.64, 621.29, 1345.62, 432.88, 507.65999999999997, 1110.52, 2445.9100000000003, 1631.7700000000004, 574.84, 363.79, 450.8400000000001, 559.4100000000001, 853.3900000000001, 701.4, 747.4400000000002, 161.02999999999994, 466.70000000000005, 1004.3800000000001, 991.1300000000001, 1050.1200000000001, 1547.2, 925.71, 1462.7200000000003, 3144.86, 890.3400000000001, 1693.4499999999998, 1474.0600000000002, 969.06, 1163.45, 1516.24, 1119.7400000000002, 595.25, 1910.0100000000002, 2093.3199999999997, 866.3100000000001, 668.5600000000002, 889.9300000000002, 1021.58, 133.5, 1078.9600000000003, 701.23, 912.1800000000001, 3717.35, 348.1, 626.07, 1247.69, 1043.46, 487.99000000000007, 1475.8100000000002, 2157.73, 2059.4500000000003, 1105.07, 770.0300000000001, 1496.98, 813.1100000000001, 322.08, 1372.8, 1420.2, 1163.2300000000002, 375.35, 662.59, 264.44, 1837.92, 2103.0599999999995, 1058.62, 598.76, 461.19000000000005, 547.6600000000001, 925.8499999999999, 1309.6000000000001, 165.75, 1064.2800000000002, 1383.18, 276.42, 1055.35, 330.45000000000005, 974.54, 364.21999999999997, 620.04, 932.8500000000001, 537.48, 1461.6500000000003, 1080.76, 1530.3600000000001, 1653.42, 168.63, 1042.2600000000002, 570.4599999999999, 617.99, 379.8299999999999, 221.97, 553.44, 899.63, 671.9599999999999, 1006.98, 609.8500000000001, 830.76, 654.5999999999999, 247.14999999999998, 637.8900000000001, 1835.6999999999998, 1269.9900000000002, 411.53000000000003, 765.55, 371.7, 591.5500000000001, 318.16999999999996, 1126.37, 917.07, 867.3800000000001, 329.67999999999995, 663.8100000000002, 718.08, 380.02000000000004, 1164.55, 1314.45, 1448.2099999999998, 1099.98, 1220.2600000000002, 1415.75, 638.05, 738.9599999999998, 1484.06, 876.42, 1011.8999999999999, 730.8599999999999, 679.4399999999998, 845.55, 353.27, 554.6500000000001, 778.5, 1110.3400000000001, 657.8, 507.28999999999996, 1127.7100000000003, 697.55, 511.3499999999999, 1311.38, 1173.12, 841.2, 522.38, 1465.3199999999997, 706.1900000000002, 761.5899999999999, 1862.0, 655.7499999999999, 332.66, 434.35, 1227.43, 1268.98, 1610.1499999999996, 977.77, 1316.0700000000002, 749.1, 1101.97, 371.2, 289.82000000000005, 336.16999999999996, 695.4199999999998, 221.26999999999998, 599.0, 191.32, 1592.06, 1314.4499999999998, 790.86, 326.4, 233.23000000000002, 546.2, 490.52000000000004, 1246.3200000000002, 502.09000000000003, 308.94, 423.04, 496.21, 377.01, 469.0, 1066.15, 627.1300000000001, 4959.1, 465.5499999999999, 705.49, 384.05, 987.86, 893.59, 1744.76, 553.36, 1109.5300000000002, 982.07, 748.87, 773.03, 880.8499999999999, 895.61, 504.79999999999995, 1160.0699999999997, 1370.6, 248.07999999999998, 317.53, 703.3599999999999, 1027.44, 996.1, 1567.4799999999998, 340.11, 457.72, 1633.7799999999997, 1471.0, 977.93, 982.4199999999998, 2354.25, 498.74000000000007, 1327.16, 301.29, 329.25, 304.4699999999999, 843.0499999999998, 406.76, 411.41, 1044.3200000000002, 3861.0, 1079.6100000000001, 1236.54, 653.24, 420.3, 894.41, 734.9399999999999, 1219.4, 2247.51, 1071.99, 2515.84, 740.78, 890.85, 1810.77, 1506.12, 1717.36, 721.94, 615.14, 486.69, 939.78, 641.94, 4507.01, 694.4000000000002, 1174.35, 924.85, 312.62, 2748.3100000000004, 679.68, 1049.7, 714.9599999999999, 574.0699999999999, 2020.52, 563.9399999999999, 393.53999999999996, 777.0200000000002, 913.1900000000002, 602.5100000000001, 1877.5900000000004, 2007.4, 3703.29, 510.71000000000004, 1358.88, 774.9, 950.36, 397.35, 383.68, 974.5200000000001, 429.84, 538.7299999999999, 1048.85, 334.53000000000003, 524.88, 538.5500000000001, 469.4799999999999, 371.5600000000001, 1771.2, 1441.4199999999998, 1134.28, 659.4599999999998, 1262.2, 3610.96, 1000.2700000000001, 343.5, 398.84000000000003, 807.57, 538.46, 575.6300000000002, 436.05999999999995, 437.23, 473.65, 800.5899999999999, 1375.71, 650.4300000000001, 607.45, 702.25, 940.6700000000001, 348.59999999999997, 682.9100000000001, 913.6800000000001, 388.58, 1406.5900000000001, 324.57, 761.74, 1198.23, 2920.16, 1093.68, 776.8510000000002, 336.40000000000003, 1553.1799999999998, 1293.03, 1534.26, 675.8000000000001, 1186.35, 724.76, 812.9999999999999, 612.01, 646.3, 922.5300000000001, 748.5, 1024.1, 2242.01, 684.34, 657.23, 1426.16, 239.76, 309.6499999999999, 696.6799999999998, 1060.56, 330.87999999999994, 1118.81, 598.73, 507.08, 415.25, 1120.88, 1339.45, 1094.59, 532.96, 714.4200000000001, 1086.9200000000003, 635.6800000000001, 345.46000000000004, 220.85, 965.6099999999999, 2207.4, 884.14, 699.0799999999999, 1063.95, 784.5799999999999, 903.9000000000001, 3734.9700000000003, 515.77, 1391.98, 1801.14, 2100.6, 570.9599999999999, 885.4699999999999, 1654.3100000000002, 636.1399999999998, 576.0, 801.76, 836.7900000000001, 954.09, 1048.49, 1224.06, 389.2699999999999, 238.85, 712.24, 1936.3200000000004, 895.13, 354.09000000000003, 343.28, 396.47999999999996, 351.11000000000007, 164.67999999999998, 639.8900000000001, 1107.4600000000003, 6115.009999999999, 1708.24, 364.72, 708.22, 806.5699999999999, 428.89000000000004, 470.76000000000005, 418.83, 666.0999999999999, 1098.78, 2398.8599999999997, 1142.4199999999998, 792.1100000000001, 1060.68, 12393.699999999999, 478.78000000000003, 992.7100000000002, 1415.29, 408.90000000000003, 251.24, 439.65999999999997, 548.94, 758.9199999999998, 471.78, 1313.5500000000002, 3166.4, 1197.2700000000002, 773.99, 1340.7, 1511.9500000000003, 783.9000000000001, 664.85, 1459.8600000000001, 852.15, 326.24, 1352.0000000000002, 1317.62, 1121.3899999999999, 817.86, 2005.63, 731.8999999999997, 1290.6999999999998, 842.5, 423.36, 1309.14, 867.1099999999999, 684.42, 656.25, 3506.540000000001, 618.09, 709.3800000000002, 635.4100000000001, 725.1800000000001, 280.52000000000004, 1829.0399999999997, 656.6899999999999, 1025.44, 822.48, 1140.2100000000003, 1009.55, 1037.5900000000001, 6617.65, 1158.79, 529.4100000000001, 981.8599999999999, 405.71, 761.38, 537.0600000000001, 394.38, 664.26, 2262.6199999999994, 690.3399999999999, 1062.75, 864.86, 846.72, 1295.3, 1010.5999999999998, 990.8799999999999, 867.3099999999998, 409.1, 1522.75, 1413.66, 1800.0700000000002, 1035.45, 861.8899999999999, 667.6500000000001, 1141.2399999999996, 2062.0600000000004, 598.1999999999999, 2560.0, 706.57, 616.26, 1341.65, 328.15, 326.74999999999994, 428.67999999999995, 594.24, 251.91, 549.07, 370.47999999999996, 575.4100000000001, 1116.47, 494.44, 658.88, 734.77, 327.3, 497.42999999999995, 1320.56, 367.92999999999995, 473.03, 1780.59, 668.3599999999998, 555.89, 317.2, 1382.0699999999997, 1555.3400000000001, 1486.9, 1705.8, 408.57, 163.07, 214.64999999999998, 210.34999999999997, 1051.4, 972.23, 346.12, 654.6700000000001, 230.51000000000002, 1841.18, 1422.4, 650.4300000000001, 762.3900000000001, 300.83, 769.29, 220.62, 363.65, 498.79999999999995, 731.5, 1351.63, 826.5299999999999, 400.86, 1431.9299999999998, 484.38, 777.6, 874.5899999999999, 1046.57, 1244.59, 6748.8, 593.75, 548.97, 922.12, 5719.82, 837.0999999999999, 841.4100000000001, 511.12, 1077.74, 614.6600000000001, 1421.69, 1009.6, 663.61, 936.0799999999998, 330.03000000000003, 360.15999999999997, 528.0799999999999, 1187.6599999999999, 500.42, 813.4800000000001, 810.5699999999999, 417.73, 1154.4700000000003, 1257.51, 688.33, 833.78, 1267.6499999999999, 570.13, 306.71999999999997, 1692.27, 319.60999999999996, 1770.3400000000001, 1027.9999999999998, 324.24, 482.01, 531.3499999999999, 656.6300000000001, 3029.8700000000003, 1161.53, 589.1499999999999, 781.02, 743.11, 603.7499999999999, 650.51, 836.06, 623.9300000000001, 1764.7199999999998, 1496.83, 1501.3799999999999, 478.0899999999999, 770.1, 661.52, 388.2800000000001, 425.19, 597.4799999999999, 1619.73, 536.99, 801.4900000000001, 1121.59, 547.0699999999999, 460.64, 775.1800000000001, 325.90999999999997, 1264.19, 342.45000000000005, 328.40000000000003, 747.8100000000001, 502.8, 705.12, 429.84000000000003, 1578.67, 525.5400000000001, 508.81, 1706.88, 373.24, 579.7700000000003, 621.6800000000001, 576.2600000000001, 2596.4500000000003, 846.75, 380.54999999999995, 563.23, 950.9300000000001, 262.68, 1178.56, 1277.7500000000002, 308.74, 507.05, 439.43, 650.4100000000001, 357.21, 1078.9600000000003, 1873.2, 1133.25, 1456.9600000000003, 484.82, 1493.7300000000002, 1412.9400000000003, 889.9299999999998, 586.3299999999999, 920.1, 890.2900000000001, 380.35, 1030.14, 745.5200000000001, 1267.32, 1081.57, 948.48, 1100.8999999999999, 925.35, 413.74999999999994, 1356.3300000000002, 1179.8899999999999, 5232.23, 1461.14, 859.35, 312.14, 841.0799999999999, 378.20000000000005, 290.15999999999997, 1405.78, 1566.65, 1324.1599999999999, 971.74, 665.7799999999999, 837.4999999999997, 606.91, 1004.75, 749.78, 251.69999999999993, 319.0, 1266.97, 835.7800000000002, 1443.69, 711.79, 796.03, 384.40000000000003, 1699.3000000000002, 1013.01, 692.2199999999999, 1564.56, 1069.1200000000001, 335.13000000000005, 939.3199999999999, 318.76000000000005, 3638.41, 421.52, 550.0600000000002, 314.69, 1135.04, 954.9, 282.19, 318.65000000000003, 384.52, 353.85999999999996, 272.44, 298.41, 603.37, 562.9000000000002, 310.64, 1065.3500000000001, 1703.4100000000003, 153.92000000000002, 556.95, 131.78, 197.63000000000002, 1384.85, 2328.84, 2600.34, 1200.6200000000001, 523.11, 2027.87, 781.3599999999999, 537.7400000000001, 587.15, 1740.0, 1393.06, 388.13999999999993, 488.20000000000005, 423.88999999999993, 646.9200000000001, 404.66, 199.28999999999996, 261.11, 784.1099999999999, 7330.8, 696.4100000000001, 653.38, 2200.42, 778.9399999999999, 778.0, 463.46, 598.83, 698.41, 759.1700000000001, 365.76, 303.15999999999997, 541.53, 486.71999999999997, 1737.7, 316.49999999999994, 675.6899999999999, 763.28, 1125.0700000000002, 710.29, 497.56000000000006, 1138.0, 689.0999999999999, 558.9599999999999, 2997.03, 1145.84, 308.48, 639.02, 723.21, 652.74, 1195.9, 939.37, 897.62, 578.9, 645.96, 930.41, 483.26, 541.4599999999999, 854.9500000000002, 167.61999999999998, 454.01, 380.59999999999997, 448.8999999999999, 1242.3000000000002, 1133.07, 1240.2, 993.1800000000001, 388.78999999999996, 2044.37, 193.42000000000002, 390.07000000000005, 1379.8999999999999, 527.0500000000001, 528.3300000000002, 1324.8400000000001, 547.0600000000001, 712.29, 1008.39, 1797.5, 868.49, 1207.56, 1674.6900000000003, 595.42, 604.64, 728.1599999999999, 347.75, 1992.1100000000001, 740.9399999999998, 765.3400000000001, 798.74, 385.1, 522.91, 1195.94, 3276.4, 1033.0, 1240.11, 692.1899999999999, 700.63, 377.44, 712.78, 818.82, 271.20000000000005, 182.76999999999998, 1225.4099999999999, 658.57, 1865.19, 323.04, 697.9000000000001, 1285.04, 546.04, 387.68, 3704.87, 398.69999999999993, 155.37000000000003, 350.63999999999993, 338.79999999999995, 2033.1, 901.2, 5391.210000000001, 114.34, 1418.0300000000002, 1197.1000000000004, 1859.1600000000003, 683.4600000000002, 379.45, 190.19, 726.05, 1119.81, 566.6, 800.24, 366.23, 411.59999999999997, 336.43, 341.28000000000003, 1304.0400000000002, 826.52, 843.0, 1740.4799999999998, 408.36, 1331.57, 704.25, 389.84, 4106.4400000000005, 482.2, 1008.5400000000003, 471.69999999999993, 1098.4299999999998, 634.9499999999999, 201.11999999999998, 678.49, 382.06000000000006, 417.22999999999996, 249.71999999999997, 444.68, 2116.19, 120.03000000000002, 422.87999999999994, 730.4000000000002, 405.62, 357.2, 559.51, 189.39999999999998, 306.46, 396.33000000000004, 3877.5199999999995, 1231.5, 703.37, 4055.7199999999993, 2106.52, 3017.3, 223.64999999999998, 754.6400000000001, 236.3, 352.69000000000005, 1418.03, 320.71999999999997, 589.44, 348.73, 681.9100000000001, 784.3299999999998, 1000.1600000000001, 566.5800000000002, 653.3499999999999, 399.18999999999994, 453.4, 399.65, 1384.86, 1169.94, 980.3100000000001, 1231.31, 2106.8400000000006, 1341.42, 1590.81, 382.7999999999999, 1090.2400000000002, 957.9699999999999, 689.1300000000001, 1396.9900000000002, 517.3599999999999, 600.07, 481.74999999999994, 621.7500000000001, 1041.6100000000001, 779.9, 2083.2699999999995, 882.24, 1561.6100000000001, 2232.4900000000002, 804.02, 4314.72, 526.6700000000001, 2643.2, 324.24, 1213.1599999999999, 801.5100000000001]}, {\"marker\": {\"color\": \"black\", \"line\": {\"width\": 1}, \"opacity\": 0.9, \"size\": 13}, \"mode\": \"markers\", \"name\": \"Platinum\", \"type\": \"scatter\", \"x\": [103, 199, 59, 91, 56, 175, 123, 314, 420, 103, 314, 538, 154, 116, 63, 91, 75, 24, 50, 107, 50, 720, 45, 84, 82, 129, 62, 120, 116, 215, 23, 63, 79, 180, 238, 95, 151, 305, 76, 64, 61, 339, 404, 89, 219, 110, 176, 458, 131, 99, 43, 172, 136, 403, 69, 425, 112, 358, 1028, 155, 423, 572, 304, 145, 201, 120, 235, 140, 127, 704, 170, 135, 319, 86, 87, 121, 131, 314, 265, 94, 181, 110, 226, 119, 57, 321, 56, 142, 108, 32, 611, 207, 141, 1677, 187, 211, 440, 316, 187, 59, 81, 107, 62, 87, 124, 476, 75, 108, 268, 134, 119, 166, 60, 128, 158, 172, 152, 51, 155, 478, 304, 104, 127, 157, 67, 101, 167, 195, 71, 443, 63, 382, 99, 302, 260, 109, 422, 48, 42, 162, 44, 115, 141, 436, 172, 223, 296, 179, 109, 136, 175, 176, 341, 126, 83, 174, 87, 128, 166, 247, 226, 201, 59, 71, 146, 188, 146, 79, 96, 166, 108, 470, 195, 57, 39, 90, 197, 134, 336, 102, 60, 104, 196, 191, 321, 342, 142, 117, 368, 135, 119, 177, 197, 115, 31, 349, 137, 76, 46, 74, 174, 206, 110, 76, 139, 33, 307, 115, 336, 104, 165, 178, 65, 142, 59, 110, 118, 149, 122, 148, 117, 49, 45, 160, 20, 152, 626, 149, 338, 111, 107, 351, 234, 84, 121, 155, 86, 208, 171, 84, 243, 250, 143, 235, 209, 488, 210, 1106, 284, 202, 111, 324, 43, 181, 450, 214, 105, 250, 79, 123, 156, 160, 34, 159, 167, 52, 200, 134, 47, 66, 210, 1204, 149, 327, 165, 240, 65, 265, 259, 579, 87, 102, 112, 108, 59, 100, 193, 67, 175, 115, 159, 112, 141, 111, 78, 106, 111, 143, 156, 280, 47, 101, 237, 100, 61, 62, 143, 105, 180, 117, 87, 101, 123, 259, 162, 90, 129, 118, 524, 140, 186, 286, 350, 87, 182, 103, 107, 590, 124, 206, 222, 224, 144, 382, 55, 51, 293, 258, 970, 240, 72, 281, 144, 144, 120, 193, 194, 624, 164, 107, 799, 316, 68, 101, 203, 291, 972, 216, 62, 519, 330, 76, 72, 114, 399, 366, 48, 113, 216, 74, 423, 127, 270, 123, 330, 383, 197, 102, 55, 86, 20, 92, 134, 122, 152, 172, 106, 199, 237, 49, 126, 253, 168, 573, 74, 102, 42, 258, 421, 327, 71, 130, 210, 115, 335, 347, 415, 196, 139, 357, 339, 237, 278, 501, 147, 202, 194, 60, 59, 235, 102, 135, 1090, 117, 46, 80, 1141, 385, 235, 255, 121, 67, 108, 138, 145, 130, 388, 143, 127, 58, 99, 144, 71, 124, 73, 498, 55, 116, 96, 355, 69, 165, 170, 138, 312, 198, 160, 216, 115, 1119, 182, 472, 135, 562, 155, 111, 510, 394, 1502, 453, 206, 78, 143, 71, 114, 276, 237, 121, 155, 54, 440, 145, 108, 101, 100, 100, 197, 45, 79, 106, 127, 84, 73, 68, 217, 67, 343, 271, 55, 125, 710, 110, 93, 91, 212, 310, 142, 42, 110, 166, 117, 125, 99, 49, 78, 110, 350, 111, 53, 41, 274, 47, 139, 88, 204, 103, 194, 192, 243, 225, 519, 551, 114, 94, 132, 117, 36, 302, 84, 85, 73, 50, 153, 122, 192, 292, 306, 55, 329, 382, 219, 286, 97, 98, 188, 86, 154, 297, 125, 512, 68, 213, 164, 160, 308, 178, 214, 185, 178, 163, 672, 108, 228, 256, 259, 702, 115, 899, 113, 53, 323, 215, 150, 123, 103, 410, 47, 43, 423, 185, 155, 167, 484, 119, 90, 78, 155, 114, 202, 110, 78, 166, 78, 171, 237, 117, 214, 288, 53, 937, 69, 302, 72, 173, 88, 93, 293, 411, 141, 180, 43, 83, 267, 206, 75, 133, 263, 301, 133, 72, 123, 115, 273, 167, 138, 140, 645, 191, 142, 546, 147, 461, 128, 120, 129, 86, 116, 74, 150, 249, 267, 155, 115, 60, 98, 98, 183, 122, 35, 176, 65, 97, 113, 270, 140, 552, 506, 103, 218, 385, 212, 139, 145, 182, 235, 160, 46, 101, 1137, 312, 121, 64, 102, 129, 227, 167, 63, 57, 48, 31, 354, 284, 117, 89, 339, 117, 224, 117, 89, 130, 474, 98, 85, 125, 84, 162, 218, 295, 134, 179, 111, 123, 84, 134, 135, 662, 294, 123, 270, 135, 124, 258, 133, 107, 166, 109, 118, 79, 162, 151, 319, 319, 153, 45, 77, 92, 235, 94, 109, 66, 662, 106, 53, 51, 130, 118, 125, 108, 330, 186, 172, 232, 102, 369, 372, 109, 132, 282, 174, 111, 202, 135, 236, 148, 360, 146, 97, 95, 136, 169, 113, 290, 183, 177, 45, 981, 251, 207, 460, 126, 216, 62, 172, 276, 96, 179, 117, 152, 94, 118, 69, 261, 73, 208, 160, 252, 114, 89, 163, 585, 62, 308, 144, 270, 402, 22, 447, 624, 199, 201, 225, 185, 269, 660, 125, 191, 242, 357, 449, 69, 42, 706, 222, 255, 158, 333, 190, 93, 320, 285, 164, 149, 449, 324, 86, 189, 47, 165, 266, 116, 378, 128, 137, 279, 112, 159, 178, 101, 203, 125, 79, 710, 208, 151, 547, 101, 128, 672, 209, 77, 898, 241, 305, 281, 249, 60, 54, 28, 89, 148, 407, 120, 129, 93, 169, 44, 217, 252, 234, 98, 102, 318, 316, 516, 296, 143, 140, 174, 77, 81, 162, 96, 115, 63, 195, 125, 48, 42, 418, 117, 127, 134, 27, 52, 478, 48, 81, 101, 229, 104, 144, 86, 73, 84, 237, 152, 211, 157, 274, 472, 208, 541, 105, 566, 400, 114, 292, 124, 142, 111, 102, 135, 57, 79, 66, 131, 473, 107, 200, 50, 753, 407, 500, 215, 71, 132, 411, 468, 111, 253, 418, 109, 28, 213, 213, 59, 82, 64, 66, 269, 206, 117, 271, 328, 134, 135, 277, 100, 111, 111, 215, 88, 82, 76, 109, 366, 105, 137, 82, 73, 253, 394, 88, 63, 152, 165, 299, 411, 440, 253, 201, 166, 213, 270, 560, 237, 576, 135, 312, 78, 50, 315, 123, 297, 157, 232, 259, 91, 158, 86, 117, 68, 53, 110, 227, 705, 78, 304, 118, 130, 286, 256, 115, 142, 74, 103, 382, 245, 274, 115, 192, 66, 165, 218, 690, 97, 47, 136, 193, 92, 741, 412, 95, 105, 310, 194, 190, 111, 408, 104, 61, 851, 141, 371, 220, 169, 121, 54, 199, 222, 148, 102, 370, 279, 145, 117, 109, 696, 31, 43, 485, 249, 329, 179, 296, 146, 166, 123, 191, 472, 127, 360, 46, 137, 470, 142, 227, 127, 89, 213, 108, 444, 1279, 364, 196, 70, 159, 43, 221, 140, 80, 189, 90, 119, 71, 159, 200, 134, 114, 272, 271, 242, 164, 86, 104, 61, 104, 175, 118, 42, 166, 756, 70], \"y\": [4196.009999999999, 4090.88, 942.34, 1474.72, 1018.71, 2612.8599999999997, 683.13, 5591.42, 4022.35, 1702.2600000000002, 2179.93, 4036.82, 1535.7700000000002, 17654.539999999997, 2919.81, 2178.67, 3075.0400000000004, 1662.3, 2483.6299999999997, 3006.1499999999996, 1335.19, 16587.09, 694.05, 2062.7, 42055.96, 2160.7, 1063.8999999999999, 1504.2700000000002, 2064.95, 4167.22, 1843.0, 1064.07, 1387.79, 4757.160000000001, 4017.54, 1856.63, 452.24000000000007, 11189.91, 1239.3799999999999, 6924.110000000001, 974.42, 9818.82, 5655.91, 1661.8400000000001, 4810.94, 3466.2799999999997, 3346.2799999999997, 7277.700000000001, 2616.38, 799.4800000000001, 676.99, 3237.54, 1835.9099999999999, 5836.860000000001, 1119.4900000000002, 4436.12, 729.2700000000001, 12627.939999999999, 28337.379999999997, 8910.819999999998, 6010.419999999999, 28882.44, 6424.089999999999, 1488.67, 12245.96, 2294.7799999999997, 3866.33, 2099.64, 2607.6099999999997, 3650.41, 5064.9400000000005, 2388.75, 3707.12, 1676.0600000000002, 1741.2199999999998, 1437.85, 1319.19, 2817.0299999999997, 5725.469999999999, 3957.7800000000007, 1701.29, 1797.78, 3401.24, 9817.119999999999, 869.4599999999999, 5891.61, 1197.42, 788.0799999999999, 2155.9499999999994, 6463.84, 2806.9700000000003, 1357.6000000000001, 1987.3, 7454.07, 3834.26, 4521.49, 3214.69, 5346.23, 2709.1200000000003, 2089.85, 2000.8599999999997, 1456.79, 775.94, 5977.7300000000005, 2273.6800000000003, 10845.55, 7121.95, 3627.77, 3536.8200000000006, 10736.48, 2543.7200000000007, 3090.7400000000002, 992.5, 2225.37, 3312.2500000000005, 3639.31, 4151.93, 797.9599999999999, 2520.0200000000004, 28117.04, 6127.43, 1851.08, 2626.3, 3641.3199999999997, 1006.7999999999998, 3809.89, 3408.0600000000004, 3539.3700000000003, 2043.72, 2976.15, 1766.72, 9646.57, 1083.71, 5704.969999999999, 2531.58, 1804.5600000000002, 8968.31, 2044.87, 1159.11, 2479.16, 979.72, 1791.56, 2128.42, 1093.65, 3964.88, 2287.51, 5870.08, 3448.29, 3740.0699999999997, 4149.280000000001, 605.06, 874.71, 2092.3199999999997, 6717.34, 1687.6000000000001, 2478.95, 1981.9199999999994, 2037.0800000000002, 697.0400000000001, 5153.67, 1131.88, 1610.46, 7792.360000000001, 2031.7800000000002, 2121.27, 1575.1599999999999, 2624.26, 1678.1200000000001, 1836.3400000000001, 2707.33, 2639.1700000000005, 6363.59, 3722.42, 827.83, 3119.44, 2504.13, 2265.12, 2308.0600000000004, 6328.05, 1445.0100000000002, 1041.68, 1980.56, 2885.2399999999993, 731.8999999999999, 3131.0199999999995, 2161.35, 5189.52, 3190.55, 17220.36, 2796.51, 2634.45, 1132.13, 25977.160000000003, 912.0, 2462.7899999999995, 37153.85, 2635.79, 1747.6600000000003, 1698.94, 2202.99, 691.7299999999999, 3385.6200000000003, 8109.52, 1245.9, 2209.36, 3192.54, 3104.95, 2770.94, 6403.25, 1786.79, 3219.7700000000004, 17159.52, 1191.13, 2674.48, 787.6000000000001, 1883.8100000000004, 2593.0699999999997, 2867.2, 2369.55, 2580.91, 1838.85, 839.14, 5112.96, 2427.3199999999997, 3515.6799999999994, 1026.42, 9053.939999999999, 2758.26, 2526.2799999999997, 1871.81, 2603.4300000000003, 7060.13, 4147.96, 855.9700000000001, 3466.3600000000006, 2313.1400000000003, 1393.69, 3901.81, 4582.639999999999, 2874.72, 2360.0899999999997, 17286.86, 2975.59, 3614.92, 652.8199999999999, 5681.72, 15610.390000000003, 8214.65, 6217.959999999999, 6140.42, 10464.850000000002, 1438.8200000000002, 942.26, 1018.4300000000001, 4448.540000000001, 4076.91, 442.84999999999997, 3104.17, 1360.28, 2703.23, 5683.1500000000015, 2915.15, 1840.4199999999998, 2780.15, 2740.4300000000003, 1123.8600000000001, 3586.0299999999997, 4690.3099999999995, 982.3800000000002, 935.05, 4191.0, 4693.01, 3222.3, 1620.9300000000003, 719.78, 4748.52, 2054.36, 4654.08, 4684.76, 11349.52, 2073.4300000000003, 1905.8400000000001, 2241.1000000000004, 1789.72, 1839.3000000000002, 2004.9799999999998, 3432.8, 2232.19, 3350.96, 2048.07, 775.4600000000003, 2380.8500000000004, 2588.7699999999995, 1904.05, 2879.7, 3099.7200000000003, 12669.98, 2618.2299999999996, 3729.34, 4628.75, 911.26, 2314.6499999999996, 3883.25, 4871.929999999999, 1046.56, 1305.3299999999997, 3965.62, 1858.9600000000003, 2995.72, 2352.53, 1611.59, 2481.13, 1530.7500000000002, 5014.839999999999, 2552.2100000000005, 1614.91, 2182.28, 2128.2300000000005, 9261.52, 1770.5600000000002, 3212.84, 4652.82, 3507.71, 2612.96, 4051.4799999999996, 1474.32, 2606.53, 5900.280000000001, 1937.25, 1058.06, 4263.639999999999, 4481.67, 1244.83, 2255.51, 2357.6800000000003, 1712.8900000000003, 1039.58, 907.1, 3062.3999999999996, 2004.02, 2272.4, 1936.84, 2068.15, 1196.33, 2383.2400000000002, 1957.3200000000002, 815.3199999999999, 2470.67, 3543.26, 673.26, 5905.64, 2012.17, 1314.8100000000002, 2102.0899999999997, 1867.6800000000003, 4332.2, 8508.82, 2925.9100000000003, 1949.7200000000003, 4447.050000000001, 2864.19, 996.26, 3630.3300000000004, 2024.45, 2578.09, 4007.54, 765.62, 859.2700000000001, 2381.04, 2237.7699999999995, 5074.77, 3099.1200000000003, 2832.84, 859.7100000000002, 1052.55, 1601.1399999999999, 1447.14, 1740.6000000000001, 883.1500000000001, 16569.5, 1785.1499999999999, 1788.3600000000004, 889.2499999999999, 2791.27, 959.01, 2984.49, 2125.08, 1417.29, 1947.5499999999997, 1932.23, 848.22, 2529.93, 771.1700000000001, 9241.2, 1736.4, 604.7500000000001, 2548.2400000000002, 28754.11, 1236.2799999999997, 5630.870000000001, 2114.33, 2078.95, 1250.76, 2235.2999999999997, 2549.37, 3292.1400000000003, 1546.9099999999999, 4921.040000000001, 606.13, 2868.7999999999997, 2666.36, 1602.13, 1158.3, 2005.06, 2702.49, 9585.91, 6065.6900000000005, 3902.2799999999997, 1400.3400000000001, 5010.280000000001, 1625.97, 2473.37, 10674.75, 2538.2999999999997, 745.0600000000001, 1319.91, 8022.49, 4339.74, 2741.17, 2087.88, 2226.9100000000003, 1720.3, 1649.5000000000002, 3295.7599999999998, 2824.6899999999996, 3189.8100000000004, 7930.54, 2836.69, 2759.8300000000004, 1353.74, 14389.900000000001, 2953.59, 725.7, 1485.5400000000002, 1237.8500000000001, 11138.71, 1366.38, 1303.52, 1421.29, 2810.63, 1025.44, 3501.1000000000004, 5900.25, 8099.489999999999, 7044.68, 1487.8, 1116.5700000000002, 1931.42, 1641.7599999999998, 6316.57, 1261.78, 1914.8200000000002, 905.0400000000001, 6802.76, 1661.33, 668.1400000000001, 2586.67, 4308.610000000001, 19914.44, 7700.23, 5213.7699999999995, 1782.09, 1391.6100000000001, 697.7900000000001, 302.1, 2124.9900000000002, 1337.7199999999998, 303.09000000000003, 3158.13, 1043.4099999999999, 9743.11, 2420.84, 4597.0199999999995, 2298.9300000000003, 1422.52, 3609.3299999999995, 2760.5599999999995, 1352.75, 1551.7800000000002, 2199.3100000000004, 11528.480000000001, 3447.4, 1387.99, 1286.7000000000003, 6580.4400000000005, 1194.7300000000002, 5314.469999999999, 4745.6900000000005, 961.4899999999999, 1936.0700000000004, 18641.010000000002, 1624.05, 2206.9500000000003, 4777.180000000001, 16225.390000000003, 7616.530000000001, 1827.8, 870.12, 1661.44, 5756.89, 1778.9599999999996, 3386.71, 1412.3200000000002, 780.59, 1706.57, 1756.44, 6688.459999999999, 10484.99, 918.1999999999998, 2379.49, 2507.07, 716.57, 2332.1499999999996, 2306.5200000000004, 7943.219999999999, 4668.300000000001, 3672.8599999999997, 4799.9, 5070.349999999999, 1960.11, 2766.5, 8347.2, 2314.32, 2386.05, 2415.9100000000003, 1233.3599999999997, 1690.26, 5955.709999999999, 1535.53, 2183.5400000000004, 1345.5300000000002, 815.77, 1056.44, 3450.8400000000006, 3984.3199999999997, 1447.3900000000003, 1483.14, 1041.48, 1122.5300000000002, 3236.9100000000003, 1418.2600000000002, 1388.37, 7354.619999999999, 11054.960000000001, 3594.3100000000004, 2575.0, 3100.09, 2001.8000000000002, 1299.23, 13316.400000000001, 1131.5600000000002, 10384.929999999998, 979.26, 909.23, 14758.22, 4139.460000000001, 1942.4499999999998, 3000.2000000000003, 825.92, 2429.7800000000007, 3995.23, 1502.3500000000004, 2007.4399999999996, 1580.93, 3546.7100000000005, 4954.84, 1693.2599999999998, 4805.17, 1400.44, 758.29, 4165.52, 2552.86, 3679.9700000000003, 725.11, 1771.7800000000002, 6776.56, 1297.8700000000001, 1591.4500000000003, 10399.74, 3709.5600000000004, 2870.24, 3285.3100000000004, 12515.66, 1887.2, 1600.86, 2657.13, 2881.02, 2446.6000000000004, 3435.7599999999998, 781.2800000000001, 1333.6799999999998, 2993.1, 6479.4, 2736.46, 1542.1399999999999, 2293.62, 945.5799999999998, 3364.24, 1072.36, 5045.610000000001, 2222.56, 5178.959999999999, 1205.1200000000001, 4812.42, 784.4600000000002, 974.0399999999998, 2465.48, 2637.38, 2364.25, 3279.97, 2614.7400000000002, 2328.9700000000003, 4932.2, 948.05, 1612.69, 2711.56, 4206.389999999999, 5528.4800000000005, 2218.62, 1945.33, 1905.4500000000003, 1836.09, 2233.75, 33643.079999999994, 3711.77, 2974.6499999999996, 16387.57, 1438.8500000000001, 977.2099999999998, 3165.3599999999997, 832.88, 3812.64, 360.93, 4405.88, 493.28000000000003, 1388.88, 363.88, 5126.76, 1567.6899999999998, 967.45, 1232.18, 1528.0900000000001, 2495.8700000000003, 955.2400000000001, 1765.51, 1659.3799999999999, 4416.26, 845.64, 4199.85, 3442.15, 1054.73, 3408.48, 1475.02, 2837.67, 1451.28, 2797.57, 3089.97, 2735.37, 615.3900000000001, 1701.94, 3362.7099999999996, 37130.600000000006, 662.3800000000001, 705.39, 1508.7600000000002, 3786.24, 851.01, 719.81, 8816.4, 1111.79, 2263.12, 1153.62, 1521.8700000000003, 2234.73, 2806.8999999999996, 981.51, 1078.2299999999998, 1842.14, 1429.6399999999999, 3204.16, 1337.48, 1667.97, 6287.77, 1880.2199999999998, 14589.039999999999, 2424.94, 3799.4900000000002, 2053.02, 1824.23, 3122.04, 5575.5599999999995, 3787.6000000000004, 1822.9700000000003, 1885.0500000000004, 1418.32, 10254.18, 4006.9400000000005, 6911.4400000000005, 5180.52, 1080.62, 1863.4700000000003, 21086.300000000003, 3084.68, 1096.3200000000002, 3718.8, 2607.8700000000003, 3603.21, 3683.8599999999997, 2619.91, 5203.510000000001, 746.83, 5447.0, 1429.2400000000002, 1509.5800000000002, 1570.81, 823.97, 2248.99, 1328.5500000000004, 5360.630000000001, 2938.91, 3110.96, 3844.2200000000003, 1593.2, 26626.8, 1971.87, 887.6500000000001, 1469.45, 6675.710000000001, 2027.5, 1750.9200000000003, 3512.53, 896.6600000000001, 707.0399999999998, 1540.42, 804.49, 1553.66, 987.01, 2157.4000000000005, 3046.21, 4098.32, 2126.9300000000003, 2028.88, 675.2700000000002, 34684.4, 1908.25, 1522.2500000000002, 798.35, 3640.6699999999996, 616.79, 2158.3700000000003, 3482.7400000000007, 814.72, 1314.68, 1603.46, 1871.5, 2494.46, 684.41, 1599.52, 2965.69, 950.26, 1627.13, 9418.470000000001, 13027.45, 1095.5600000000002, 1388.81, 4154.639999999999, 2298.97, 3313.79, 8338.490000000002, 3738.4, 4113.68, 813.5199999999999, 3347.71, 5493.46, 2647.5899999999997, 4413.1, 2188.05, 2883.1000000000004, 1680.72, 6773.97, 1212.6600000000003, 3794.52, 8625.800000000001, 933.6199999999999, 1374.87, 4095.9, 8134.94, 1592.12, 3109.99, 3062.83, 1260.86, 5076.550000000001, 5398.299999999999, 14034.990000000002, 2483.04, 1651.03, 3645.4300000000003, 6923.13, 3858.38, 1790.42, 4730.8099999999995, 1382.02, 1054.67, 7239.92, 2300.56, 2238.09, 1304.76, 7194.3, 6697.66, 1515.8999999999999, 789.79, 2799.25, 5580.599999999999, 2246.8100000000004, 1695.6599999999999, 10629.720000000001, 2279.9, 1545.6200000000001, 1721.7799999999997, 1222.7099999999998, 1201.4899999999998, 914.69, 1692.98, 6509.1, 1604.75, 3349.5699999999997, 1106.53, 3170.9799999999996, 16594.35, 1869.82, 10196.570000000002, 825.4200000000001, 2812.34, 7123.620000000001, 2095.53, 853.7199999999999, 1519.0800000000002, 471.51, 809.7, 1281.56, 887.11, 3754.27, 3102.4300000000003, 981.65, 1510.06, 2575.38, 1068.8200000000002, 7247.610000000001, 2847.6, 1295.3899999999999, 4604.219999999999, 2736.38, 3049.88, 1920.59, 4345.5, 1286.2700000000002, 2085.08, 2154.9700000000003, 1852.0, 1931.25, 4481.35, 5464.119999999999, 1625.0500000000002, 1614.3099999999997, 3989.5699999999997, 781.78, 1842.56, 8694.26, 1272.6100000000001, 1044.38, 1735.18, 5659.98, 3228.8399999999997, 3095.04, 4552.139999999999, 2709.7, 2429.03, 1446.0900000000001, 834.1199999999999, 2003.85, 2949.75, 2050.08, 1991.0100000000002, 2043.9500000000003, 3827.7600000000007, 1777.7800000000002, 1022.1299999999999, 1621.73, 10815.43, 885.0400000000001, 808.62, 2463.17, 4892.240000000001, 1139.73, 10668.470000000001, 984.5699999999999, 1714.59, 1538.88, 3518.0299999999997, 1715.46, 2467.35, 3766.5999999999995, 3347.31, 2474.23, 2095.13, 3563.8499999999995, 2317.2200000000003, 2781.2300000000005, 1960.7199999999998, 3198.25, 1906.09, 3174.32, 916.1300000000001, 3744.65, 8676.849999999999, 2148.6300000000006, 1652.58, 1064.1100000000001, 1419.73, 944.4100000000001, 525.24, 1875.1100000000001, 669.1099999999999, 1135.63, 8631.310000000001, 2527.92, 6292.26, 700.8599999999999, 921.0699999999999, 990.2299999999999, 6643.93, 12353.29, 2676.56, 1159.5199999999998, 1286.0700000000002, 585.7900000000001, 4481.18, 4801.5599999999995, 1912.6700000000003, 1342.68, 4100.92, 20275.61, 2686.4200000000005, 31833.68, 2129.96, 2633.8499999999995, 1031.41, 1214.72, 1258.0600000000002, 6893.42, 4226.57, 1979.3700000000001, 5037.26, 17256.85, 2373.8199999999997, 2248.56, 2520.86, 1721.4, 657.3, 757.4599999999999, 1896.41, 1870.9700000000003, 1255.59, 2092.32, 3558.8700000000003, 6115.139999999999, 2924.99, 768.08, 1844.02, 1070.71, 3628.5, 2385.0, 1952.4499999999998, 1122.3799999999999, 901.2099999999999, 4331.48, 1498.51, 3622.68, 11045.039999999999, 2404.17, 1479.22, 2225.9700000000003, 3927.3400000000006, 2827.9300000000003, 5102.97, 1112.2199999999998, 3984.22, 2048.45, 4559.150000000001, 971.5800000000002, 843.48, 2047.0, 1814.12, 2361.9700000000003, 2895.64, 3945.0, 4867.72, 2638.9400000000005, 2999.46, 1802.9100000000003, 2055.51, 3406.72, 1572.7100000000003, 3178.17, 1629.12, 20374.28, 1387.68, 16363.23, 2474.3299999999995, 3191.53, 5739.460000000001, 4757.95, 2285.7100000000005, 2534.64, 1824.37, 1823.52, 10504.49, 5655.99, 5396.04, 2424.04, 3439.08, 1060.25, 2876.01, 5298.48, 13110.02, 1879.05, 2791.3500000000004, 2322.4, 1797.5700000000002, 1772.2599999999998, 5605.290000000001, 3456.7, 834.99, 2273.18, 3997.9800000000005, 665.8600000000001, 1965.5500000000002, 780.4300000000002, 3055.9300000000003, 1199.01, 5411.91, 7837.7300000000005, 732.1599999999999, 1770.8799999999999, 1995.46, 1593.38, 2779.3, 26879.04, 5155.66, 2100.8, 3160.0, 597.5, 10526.32, 1894.3500000000001, 671.77, 717.45, 899.6099999999999, 4204.1, 2962.500000000001, 4301.22, 2332.7200000000003, 1296.44, 2622.57, 740.79, 4488.81, 757.7099999999998, 1970.67, 1483.56, 668.1099999999999, 4183.39, 2088.6, 6784.1900000000005, 2119.41, 2392.83, 2036.67, 2611.75, 2633.01, 3651.9699999999993, 9068.26, 911.1500000000001, 2697.8, 8052.97, 5653.82, 1826.21, 1142.99, 1059.3899999999999, 8438.34, 2888.7500000000005, 2861.55, 734.94, 1618.69, 7561.68, 1793.1700000000003, 1843.7500000000005, 2001.0399999999997, 5425.560000000001, 1993.7000000000003, 2621.38, 2069.77, 6484.54, 5509.120000000001, 5228.050000000001, 7276.9, 2810.1999999999994, 1796.4800000000002, 987.1000000000001, 2073.09, 2567.0600000000004, 2337.6300000000006, 2338.6000000000004, 3078.58, 2094.88, 1837.2800000000002]}],\n",
              "                        {\"template\": {\"data\": {\"bar\": [{\"error_x\": {\"color\": \"#2a3f5f\"}, \"error_y\": {\"color\": \"#2a3f5f\"}, \"marker\": {\"line\": {\"color\": \"#E5ECF6\", \"width\": 0.5}}, \"type\": \"bar\"}], \"barpolar\": [{\"marker\": {\"line\": {\"color\": \"#E5ECF6\", \"width\": 0.5}}, \"type\": \"barpolar\"}], \"carpet\": [{\"aaxis\": {\"endlinecolor\": \"#2a3f5f\", \"gridcolor\": \"white\", \"linecolor\": \"white\", \"minorgridcolor\": \"white\", \"startlinecolor\": \"#2a3f5f\"}, \"baxis\": {\"endlinecolor\": \"#2a3f5f\", \"gridcolor\": \"white\", \"linecolor\": \"white\", \"minorgridcolor\": \"white\", \"startlinecolor\": \"#2a3f5f\"}, \"type\": \"carpet\"}], \"choropleth\": [{\"colorbar\": {\"outlinewidth\": 0, \"ticks\": \"\"}, \"type\": \"choropleth\"}], \"contour\": [{\"colorbar\": {\"outlinewidth\": 0, \"ticks\": \"\"}, \"colorscale\": [[0.0, \"#0d0887\"], [0.1111111111111111, \"#46039f\"], [0.2222222222222222, \"#7201a8\"], [0.3333333333333333, \"#9c179e\"], [0.4444444444444444, \"#bd3786\"], [0.5555555555555556, \"#d8576b\"], [0.6666666666666666, \"#ed7953\"], [0.7777777777777778, \"#fb9f3a\"], [0.8888888888888888, \"#fdca26\"], [1.0, \"#f0f921\"]], \"type\": \"contour\"}], \"contourcarpet\": [{\"colorbar\": {\"outlinewidth\": 0, \"ticks\": \"\"}, \"type\": \"contourcarpet\"}], \"heatmap\": [{\"colorbar\": {\"outlinewidth\": 0, \"ticks\": \"\"}, \"colorscale\": [[0.0, \"#0d0887\"], [0.1111111111111111, \"#46039f\"], [0.2222222222222222, \"#7201a8\"], [0.3333333333333333, \"#9c179e\"], [0.4444444444444444, \"#bd3786\"], [0.5555555555555556, \"#d8576b\"], [0.6666666666666666, \"#ed7953\"], [0.7777777777777778, \"#fb9f3a\"], [0.8888888888888888, \"#fdca26\"], [1.0, \"#f0f921\"]], \"type\": \"heatmap\"}], \"heatmapgl\": [{\"colorbar\": {\"outlinewidth\": 0, \"ticks\": \"\"}, \"colorscale\": [[0.0, \"#0d0887\"], [0.1111111111111111, \"#46039f\"], [0.2222222222222222, \"#7201a8\"], [0.3333333333333333, \"#9c179e\"], [0.4444444444444444, \"#bd3786\"], [0.5555555555555556, \"#d8576b\"], [0.6666666666666666, \"#ed7953\"], [0.7777777777777778, \"#fb9f3a\"], [0.8888888888888888, \"#fdca26\"], [1.0, \"#f0f921\"]], \"type\": \"heatmapgl\"}], \"histogram\": [{\"marker\": {\"colorbar\": {\"outlinewidth\": 0, \"ticks\": \"\"}}, \"type\": \"histogram\"}], \"histogram2d\": [{\"colorbar\": {\"outlinewidth\": 0, \"ticks\": \"\"}, \"colorscale\": [[0.0, \"#0d0887\"], [0.1111111111111111, \"#46039f\"], [0.2222222222222222, \"#7201a8\"], [0.3333333333333333, \"#9c179e\"], [0.4444444444444444, \"#bd3786\"], [0.5555555555555556, \"#d8576b\"], [0.6666666666666666, \"#ed7953\"], [0.7777777777777778, \"#fb9f3a\"], [0.8888888888888888, \"#fdca26\"], [1.0, \"#f0f921\"]], \"type\": \"histogram2d\"}], \"histogram2dcontour\": [{\"colorbar\": {\"outlinewidth\": 0, \"ticks\": \"\"}, \"colorscale\": [[0.0, \"#0d0887\"], [0.1111111111111111, \"#46039f\"], [0.2222222222222222, \"#7201a8\"], [0.3333333333333333, \"#9c179e\"], [0.4444444444444444, \"#bd3786\"], [0.5555555555555556, \"#d8576b\"], [0.6666666666666666, \"#ed7953\"], [0.7777777777777778, \"#fb9f3a\"], [0.8888888888888888, \"#fdca26\"], [1.0, \"#f0f921\"]], \"type\": \"histogram2dcontour\"}], \"mesh3d\": [{\"colorbar\": {\"outlinewidth\": 0, \"ticks\": \"\"}, \"type\": \"mesh3d\"}], \"parcoords\": [{\"line\": {\"colorbar\": {\"outlinewidth\": 0, \"ticks\": \"\"}}, \"type\": \"parcoords\"}], \"pie\": [{\"automargin\": true, \"type\": \"pie\"}], \"scatter\": [{\"marker\": {\"colorbar\": {\"outlinewidth\": 0, \"ticks\": \"\"}}, \"type\": \"scatter\"}], \"scatter3d\": [{\"line\": {\"colorbar\": {\"outlinewidth\": 0, \"ticks\": \"\"}}, \"marker\": {\"colorbar\": {\"outlinewidth\": 0, \"ticks\": \"\"}}, \"type\": \"scatter3d\"}], \"scattercarpet\": [{\"marker\": {\"colorbar\": {\"outlinewidth\": 0, \"ticks\": \"\"}}, \"type\": \"scattercarpet\"}], \"scattergeo\": [{\"marker\": {\"colorbar\": {\"outlinewidth\": 0, \"ticks\": \"\"}}, \"type\": \"scattergeo\"}], \"scattergl\": [{\"marker\": {\"colorbar\": {\"outlinewidth\": 0, \"ticks\": \"\"}}, \"type\": \"scattergl\"}], \"scattermapbox\": [{\"marker\": {\"colorbar\": {\"outlinewidth\": 0, \"ticks\": \"\"}}, \"type\": \"scattermapbox\"}], \"scatterpolar\": [{\"marker\": {\"colorbar\": {\"outlinewidth\": 0, \"ticks\": \"\"}}, \"type\": \"scatterpolar\"}], \"scatterpolargl\": [{\"marker\": {\"colorbar\": {\"outlinewidth\": 0, \"ticks\": \"\"}}, \"type\": \"scatterpolargl\"}], \"scatterternary\": [{\"marker\": {\"colorbar\": {\"outlinewidth\": 0, \"ticks\": \"\"}}, \"type\": \"scatterternary\"}], \"surface\": [{\"colorbar\": {\"outlinewidth\": 0, \"ticks\": \"\"}, \"colorscale\": [[0.0, \"#0d0887\"], [0.1111111111111111, \"#46039f\"], [0.2222222222222222, \"#7201a8\"], [0.3333333333333333, \"#9c179e\"], [0.4444444444444444, \"#bd3786\"], [0.5555555555555556, \"#d8576b\"], [0.6666666666666666, \"#ed7953\"], [0.7777777777777778, \"#fb9f3a\"], [0.8888888888888888, \"#fdca26\"], [1.0, \"#f0f921\"]], \"type\": \"surface\"}], \"table\": [{\"cells\": {\"fill\": {\"color\": \"#EBF0F8\"}, \"line\": {\"color\": \"white\"}}, \"header\": {\"fill\": {\"color\": \"#C8D4E3\"}, \"line\": {\"color\": \"white\"}}, \"type\": \"table\"}]}, \"layout\": {\"annotationdefaults\": {\"arrowcolor\": \"#2a3f5f\", \"arrowhead\": 0, \"arrowwidth\": 1}, \"coloraxis\": {\"colorbar\": {\"outlinewidth\": 0, \"ticks\": \"\"}}, \"colorscale\": {\"diverging\": [[0, \"#8e0152\"], [0.1, \"#c51b7d\"], [0.2, \"#de77ae\"], [0.3, \"#f1b6da\"], [0.4, \"#fde0ef\"], [0.5, \"#f7f7f7\"], [0.6, \"#e6f5d0\"], [0.7, \"#b8e186\"], [0.8, \"#7fbc41\"], [0.9, \"#4d9221\"], [1, \"#276419\"]], \"sequential\": [[0.0, \"#0d0887\"], [0.1111111111111111, \"#46039f\"], [0.2222222222222222, \"#7201a8\"], [0.3333333333333333, \"#9c179e\"], [0.4444444444444444, \"#bd3786\"], [0.5555555555555556, \"#d8576b\"], [0.6666666666666666, \"#ed7953\"], [0.7777777777777778, \"#fb9f3a\"], [0.8888888888888888, \"#fdca26\"], [1.0, \"#f0f921\"]], \"sequentialminus\": [[0.0, \"#0d0887\"], [0.1111111111111111, \"#46039f\"], [0.2222222222222222, \"#7201a8\"], [0.3333333333333333, \"#9c179e\"], [0.4444444444444444, \"#bd3786\"], [0.5555555555555556, \"#d8576b\"], [0.6666666666666666, \"#ed7953\"], [0.7777777777777778, \"#fb9f3a\"], [0.8888888888888888, \"#fdca26\"], [1.0, \"#f0f921\"]]}, \"colorway\": [\"#636efa\", \"#EF553B\", \"#00cc96\", \"#ab63fa\", \"#FFA15A\", \"#19d3f3\", \"#FF6692\", \"#B6E880\", \"#FF97FF\", \"#FECB52\"], \"font\": {\"color\": \"#2a3f5f\"}, \"geo\": {\"bgcolor\": \"white\", \"lakecolor\": \"white\", \"landcolor\": \"#E5ECF6\", \"showlakes\": true, \"showland\": true, \"subunitcolor\": \"white\"}, \"hoverlabel\": {\"align\": \"left\"}, \"hovermode\": \"closest\", \"mapbox\": {\"style\": \"light\"}, \"paper_bgcolor\": \"white\", \"plot_bgcolor\": \"#E5ECF6\", \"polar\": {\"angularaxis\": {\"gridcolor\": \"white\", \"linecolor\": \"white\", \"ticks\": \"\"}, \"bgcolor\": \"#E5ECF6\", \"radialaxis\": {\"gridcolor\": \"white\", \"linecolor\": \"white\", \"ticks\": \"\"}}, \"scene\": {\"xaxis\": {\"backgroundcolor\": \"#E5ECF6\", \"gridcolor\": \"white\", \"gridwidth\": 2, \"linecolor\": \"white\", \"showbackground\": true, \"ticks\": \"\", \"zerolinecolor\": \"white\"}, \"yaxis\": {\"backgroundcolor\": \"#E5ECF6\", \"gridcolor\": \"white\", \"gridwidth\": 2, \"linecolor\": \"white\", \"showbackground\": true, \"ticks\": \"\", \"zerolinecolor\": \"white\"}, \"zaxis\": {\"backgroundcolor\": \"#E5ECF6\", \"gridcolor\": \"white\", \"gridwidth\": 2, \"linecolor\": \"white\", \"showbackground\": true, \"ticks\": \"\", \"zerolinecolor\": \"white\"}}, \"shapedefaults\": {\"line\": {\"color\": \"#2a3f5f\"}}, \"ternary\": {\"aaxis\": {\"gridcolor\": \"white\", \"linecolor\": \"white\", \"ticks\": \"\"}, \"baxis\": {\"gridcolor\": \"white\", \"linecolor\": \"white\", \"ticks\": \"\"}, \"bgcolor\": \"#E5ECF6\", \"caxis\": {\"gridcolor\": \"white\", \"linecolor\": \"white\", \"ticks\": \"\"}}, \"title\": {\"x\": 0.05}, \"xaxis\": {\"automargin\": true, \"gridcolor\": \"white\", \"linecolor\": \"white\", \"ticks\": \"\", \"title\": {\"standoff\": 15}, \"zerolinecolor\": \"white\", \"zerolinewidth\": 2}, \"yaxis\": {\"automargin\": true, \"gridcolor\": \"white\", \"linecolor\": \"white\", \"ticks\": \"\", \"title\": {\"standoff\": 15}, \"zerolinecolor\": \"white\", \"zerolinewidth\": 2}}}, \"title\": {\"text\": \"Segments\"}, \"xaxis\": {\"title\": {\"text\": \"Frequency\"}}, \"yaxis\": {\"title\": {\"text\": \"Monetary\"}}},\n",
              "                        {\"responsive\": true}\n",
              "                    ).then(function(){\n",
              "                            \n",
              "var gd = document.getElementById('a96c865d-70dd-4360-9ea0-dc22c127e764');\n",
              "var x = new MutationObserver(function (mutations, observer) {{\n",
              "        var display = window.getComputedStyle(gd).display;\n",
              "        if (!display || display === 'none') {{\n",
              "            console.log([gd, 'removed!']);\n",
              "            Plotly.purge(gd);\n",
              "            observer.disconnect();\n",
              "        }}\n",
              "}});\n",
              "\n",
              "// Listen for the removal of the full notebook cells\n",
              "var notebookContainer = gd.closest('#notebook-container');\n",
              "if (notebookContainer) {{\n",
              "    x.observe(notebookContainer, {childList: true});\n",
              "}}\n",
              "\n",
              "// Listen for the clearing of the current output cell\n",
              "var outputEl = gd.closest('.output');\n",
              "if (outputEl) {{\n",
              "    x.observe(outputEl, {childList: true});\n",
              "}}\n",
              "\n",
              "                        })\n",
              "                };\n",
              "                \n",
              "            </script>\n",
              "        </div>\n",
              "</body>\n",
              "</html>"
            ]
          },
          "metadata": {
            "tags": []
          }
        },
        {
          "output_type": "display_data",
          "data": {
            "text/html": [
              "<html>\n",
              "<head><meta charset=\"utf-8\" /></head>\n",
              "<body>\n",
              "    <div>\n",
              "            <script src=\"https://cdnjs.cloudflare.com/ajax/libs/mathjax/2.7.5/MathJax.js?config=TeX-AMS-MML_SVG\"></script><script type=\"text/javascript\">if (window.MathJax) {MathJax.Hub.Config({SVG: {font: \"STIX-Web\"}});}</script>\n",
              "                <script type=\"text/javascript\">window.PlotlyConfig = {MathJaxConfig: 'local'};</script>\n",
              "        <script src=\"https://cdn.plot.ly/plotly-latest.min.js\"></script>    \n",
              "            <div id=\"8d5b611e-a5da-4c02-949c-5148c0f0250d\" class=\"plotly-graph-div\" style=\"height:525px; width:100%;\"></div>\n",
              "            <script type=\"text/javascript\">\n",
              "                \n",
              "                    window.PLOTLYENV=window.PLOTLYENV || {};\n",
              "                    \n",
              "                if (document.getElementById(\"8d5b611e-a5da-4c02-949c-5148c0f0250d\")) {\n",
              "                    Plotly.newPlot(\n",
              "                        '8d5b611e-a5da-4c02-949c-5148c0f0250d',\n",
              "                        [{\"marker\": {\"color\": \"blue\", \"line\": {\"width\": 1}, \"opacity\": 0.8, \"size\": 7}, \"mode\": \"markers\", \"name\": \"Bronze\", \"type\": \"scatter\", \"x\": [214, 336, 262, 173, 294, 372, 138, 282, 143, 275, 214, 185, 204, 264, 311, 306, 112, 197, 156, 85, 318, 105, 56, 323, 372, 357, 273, 249, 253, 72, 191, 373, 82, 192, 266, 179, 70, 99, 234, 133, 372, 238, 77, 94, 261, 273, 332, 313, 64, 267, 337, 135, 267, 127, 200, 273, 201, 225, 112, 263, 366, 113, 78, 59, 330, 359, 137, 268, 155, 120, 64, 71, 365, 280, 203, 63, 149, 91, 259, 165, 252, 184, 99, 200, 232, 65, 241, 71, 243, 260, 126, 73, 78, 319, 215, 243, 309, 306, 312, 173, 252, 120, 179, 60, 301, 151, 187, 285, 182, 59, 155, 318, 218, 246, 269, 246, 217, 162, 373, 288, 151, 218, 103, 250, 367, 66, 255, 63, 367, 176, 211, 252, 168, 57, 326, 74, 63, 86, 71, 325, 351, 294, 169, 65, 360, 145, 70, 287, 206, 60, 213, 211, 277, 60, 176, 266, 284, 124, 65, 266, 266, 320, 364, 56, 324, 154, 72, 273, 143, 133, 233, 266, 173, 275, 331, 218, 94, 373, 326, 183, 234, 278, 318, 141, 154, 225, 196, 213, 222, 106, 242, 163, 242, 218, 274, 164, 215, 365, 319, 295, 358, 191, 296, 218, 119, 362, 218, 302, 98, 365, 306, 190, 310, 74, 257, 281, 175, 183, 187, 64, 108, 259, 185, 280, 372, 276, 371, 242, 57, 262, 58, 201, 187, 208, 264, 218, 214, 198, 147, 274, 297, 58, 112, 319, 63, 166, 52, 51, 75, 369, 197, 64, 366, 267, 148, 52, 261, 336, 253, 157, 74, 245, 72, 253, 270, 247, 57, 246, 159, 172, 199, 273, 319, 213, 372, 256, 281, 311, 134, 245, 239, 239, 225, 357, 320, 322, 260, 367, 92, 357, 241, 87, 176, 366, 318, 358, 310, 276, 298, 148, 283, 323, 106, 338, 354, 172, 201, 95, 110, 326, 283, 52, 332, 366, 72, 373, 361, 372, 128, 213, 172, 325, 112, 289, 189, 264, 171, 323, 254, 248, 264, 330, 362, 94, 92, 81, 330, 155, 233, 254, 163, 288, 217, 277, 351, 151, 162, 70, 53, 78, 52, 336, 184, 51, 52, 317, 106, 217, 296, 117, 119, 252, 264, 201, 283, 234, 364, 201, 212, 212, 282, 77, 304, 218, 245, 319, 372, 303, 186, 277, 60, 80, 253, 149, 194, 368, 173, 178, 247, 373, 372, 194, 239, 64, 311, 276, 365, 74, 303, 366, 211, 373, 173, 220, 297, 283, 81, 106, 264, 240, 248, 65, 143, 183, 170, 189, 317, 367, 246, 296, 281, 252, 59, 138, 60, 78, 80, 235, 203, 225, 170, 61, 176, 339, 169, 126, 330, 217, 196, 157, 284, 158, 290, 332, 197, 53, 322, 312, 302, 191, 263, 106, 64, 198, 149, 87, 218, 177, 73, 74, 274, 192, 161, 296, 372, 277, 171, 81, 53, 164, 242, 364, 182, 373, 248, 232, 68, 285, 219, 186, 235, 263, 245, 222, 105, 169, 368, 189, 362, 366, 72, 241, 262, 297, 176, 372, 214, 318, 294, 74, 372, 282, 57, 192, 360, 93, 156, 184, 128, 52, 186, 368, 59, 140, 84, 187, 299, 290, 276, 371, 109, 239, 87, 116, 187, 226, 267, 218, 149, 185, 63, 266, 78, 322, 261, 165, 288, 317, 119, 161, 185, 334, 239, 51, 284, 289, 217, 201, 226, 273, 53, 253, 234, 182, 312, 204, 362, 107, 208, 241, 57, 308, 95, 280, 123, 302, 94, 355, 86, 179, 311, 238, 65, 163, 219, 163, 71, 253, 156, 176, 203, 365, 158, 79, 248, 358, 75, 220, 308, 361, 359, 190, 53, 280, 177, 269, 233, 205, 71, 242, 218, 236, 239, 173, 59, 81, 276, 373, 65, 277, 227, 263, 358, 137, 141, 260, 185, 187, 169, 320, 200, 232, 240, 112, 359, 263, 254, 159, 53, 281, 51, 303, 185, 372, 304, 323, 204, 170, 173, 304, 129, 212, 162, 225, 159, 190, 247, 282, 372, 159, 233, 147, 249, 171, 166, 241, 365, 56, 185, 225, 281, 362, 235, 256, 373, 155, 51, 334, 154, 53, 203, 359, 289, 185, 373, 274, 254, 368, 290, 367, 214, 243, 295, 140, 177, 60, 249, 192, 261, 165, 157, 236, 89, 226, 263, 217, 325, 89, 140, 134, 366, 58, 73, 277, 180], \"y\": [92.72, 293.0, 215.05, 134.1, 311.55, 38.1, 147.12, 374.0, 343.2300000000001, 298.0, 354.12, 331.0, 216.5, 138.67999999999998, 117.85, 108.07, 135.95, 144.8, 39.24, 211.32, 120.94999999999999, 149.05, 81.57, 229.47000000000003, 50.550000000000004, 190.54999999999998, 516.4200000000001, 183.4, 307.53000000000003, 248.61, 346.98, 205.85999999999999, 115.46000000000001, 228.8, 177.14999999999998, 58.08, 74.4, 207.35999999999999, 101.19, 76.5, 350.05999999999995, 30.599999999999998, 259.16999999999996, 64.0, 77.3, 109.80000000000001, 110.94999999999999, 112.75, 282.45, 71.4, 236.01999999999998, 60.7, 333.74, 62.64, 163.20000000000002, 108.21, 257.7, 160.95, 270.40000000000003, 200.29, 590.0, 138.98, 137.75, 93.66, 201.19, 201.2, 87.4, 142.5, 63.75, 15.0, 233.76, 134.96, 308.28, 222.99, 59.8, 221.06, 159.85, 296.64000000000004, 590.0, 356.97999999999996, 151.5, 307.90000000000003, 165.0, 300.95, 184.64, 140.34, 313.8, 216.85000000000002, 110.97000000000003, 251.20999999999998, 205.09999999999997, 152.20000000000002, 122.75, 91.80000000000001, 141.86, 239.49000000000004, 118.0, 142.4, 219.51999999999998, 177.34, 257.22999999999996, 252.1, 189.46999999999997, 84.65, 186.39, 232.6, 59.5, 67.23, 72.0, 172.25, 308.58, 99.5, 252.06000000000003, 228.83999999999997, 138.28, 306.55, 199.85000000000002, 300.03999999999996, 79.6, 296.25, 282.6, 306.72, 178.7, 127.84, 230.4, 195.54999999999995, 277.07000000000005, 256.38, 112.6, 189.5, 271.24, 85.0, 388.5, 216.17000000000002, 201.16, 145.67, 122.69999999999999, 117.24000000000001, 243.56, 155.93, 172.24999999999997, 307.4, 158.85, 90.6, 101.99999999999999, 80.7, 190.25000000000003, 264.7, 357.98, 200.14000000000001, 311.3, 635.6600000000001, 328.8, 104.82000000000002, 147.2, 141.41, 154.99, 260.25, 92.46, 183.6, 152.55, 265.85, 182.24999999999997, 161.0, 76.32000000000001, 216.20999999999998, 144.2, 386.53, 90.0, 115.8, 157.2, 118.75, 289.36, 122.54, 197.65, 185.39999999999998, 151.73999999999998, 161.00000000000003, 146.85, 213.70000000000005, 280.55, 136.76999999999998, 302.58, 120.0, 333.97, 112.32, 134.04, 426.6, 383.45000000000005, 120.0, 183.85000000000002, 311.65000000000003, 309.52, 134.7, 282.92999999999995, 51.0, 90.6, 174.4, 155.0, 100.5, 76.55, 617.05, 142.4, 67.94999999999999, 156.75, 122.7, 265.2, 470.36, 89.06, 63.0, 131.9, 119.93, 113.64, 234.34, 215.7, 137.1, 340.93, 251.21, 275.28, 174.37, 241.09, 171.8, 103.25000000000001, 218.06, 35.400000000000006, 237.36, 39.75, 406.08000000000004, 225.84999999999997, 114.56, 96.12, 243.21999999999997, 52.0, 112.80000000000001, 172.9, 188.60999999999996, 109.13000000000001, 179.0, 187.92, 268.58, 89.2, 255.89999999999998, 139.26, 200.10000000000002, 6.2, 131.45, 173.74, 157.70000000000002, 193.39, 155.42999999999998, 271.85, 272.07, 48.800000000000004, 62.85, 309.4, 125.79000000000002, 327.24999999999994, 135.9, 125.65, 616.15, 277.79999999999995, 310.05, 290.82000000000005, 58.49, 126.70000000000002, 206.21, 279.94, 102.12, 156.91000000000003, 170.04, 135.93, 121.17000000000002, 215.78, 370.79999999999995, 106.2, 88.19999999999999, 306.94, 319.5, 244.8, 266.4, 139.04999999999998, 178.96, 259.45, 158.16000000000003, 163.00000000000003, 135.75, 40.5, 87.5, 193.64, 316.58, 101.79999999999998, 96.6, 305.75, 403.25, 585.0, 322.0799999999999, 154.41, 197.00000000000006, 321.04999999999995, 98.45, 317.15, 178.95000000000002, 156.50999999999996, 119.30000000000001, 290.51, 113.12, 180.94, 205.3, 52.0, 165.0, 204.5, 208.75, 252.42000000000002, 201.59999999999997, 158.04, 115.65, 418.9200000000001, 326.0, 168.0, 596.85, 500.0, 107.45000000000002, 288.17999999999995, 94.0, 349.1, 267.18, 190.53, 97.7, 383.34000000000003, 594.0, 113.5, 155.17, 179.10000000000002, 234.6, 91.32000000000001, 52.83, 250.0, 121.0, 267.03000000000003, 229.32999999999998, 110.92000000000002, 127.86, 90.12, 217.2, 134.55, 258.88000000000005, 127.1, 199.8, 240.68, 48.480000000000004, 216.39, 104.76, 298.48, 112.46, 223.36, 309.8, 138.14, 76.32000000000001, 173.05, 193.75, 254.1, 136.8, 211.5, 143.10000000000002, 133.25, 150.3, 203.10000000000002, 218.25, 85.0, 294.11999999999995, 162.3, 34.8, 79.2, 253.04000000000002, 104.9, 206.98, 15.0, 118.95000000000002, 160.70999999999998, 149.64000000000001, 181.09000000000003, 168.31, 263.55, 179.17000000000002, 222.05, 56.25, 191.93999999999997, 264.61999999999995, 123.10000000000001, 369.50000000000006, 127.08000000000001, 207.14999999999998, 416.86, 145.35, 35.8, 325.1, 181.0, 104.35, 314.1, 307.82, 101.4, 256.44000000000005, 137.89999999999998, 134.8, 122.39999999999999, 79.2, 217.16000000000003, 17.0, 320.62, 185.05, 336.96, 108.38, 195.74, 161.38, 135.75000000000003, 232.21, 249.0, 289.35, 175.2, 76.32000000000001, 348.2000000000001, 37.4, 73.2, 197.9, 215.83, 159.0, 242.35000000000002, 304.25000000000006, 255.12, 314.22, 114.56, 152.94, 46.95, 168.3, 142.5, 233.22, 226.37, 404.40000000000003, 207.50000000000003, 214.8, 109.95000000000002, 101.10000000000001, 53.5, 153.9, 211.77, 109.36000000000001, 94.36, 177.5, 167.25, 133.56, 241.06, 284.55, 287.4, 188.89000000000001, 311.92, 266.97, 208.35999999999999, 151.41999999999996, 136.0, 74.9, 223.95, 139.35, 100.97000000000001, 363.70000000000005, 248.10000000000002, 162.70000000000005, 290.35999999999996, 228.06000000000003, 119.62, 339.3, 379.73, 173.7, 105.84, 233.45000000000002, 463.95, 225.14999999999995, 213.5, 145.05, 75.66, 129.49, 151.85000000000002, 226.21, 129.45, 217.9, 231.10000000000002, 214.06, 123.24, 39.12, 135.39999999999998, 129.75, 225.57999999999996, 112.75000000000001, 292.46999999999997, 3.75, 323.00000000000006, 207.5, 239.40000000000003, 106.83, 34.0, 245.94, 311.25, 110.38000000000001, 243.84, 309.53999999999996, 479.3500000000001, 128.5, 197.22, 199.15, 180.85000000000002, 281.42, 124.57, 375.69000000000005, 173.76, 207.73999999999998, 13.3, 276.72999999999996, 289.78, 113.44, 391.52000000000004, 230.25000000000003, 167.60999999999999, 416.64, 117.35000000000001, 234.17000000000002, 110.55000000000001, 201.18999999999994, 251.51999999999998, 179.0, 295.0, 154.82999999999998, 146.87000000000003, 234.24, 118.80000000000001, 301.99999999999994, 25.5, 163.3, 116.19999999999999, 157.02, 138.32, 345.29999999999995, 298.89, 157.08999999999997, 578.9999999999999, 124.88, 158.68, 224.91, 59.9, 306.13, 203.95, 262.62, 204.24, 226.85, 113.49999999999999, 149.89, 382.50000000000006, 171.45, 283.28, 240.0, 63.440000000000005, 246.04000000000002, 187.82999999999998, 550.8000000000001, 82.75, 96.8, 175.2, 307.02000000000004, 243.36, 193.64, 228.96, 110.75, 178.21999999999997, 168.39999999999998, 65.4, 508.8, 203.86999999999995, 32.65, 100.8, 388.45000000000005, 186.42, 120.90000000000002, 131.7, 249.86, 289.96000000000004, 194.36999999999995, 374.57, 271.05, 272.22, 288.59999999999997, 153.94, 145.0, 422.7, 296.7, 223.36, 164.39999999999998, 76.5, 170.75, 103.3, 157.9, 226.75, 185.64999999999998, 143.45999999999998, 175.27, 116.00999999999999, 571.2, 81.44, 75.75000000000001, 108.5, 101.55, 133.06, 117.55000000000001, 205.7, 298.11, 290.4, 200.46999999999997, 283.12, 154.95, 152.39999999999998, 267.08000000000004, 137.45, 153.0, 326.4, 139.35, 110.25000000000001, 71.4, 80.64, 15.0, 56.4, 188.01999999999998, 131.94, 225.9, 298.4, 205.48000000000002, 311.26, 208.97, 148.21, 330.9, 155.90000000000003, 237.61, 178.51999999999998, 133.35000000000002, 111.35, 203.87, 203.85999999999996, 112.25, 155.79999999999998, 112.19999999999999, 72.9, 207.50000000000003, 244.08, 99.14000000000001, 149.58, 358.56000000000006, 12.75, 73.78, 228.20000000000002, 136.04, 300.91999999999996, 20.8, 198.57, 93.35, 76.1, 169.47, 257.34, 174.79999999999998, 102.79, 187.29, 38.45, 73.5, 70.02, 165.04999999999998, 172.29000000000002, 74.4, 101.69999999999999, 247.44, 489.6, 101.33999999999999, 271.0, 76.32000000000001, 220.1, 181.11999999999995, 111.14999999999999, 112.55, 152.65, 160.35, 302.46000000000004, 202.65, 304.25, 284.46, 207.79999999999998, 243.76, 160.42000000000002, 232.48000000000002, 299.34, 305.28000000000003, 158.95000000000002, 93.75, 440.0, 103.3, 149.48, 25.5, 168.6, 110.38, 173.89999999999998, 180.6, 80.82]}, {\"marker\": {\"color\": \"green\", \"line\": {\"width\": 1}, \"opacity\": 0.5, \"size\": 9}, \"mode\": \"markers\", \"name\": \"Silver\", \"type\": \"scatter\", \"x\": [59, 145, 282, 267, 96, 52, 84, 326, 44, 88, 30, 176, 148, 128, 161, 64, 78, 25, 288, 7, 9, 211, 242, 18, 73, 292, 31, 196, 106, 173, 7, 54, 291, 99, 64, 212, 24, 4, 157, 70, 39, 138, 269, 196, 39, 26, 22, 283, 63, 26, 45, 11, 18, 61, 15, 93, 122, 81, 261, 203, 92, 50, 124, 156, 14, 61, 61, 268, 31, 63, 15, 155, 169, 351, 72, 81, 316, 157, 177, 287, 70, 10, 66, 60, 257, 268, 63, 50, 256, 371, 89, 329, 74, 185, 192, 127, 17, 1, 74, 107, 74, 1, 255, 23, 29, 60, 236, 233, 57, 105, 311, 282, 64, 316, 30, 78, 205, 182, 85, 19, 173, 205, 50, 63, 35, 52, 47, 64, 26, 318, 116, 15, 215, 256, 35, 164, 149, 50, 75, 151, 63, 38, 302, 271, 31, 219, 200, 18, 240, 287, 54, 81, 75, 127, 309, 66, 52, 301, 144, 22, 19, 159, 64, 92, 247, 58, 119, 358, 189, 204, 119, 92, 297, 50, 49, 53, 23, 74, 169, 57, 109, 263, 179, 35, 79, 176, 154, 21, 21, 308, 14, 30, 110, 77, 155, 225, 121, 63, 284, 33, 305, 106, 32, 129, 124, 32, 36, 137, 84, 319, 129, 373, 78, 220, 33, 297, 66, 201, 106, 239, 89, 42, 4, 247, 177, 80, 331, 73, 51, 8, 40, 18, 117, 242, 64, 206, 114, 124, 67, 161, 38, 260, 5, 43, 22, 185, 52, 9, 149, 310, 22, 99, 50, 180, 110, 98, 253, 11, 164, 50, 207, 25, 50, 311, 309, 88, 100, 1, 57, 64, 150, 311, 18, 151, 57, 85, 1, 16, 40, 50, 305, 10, 274, 72, 245, 205, 184, 266, 50, 21, 170, 156, 77, 169, 86, 26, 24, 71, 106, 24, 373, 249, 43, 87, 75, 263, 46, 29, 17, 280, 54, 26, 10, 28, 21, 61, 180, 196, 53, 10, 311, 24, 119, 19, 29, 7, 185, 210, 19, 26, 131, 252, 207, 148, 204, 91, 32, 14, 79, 147, 49, 30, 128, 37, 19, 198, 211, 170, 43, 33, 266, 71, 89, 170, 31, 151, 269, 275, 308, 67, 215, 42, 182, 84, 333, 245, 133, 22, 65, 169, 240, 133, 75, 45, 373, 25, 331, 71, 66, 154, 70, 60, 59, 225, 318, 225, 234, 239, 113, 74, 65, 238, 122, 127, 168, 135, 64, 23, 66, 46, 49, 64, 290, 274, 199, 64, 44, 103, 333, 208, 156, 53, 129, 87, 158, 29, 39, 21, 169, 40, 186, 16, 92, 148, 313, 85, 24, 38, 15, 23, 213, 22, 262, 131, 312, 283, 262, 25, 354, 29, 51, 77, 161, 362, 171, 44, 84, 24, 33, 173, 11, 114, 54, 24, 50, 18, 176, 255, 36, 141, 116, 17, 134, 191, 157, 204, 336, 91, 92, 243, 22, 43, 50, 39, 81, 52, 28, 266, 143, 66, 49, 134, 40, 235, 51, 24, 65, 64, 115, 68, 133, 241, 183, 10, 358, 149, 142, 51, 207, 172, 50, 64, 58, 46, 51, 18, 25, 101, 312, 198, 92, 156, 226, 190, 154, 172, 67, 112, 133, 84, 165, 30, 19, 3, 54, 245, 47, 260, 43, 91, 309, 196, 269, 54, 260, 365, 288, 299, 154, 61, 218, 211, 51, 262, 88, 249, 157, 133, 232, 50, 73, 67, 15, 40, 236, 75, 360, 58, 88, 267, 189, 71, 78, 56, 261, 266, 116, 373, 196, 176, 100, 121, 268, 138, 213, 3, 36, 75, 63, 267, 247, 89, 269, 94, 264, 70, 53, 56, 21, 302, 57, 213, 28, 67, 135, 197, 44, 164, 88, 25, 173, 360, 19, 30, 61, 25, 3, 190, 290, 35, 24, 194, 3, 71, 113, 71, 75, 15, 4, 40, 74, 70, 182, 3, 274, 79, 245, 42, 71, 141, 19, 43, 75, 256, 135, 226, 78, 266, 369, 26, 364, 53, 46, 58, 372, 65, 96, 198, 273, 260, 57, 80, 19, 8, 365, 89, 65, 173, 99, 103, 95, 227, 51, 227, 39, 197, 50, 43, 333, 10, 14, 77, 66, 35, 366, 64, 72, 36, 61, 115, 53, 211, 235, 138, 30, 184, 189, 77, 60, 5, 288, 18, 30, 31, 45, 60, 110, 245, 30, 137, 113, 157, 194, 130, 313, 22, 47, 233, 50, 106, 275, 247, 194, 24, 75, 21, 38, 78, 57, 46, 58, 53, 53, 31, 65, 310, 308, 35, 18, 52, 127, 107, 35, 101, 361, 138, 22, 85, 46, 303, 11, 239, 72, 218, 199, 70, 19, 77, 306, 36, 184, 79, 128, 32, 313, 1, 192, 94, 10, 77, 65, 261, 58, 289, 75, 261, 72, 128, 53, 25, 23, 197, 359, 129, 332, 252, 17, 78, 217, 130, 312, 169, 19, 86, 21, 141, 74, 23, 43, 236, 252, 168, 372, 9, 113, 178, 21, 158, 198, 56, 72, 85, 73, 29, 179, 73, 36, 33, 47, 218, 368, 142, 107, 364, 322, 56, 44, 23, 85, 29, 21, 373, 310, 133, 45, 138, 130, 7, 37, 198, 66, 116, 142, 371, 373, 211, 51, 372, 29, 165, 145, 236, 28, 81, 108, 152, 98, 4, 65, 70, 288, 9, 173, 133, 75, 257, 217, 36, 16, 330, 61, 312, 127, 37, 329, 149, 60, 212, 157, 45, 50, 75, 301, 57, 7, 358, 227, 15, 82, 106, 28, 326, 211, 92, 81, 46, 23, 17, 310, 38, 2, 30, 43, 7], \"y\": [397.11999999999995, 417.38, 312.38, 354.09, 135.18, 521.2, 380.64000000000004, 599.9700000000001, 573.22, 309.05000000000007, 188.14000000000001, 750.0, 363.65, 594.0, 405.38, 176.97, 415.8, 114.13999999999999, 462.95000000000005, 266.39, 160.18, 738.6, 390.53999999999996, 97.5, 558.7, 535.3200000000002, 409.5000000000001, 455.88, 534.8500000000001, 513.6999999999999, 204.0, 642.7700000000001, 560.47, 305.28, 656.6800000000002, 348.15000000000003, 271.4, 220.09999999999997, 416.08000000000004, 477.83000000000004, 243.94, 501.14, 283.72999999999996, 3096.0, 618.52, 228.91, 91.8, 417.20000000000005, 712.88, 116.00999999999999, 121.18, 114.60000000000001, 260.67999999999995, 117.88000000000001, 250.26000000000002, 353.48, 533.98, 358.0, 329.56, 600.0700000000002, 121.74, 430.5, 465.67999999999995, 1030.3999999999999, 0.0, 292.31999999999994, 557.62, 944.1, 276.56000000000006, 590.93, 258.4, 361.11, 371.89, 300.41999999999996, 567.36, 675.3, 1308.48, 487.02000000000004, 353.43, 389.5, 341.36, 247.32, 373.94, 397.97999999999996, 609.95, 439.03000000000003, 439.55999999999995, 56.160000000000004, 623.4, 754.8700000000001, 378.63999999999993, 534.5699999999999, 544.08, 307.71999999999997, 457.34000000000003, 621.2300000000002, 75.0, 252.49, 572.4509999999999, 213.55, 534.24, 196.88999999999996, 283.71, 291.88000000000005, 183.44, 422.64000000000004, 229.59, 454.24, 575.4000000000001, 449.52, 316.26000000000005, 348.04999999999995, 295.93000000000006, 458.52, 125.80000000000001, 307.76, 483.80000000000007, 270.79, 631.34, 240.22, 192.85, 1384.2499999999998, 294.4, 712.4, 247.95999999999998, 396.97, 180.17000000000002, 428.89, 164.34, 417.6900000000001, 213.85, 122.64, 354.8, 346.6, 94.2, 379.65000000000003, 305.0199999999999, 218.55, 349.7, 486.82000000000005, 910.0, 151.3, 330.79, 296.88, 180.48, 610.59, 339.6, 216.9, 350.75, 741.26, 286.78999999999996, 345.0, 309.04, 1516.0, 558.32, 324.79999999999995, 924.5999999999999, 1140.35, 385.64, 209.49000000000004, 52.199999999999996, 384.7999999999999, 312.98, 1255.0, 305.78, 501.56, 389.59999999999997, 540.45, 506.8, 349.54999999999995, 605.63, 416.9, 821.1000000000001, 311.15999999999997, 272.03999999999996, 351.13000000000005, 223.85000000000002, 348.99000000000007, 842.65, 337.34, 608.7899999999998, 922.0999999999999, 376.5799999999999, 71.66, 561.57, 674.4499999999998, 322.96, 230.22, 169.55, 664.5400000000001, 196.79, 76.8, 473.02, 505.18, 631.9000000000001, 440.0, 327.70000000000005, 467.66, 626.65, 152.2, 409.93, 725.6400000000001, 151.04, 122.47, 375.0999999999999, 45.599999999999994, 147.34999999999997, 194.90000000000003, 419.58000000000004, 483.86, 605.6399999999999, 311.81, 483.4, 446.62000000000006, 134.46, 576.9, 452.89, 1011.9999999999998, 335.52, 328.15999999999997, 1070.48, 169.48000000000002, 89.94, 632.3999999999999, 683.1700000000001, 490.86, 492.65, 437.96000000000004, 559.97, 176.63, 166.2, 43.2, 640.1400000000001, 310.26, 508.58, 477.78999999999996, 605.0600000000001, 462.65999999999997, 415.2, 588.2199999999999, 108.97999999999999, 409.57, 163.62, 225.76999999999998, 161.2, 257.68, 202.68, 202.10999999999999, 574.6999999999999, 1063.0, 490.2200000000001, 387.52, 363.34000000000003, 483.24999999999994, 434.34000000000003, 529.62, 316.24999999999994, 279.05, 636.51, 321.92, 463.38, 139.56, 123.79999999999998, 538.8100000000001, 475.37, 356.85, 455.59000000000003, 270.6, 355.56000000000006, 388.24999999999994, 652.8, 289.24, 186.23000000000002, 165.07, 324.14, 788.38, 227.38999999999996, 138.6, 114.11, 157.05, 393.33, 213.96000000000004, 660.0, 601.5600000000001, 394.43999999999994, 412.78000000000003, 320.58, 344.9000000000001, 443.6, 110.46, 693.81, 597.0899999999999, 114.18, 291.05, 285.73999999999995, 107.95, 195.25, 498.95, 628.3799999999999, 160.19, 313.49000000000007, 328.19999999999993, 389.63999999999993, 563.1499999999999, 420.50000000000006, 300.52, 278.3, 254.11, 192.60000000000002, 386.15, 447.68, 289.99, 77.4, 197.64000000000001, 228.99, 193.13999999999996, 321.42999999999995, 2139.76, 197.13, 102.44999999999999, 325.75, 475.79999999999995, 645.65, 170.32, 266.76, 52.2, 710.28, 519.6800000000001, 255.4, 589.7, 765.3199999999999, 364.79999999999995, 369.2, 554.38, 468.77000000000004, 307.48, 223.88, 100.9, 311.69000000000005, 499.68, 463.8, 147.59000000000003, 114.77, 114.39, 213.27, 296.75, 334.53999999999996, 429.87, 260.17, 125.58000000000001, 265.99999999999994, 518.28, 252.73000000000002, 180.35000000000002, 537.0, 735.6600000000001, 343.61999999999995, 1489.5, 381.32, 480.71, 457.80999999999995, 219.39, 39916.5, 410.48, 876.0, 484.9500000000001, 358.8199999999999, 184.19000000000003, 406.53000000000003, 330.11000000000007, 623.5, 520.8, 296.42, 401.4000000000001, 487.75, 106.56, 1289.5, 224.14000000000004, 689.48, 622.8499999999998, 310.62, 499.31999999999994, 1268.6999999999998, 331.18, 328.35, 755.75, 409.4000000000001, 429.6, 612.0600000000001, 316.68, 631.5699999999999, 514.15, 356.0, 300.36000000000007, 623.1600000000001, 254.81999999999996, 393.7400000000001, 408.8, 135.31, 255.89999999999998, 240.55, 496.43999999999994, 574.02, 310.46999999999997, 327.96999999999997, 570.5000000000001, 267.13000000000005, 162.29000000000002, 311.7099999999999, 1028.56, 351.67, 173.97, 406.09, 364.5, 473.80999999999995, 277.05000000000007, 427.92999999999995, 446.94000000000005, 642.41, 316.88, 394.14, 231.86, 716.2, 626.77, 572.81, 508.80000000000007, 135.85999999999999, 43.5, 93.78, 171.19, 533.3, 149.29000000000002, 200.16, 156.57999999999998, 494.64, 447.22, 237.07, 161.64, 216.76, 126.14, 467.51, 454.10999999999996, 233.81, 147.09, 492.36000000000007, 62.43, 412.01, 440.0, 148.44, 536.4000000000002, 213.30000000000004, 85.13, 292.71999999999997, 279.77, 173.16000000000003, 186.01000000000002, 455.29999999999995, 478.53, 195.15, 301.03, 588.13, 243.55, 425.32, 664.0, 447.64, 657.3500000000001, 816.0, 337.74, 877.4399999999999, 560.6700000000001, 30.0, 306.45000000000005, 386.43, 301.32000000000005, 323.69, 352.70000000000005, 191.03999999999996, 409.98, 356.7, 449.12, 154.88000000000002, 196.88000000000002, 149.30999999999997, 44534.3, 458.57, 205.25, 583.75, 315.05999999999995, 621.83, 270.79999999999995, 241.61999999999998, 1047.1100000000001, 475.28, 246.3, 351.3, 610.01, 451.42, 415.82000000000005, 1303.9099999999999, 532.94, 137.37, 391.98, 355.55999999999995, 130.73999999999998, 110.80000000000001, 296.99999999999994, 68.84, 230.53, 501.39000000000004, 516.36, 379.35, 446.87, 524.52, 334.23, 167.5, 336.03000000000003, 426.63000000000005, 404.58, 337.43999999999994, 371.01, 430.94, 168.11999999999998, 158.03, 41.989999999999995, 427.07000000000005, 407.50000000000006, 211.88, 628.2800000000002, 236.09, 934.6199999999999, 331.24, 437.69999999999993, 855.0200000000001, 362.05999999999995, 335.32000000000005, 372.09, 584.32, 436.18, 315.06, 302.36, 611.8800000000001, 612.7800000000001, 307.78000000000003, 517.5500000000001, 620.4, 535.3399999999999, 734.1299999999999, 374.99999999999994, 856.6000000000001, 331.95, 305.5400000000001, 338.7100000000001, 215.47999999999996, 215.08, 314.45000000000005, 400.681, 365.27, 592.9, 547.0200000000001, 914.9299999999998, 542.03, 536.68, 432.19999999999993, 414.2, 389.44, 752.4300000000002, 411.7, 357.94999999999993, 559.87, 810.6000000000001, 566.38, 302.25, 301.90000000000003, 361.21999999999986, 632.27, 274.15000000000003, 151.05, 322.41, 395.8, 676.2, 362.9500000000001, 584.5, 221.18999999999997, 303.93, 299.6, 443.05000000000007, 151.83, 262.2, 126.25, 302.69999999999993, 300.85, 642.8100000000001, 184.26, 381.2, 259.01, 707.69, 6.9, 316.11, 544.3, 331.0, 404.30000000000007, 365.45000000000005, 90.30000000000001, 101.7, 484.32000000000005, 215.08, 244.41000000000003, 455.25, 787.15, 285.89, 281.84999999999997, 865.6, 124.2, 451.43999999999994, 313.61999999999995, 459.24, 181.09, 250.14999999999998, 90.04000000000002, 244.79999999999995, 482.47, 618.5900000000001, 506.19, 178.96, 333.08, 322.80000000000007, 487.51, 290.65999999999997, 518.4200000000001, 601.2699999999999, 118.97999999999999, 183.7, 422.59999999999997, 1276.0, 657.9000000000001, 1998.0, 301.71999999999997, 901.2, 623.7500000000001, 155.24, 272.81999999999994, 417.59999999999997, 464.9, 223.92, 2002.4, 369.34000000000003, 316.62, 611.8500000000001, 1145.5999999999997, 380.39, 171.59, 226.35000000000002, 107.6, 80.8, 414.87999999999994, 305.61999999999995, 332.3, 460.5899999999999, 288.42, 417.06000000000006, 497.61, 358.37999999999994, 341.70000000000005, 413.46000000000004, 251.87, 588.85, 214.32000000000002, 193.44, 332.41, 144.91, 35.400000000000006, 680.02, 432.0, 194.88000000000002, 145.93, 219.14000000000001, 379.14, 208.45999999999995, 169.79000000000002, 543.0500000000001, 161.93999999999997, 816.7299999999999, 406.48, 435.02000000000004, 20.8, 518.67, 319.02, 344.3299999999999, 384.06, 126.12, 702.0, 195.36, 270.9, 71.0, 95.85, 357.77, 716.0, 433.53, 112.40000000000002, 449.72999999999996, 339.43999999999994, 642.0199999999999, 247.14, 498.47999999999996, 538.37, 287.62, 248.60999999999996, 307.46000000000004, 259.35, 425.0, 380.5, 465.32, 1689.5, 213.77999999999997, 329.34, 293.1, 206.33999999999997, 317.76, 239.91999999999996, 144.0, 444.74, 342.63, 384.08, 114.23, 354.15, 426.79, 393.48999999999995, 190.88, 178.26, 1253.3600000000001, 317.61999999999995, 763.64, 111.98000000000002, 498.42, 250.03999999999996, 644.3, 363.9, 494.25, 160.57000000000002, 365.84999999999997, 127.85999999999999, 312.22999999999996, 446.17999999999995, 495.7699999999999, 400.09999999999997, 203.2, 336.4, 1259.5600000000002, 457.90999999999997, 281.62, 771.8499999999999, 507.8399999999999, 524.9200000000001, 265.76000000000005, 403.3, 216.3, 517.53, 622.43, 137.0, 511.82, 414.04, 396.87, 376.63999999999993, 622.88, 302.20000000000005, 605.58, 513.2, 208.65, 546.81, 98.42, 148.86, 267.1600000000001, 306.84000000000003, 1487.6, 344.13999999999993, 215.71999999999997, 161.67000000000002, 394.71999999999997, 309.35999999999996, 329.6000000000001, 218.51999999999995, 503.59999999999997, 285.55999999999995, 621.6600000000001, 166.07999999999998, 196.0, 551.0400000000001, 184.39999999999998, 239.41, 338.95000000000005, 417.95000000000005, 885.1899999999999, 303.96999999999997, 168.24, 355.11, 674.52, 287.59000000000003, 371.88, 1143.2699999999998, 245.81000000000003, 283.4699999999999, 278.74, 1117.9, 106.1, 350.38999999999993, 512.31, 36.559999999999995, 35.400000000000006, 110.21, 605.8000000000001, 252.8, 329.65, 428.18, 458.91999999999996, 602.0900000000001, 244.10000000000002, 98.0, 256.32, 152.06, 110.38, 191.66999999999993, 243.27999999999997, 311.01, 397.29, 212.54000000000002, 145.79000000000002, 304.56, 77.50000000000001, 176.67999999999998, 557.3, 111.67999999999999, 508.4599999999999, 102.83, 123.07, 277.35, 582.59, 337.03999999999996, 353.19000000000005, 288.14, 811.45, 152.68, 630.84, 166.42, 523.0, 122.14, 389.78, 115.30999999999999, 230.64999999999998, 97.97000000000001, 300.0200000000001, 363.65, 170.16, 720.5200000000001, 814.0, 318.0, 453.0, 336.13, 343.45, 90.47999999999999, 689.9499999999999, 167.66999999999996, 580.05, 168.31, 113.48000000000002, 430.7, 673.1, 206.83, 931.4999999999999, 1019.52, 179.33999999999997, 612.0799999999999, 371.62000000000006, 530.1500000000001, 638.0600000000002, 104.0, 476.35, 632.0700000000002, 49.8, 973.8399999999999, 163.8, 139.10000000000002, 248.42, 662.08, 443.0, 592.97, 422.58000000000004, 596.0999999999999, 95.34, 349.27000000000004, 283.15000000000003, 204.0, 175.92000000000002, 335.8599999999999, 178.05]}, {\"marker\": {\"color\": \"red\", \"line\": {\"width\": 1}, \"opacity\": 0.9, \"size\": 11}, \"mode\": \"markers\", \"name\": \"Gold\", \"type\": \"scatter\", \"x\": [70, 74, 5, 37, 32, 143, 70, 29, 22, 31, 134, 78, 210, 185, 236, 9, 24, 63, 67, 24, 42, 18, 17, 88, 24, 64, 54, 131, 35, 143, 9, 89, 358, 157, 29, 23, 23, 22, 73, 64, 1, 113, 22, 30, 52, 73, 138, 80, 30, 78, 24, 10, 129, 126, 4, 28, 275, 21, 3, 44, 59, 21, 19, 94, 23, 85, 22, 108, 19, 10, 295, 5, 33, 94, 122, 46, 18, 21, 4, 46, 39, 95, 19, 58, 56, 78, 240, 74, 212, 24, 17, 96, 17, 92, 9, 11, 53, 37, 40, 122, 18, 38, 189, 1, 103, 22, 28, 4, 22, 1, 78, 17, 3, 31, 92, 14, 77, 200, 260, 16, 71, 122, 80, 88, 99, 26, 131, 29, 72, 24, 133, 43, 4, 108, 19, 10, 18, 67, 23, 24, 38, 58, 191, 178, 37, 78, 51, 10, 23, 16, 72, 21, 85, 40, 14, 33, 43, 39, 12, 96, 25, 28, 7, 81, 84, 144, 17, 23, 14, 155, 14, 64, 45, 29, 40, 89, 40, 30, 59, 99, 67, 36, 52, 74, 31, 45, 114, 10, 205, 85, 18, 24, 7, 267, 281, 116, 36, 131, 38, 28, 36, 135, 28, 71, 2, 95, 95, 53, 124, 33, 50, 63, 70, 7, 4, 116, 138, 5, 18, 57, 25, 11, 24, 51, 129, 95, 57, 31, 54, 26, 23, 16, 183, 37, 11, 49, 92, 10, 95, 23, 11, 217, 1, 79, 49, 73, 26, 17, 65, 45, 134, 115, 198, 52, 46, 16, 7, 22, 28, 78, 109, 8, 31, 19, 29, 63, 40, 101, 302, 2, 73, 239, 30, 14, 19, 7, 122, 60, 46, 2, 46, 35, 75, 239, 19, 40, 215, 87, 70, 39, 98, 10, 86, 67, 18, 60, 2, 16, 30, 92, 110, 51, 183, 49, 75, 30, 219, 110, 260, 50, 162, 98, 30, 21, 51, 22, 21, 127, 120, 10, 157, 79, 19, 108, 44, 26, 38, 65, 65, 130, 107, 71, 92, 42, 91, 57, 17, 21, 53, 18, 9, 60, 10, 155, 148, 246, 17, 11, 46, 71, 19, 38, 67, 23, 22, 61, 33, 24, 37, 60, 236, 15, 58, 75, 56, 179, 3, 169, 35, 21, 7, 44, 9, 196, 91, 50, 36, 67, 67, 5, 19, 60, 241, 280, 234, 44, 137, 14, 2, 29, 24, 43, 5, 24, 47, 3, 42, 197, 16, 112, 29, 44, 15, 144, 232, 58, 127, 7, 162, 8, 15, 36, 200, 73, 21, 10, 29, 23, 36, 59, 25, 3, 107, 77, 18, 79, 85, 25, 2, 35, 70, 115, 212, 30, 50, 23, 19, 25, 12, 64, 8, 96, 14, 68, 107, 57, 15, 38, 46, 47, 147, 51, 35, 53, 38, 33, 80, 30, 8, 256, 72, 58, 65, 71, 53, 78, 46, 179, 93, 105, 77, 172, 212, 22, 21, 103, 4, 8, 31, 196, 23, 29, 18, 50, 114, 60, 18, 127, 52, 46, 164, 10, 31, 18, 68, 29, 14, 119, 2, 10, 87, 85, 10, 60, 46, 36, 217, 29, 134, 36, 66, 100, 151, 22, 57, 37, 22, 29, 10, 67, 60, 64, 75, 3, 70, 85, 39, 32, 66, 80, 0, 45, 254, 95, 75, 57, 137, 169, 31, 26, 9, 58, 26, 54, 26, 30, 29, 338, 85, 9, 50, 2, 113, 14, 40, 22, 28, 17, 52, 189, 1, 32, 19, 7, 4, 36, 60, 28, 11, 103, 11, 31, 177, 37, 68, 24, 50, 46, 100, 35, 26, 36, 61, 28, 32, 10, 56, 4, 103, 74, 45, 89, 166, 18, 36, 9, 45, 190, 168, 40, 49, 25, 4, 17, 172, 63, 11, 145, 24, 11, 15, 65, 114, 19, 61, 65, 31, 5, 25, 10, 14, 113, 75, 107, 46, 46, 50, 306, 36, 78, 107, 63, 44, 3, 56, 99, 37, 58, 254, 44, 33, 72, 38, 19, 136, 22, 40, 32, 369, 2, 23, 8, 19, 21, 89, 82, 16, 8, 33, 31, 19, 23, 2, 77, 88, 123, 44, 88, 2, 23, 22, 35, 39, 12, 29, 92, 87, 7, 65, 30, 22, 37, 119, 32, 145, 45, 65, 22, 44, 16, 100, 59, 114, 87, 50, 70, 84, 8, 59, 57, 73, 39, 51, 21, 59, 18, 65, 4, 268, 15, 65, 17, 95, 126, 94, 72, 64, 16, 44, 23, 30, 54, 25, 44, 88, 19, 170, 36, 318, 57, 87, 43, 40, 33, 211, 23, 52, 50, 73, 71, 353, 72, 22, 37, 106, 17, 119, 35, 1, 128, 46, 17, 107, 16, 44, 21, 17, 33, 32, 18, 2, 82, 33, 66, 61, 74, 60, 28, 53, 56, 60, 154, 19, 18, 19, 44, 26, 112, 24, 46, 33, 63, 21, 23, 51, 10, 75, 15, 77, 33, 46, 79, 296, 4, 106, 25, 31, 4, 186, 22, 17, 5, 110, 95, 163, 42, 26, 5, 53, 15, 26, 127, 84, 80, 50, 61, 36, 32, 15, 51, 80, 73, 32, 31, 4, 177, 16, 68, 15, 28, 54, 72, 4, 61, 68, 37, 45, 84, 218, 91, 302, 52, 31, 52, 37, 44, 30, 114, 19, 47, 57, 67, 60, 100, 123, 163, 23, 103, 142, 4, 15, 38, 38, 100, 4, 23, 144, 31, 66, 37, 194, 1, 26, 116, 29, 81, 9, 23, 156, 21, 26, 1, 54, 25, 56, 134, 17, 38, 4, 39, 38, 255, 29, 7, 30, 23, 85, 46, 50, 8, 40, 78, 11, 86, 16, 87, 26, 25, 85, 117, 28, 28, 81, 73, 21, 58, 114, 36, 36, 25, 109, 123, 22, 18, 159, 8, 3, 152, 105, 17, 7, 32, 57, 44, 178, 56, 106, 35, 29, 23, 175, 60, 7, 18, 96, 264, 2, 25, 11, 108, 53, 15, 120, 3, 116, 4, 40, 148, 138, 2, 227, 130, 21, 28, 17, 21, 78, 31, 46, 100, 14, 151, 156, 15, 36, 129, 50, 24, 49, 17, 40, 11, 4, 14, 19, 39, 22, 114, 333, 12, 43, 42, 50, 46, 19, 18, 88, 40, 17, 126, 15, 60, 10, 44, 191, 7, 17, 9, 2, 206, 161, 24, 31, 29, 11, 4, 53, 29, 24, 43, 60, 19, 14, 94, 19, 24, 29, 4, 7, 109, 100, 85, 12, 213, 33, 57, 21, 32, 1, 31, 31, 119, 219, 60, 138, 36, 73, 25, 18, 3, 1, 52, 127, 131, 35, 10, 44, 26, 127, 71, 79, 38, 53, 9, 32, 50, 15, 10, 96, 21, 152, 25, 40, 82, 11, 4, 71, 1, 49, 2, 42, 85, 81, 372, 11, 1, 30, 80, 185, 43, 12, 21, 71, 172, 71, 9, 58, 3, 45, 88, 64, 11, 35, 134, 29, 51, 5, 49, 72, 39, 31, 37, 22, 11, 121, 37, 12, 3, 23, 70, 4, 21, 35, 32, 19, 24, 45, 23, 40, 114, 18, 25, 98, 93, 81, 11, 37, 19, 12, 67, 25, 24, 19, 29, 63, 116, 32, 134, 3, 9, 37, 23, 176, 33, 58, 86, 31, 128, 24, 77, 71, 95, 199, 36, 25, 31, 29, 22, 56, 192, 29, 218, 72, 122, 87, 50, 172, 43, 25, 72], \"y\": [948.8800000000002, 1759.5, 430.15, 6814.640000000001, 383.03000000000003, 2726.77, 1118.99, 325.96, 871.5399999999998, 1050.8899999999999, 1957.1000000000004, 1324.5000000000002, 1106.4, 1607.0600000000002, 854.99, 1463.0399999999997, 703.47, 1175.2199999999998, 1378.3999999999999, 380.47, 372.8, 509.58, 164.23000000000002, 933.7000000000002, 607.53, 11581.800000000001, 913.54, 683.9000000000001, 604.5099999999999, 1603.99, 329.85, 771.91, 1660.9, 7374.9, 372.2199999999999, 503.76000000000005, 414.75999999999993, 1226.89, 789.8899999999999, 689.9000000000001, 975.36, 6912.0, 661.3200000000002, 1247.5, 1010.1800000000002, 921.88, 881.07, 908.46, 629.31, 1214.41, 470.79999999999995, 344.0, 919.6100000000001, 3613.6299999999997, 303.75, 345.82000000000005, 7832.470000000001, 1927.3200000000002, 1098.48, 1531.6200000000003, 786.54, 984.9100000000001, 1197.81, 922.39, 1073.2999999999997, 1793.5800000000002, 962.39, 423.72, 307.0899999999999, 712.8000000000001, 1257.8700000000003, 486.22, 971.7600000000002, 1201.06, 1688.2899999999997, 1021.48, 791.3299999999999, 468.40999999999997, 353.65000000000003, 492.84000000000003, 1575.89, 911.9400000000002, 870.0900000000001, 1223.9, 1520.58, 819.29, 847.4100000000001, 605.1199999999999, 1031.0700000000002, 744.85, 700.7299999999999, 663.6500000000001, 501.11999999999995, 711.41, 399.51, 698.5799999999999, 2107.6600000000003, 217.38, 542.73, 814.86, 1132.14, 578.9399999999999, 873.74, 360.0, 618.09, 1385.51, 1132.0300000000002, 598.57, 1555.32, 640.7600000000001, 1548.6999999999998, 199.48, 787.8499999999999, 789.0, 1140.93, 350.9, 795.1200000000001, 860.12, 775.8499999999999, 979.12, 743.5300000000001, 674.7, 768.2400000000001, 778.65, 1019.76, 572.56, 677.1, 1360.99, 1544.1299999999999, 1003.0600000000002, 1390.5, 712.5, 640.83, 1624.2100000000003, 582.6, 218.46999999999997, 679.4499999999999, 1269.1, 1129.1400000000003, 1058.3400000000001, 1445.0000000000002, 674.6800000000001, 1431.7800000000002, 1238.47, 1454.5800000000002, 1122.4099999999999, 1215.8199999999997, 653.3299999999999, 1166.77, 291.99999999999994, 891.12, 1389.4100000000003, 659.4399999999998, 680.1800000000001, 628.78, 210.30999999999995, 1280.8500000000001, 291.40999999999997, 626.99, 682.4100000000001, 918.1999999999999, 584.06, 174.36999999999998, 1799.33, 777.53, 1749.0200000000004, 373.74999999999994, 732.07, 467.0400000000001, 781.03, 379.65000000000003, 1117.1299999999997, 693.32, 280.53999999999996, 678.0100000000001, 1171.7999999999997, 544.1800000000001, 747.7800000000001, 1638.47, 3070.42, 1071.03, 949.12, 810.5, 1033.3400000000001, 519.44, 1095.08, 932.97, 382.14, 1573.1999999999998, 897.76, 396.91999999999996, 1488.32, 711.86, 806.41, 1079.3400000000001, 799.9, 524.1400000000001, 2375.41, 1079.6599999999999, 333.48, 1016.1400000000001, 752.6, 491.86000000000007, 668.4300000000001, 1341.6, 1156.36, 948.2499999999999, 1647.26, 1186.28, 659.41, 1070.65, 1714.9599999999998, 1521.7600000000002, 360.01000000000005, 348.79999999999995, 688.8600000000001, 4599.42, 632.0, 957.66, 412.05, 834.57, 361.62, 865.0600000000002, 1537.95, 1595.4800000000002, 2651.4599999999996, 1090.1399999999999, 1015.29, 1281.53, 632.97, 564.6200000000001, 388.52, 740.9499999999999, 332.64000000000004, 626.45, 1212.8400000000004, 678.25, 464.57, 1237.53, 568.55, 745.0600000000001, 3251.071, 439.92, 598.1999999999999, 413.59, 869.8699999999998, 920.51, 320.46000000000004, 1266.08, 2043.0800000000002, 529.7299999999999, 962.1899999999999, 695.6099999999999, 917.34, 1421.61, 642.8000000000001, 584.0699999999999, 651.8199999999999, 1428.0200000000002, 1560.3799999999994, 1659.75, 1308.6100000000001, 746.3599999999999, 225.36, 1353.74, 374.7, 499.4200000000001, 1049.37, 934.52, 194.42, 5976.790000000001, 1266.23, 597.9100000000001, 692.85, 1382.7399999999998, 706.1300000000001, 709.7099999999999, 637.5000000000002, 415.81999999999994, 915.1300000000001, 3742.2, 658.64, 621.29, 1345.62, 432.88, 507.65999999999997, 1110.52, 2445.9100000000003, 1631.7700000000004, 574.84, 363.79, 450.8400000000001, 559.4100000000001, 853.3900000000001, 701.4, 747.4400000000002, 161.02999999999994, 466.70000000000005, 1004.3800000000001, 991.1300000000001, 1050.1200000000001, 1547.2, 925.71, 1462.7200000000003, 3144.86, 890.3400000000001, 1693.4499999999998, 1474.0600000000002, 969.06, 1163.45, 1516.24, 1119.7400000000002, 595.25, 1910.0100000000002, 2093.3199999999997, 866.3100000000001, 668.5600000000002, 889.9300000000002, 1021.58, 133.5, 1078.9600000000003, 701.23, 912.1800000000001, 3717.35, 348.1, 626.07, 1247.69, 1043.46, 487.99000000000007, 1475.8100000000002, 2157.73, 2059.4500000000003, 1105.07, 770.0300000000001, 1496.98, 813.1100000000001, 322.08, 1372.8, 1420.2, 1163.2300000000002, 375.35, 662.59, 264.44, 1837.92, 2103.0599999999995, 1058.62, 598.76, 461.19000000000005, 547.6600000000001, 925.8499999999999, 1309.6000000000001, 165.75, 1064.2800000000002, 1383.18, 276.42, 1055.35, 330.45000000000005, 974.54, 364.21999999999997, 620.04, 932.8500000000001, 537.48, 1461.6500000000003, 1080.76, 1530.3600000000001, 1653.42, 168.63, 1042.2600000000002, 570.4599999999999, 617.99, 379.8299999999999, 221.97, 553.44, 899.63, 671.9599999999999, 1006.98, 609.8500000000001, 830.76, 654.5999999999999, 247.14999999999998, 637.8900000000001, 1835.6999999999998, 1269.9900000000002, 411.53000000000003, 765.55, 371.7, 591.5500000000001, 318.16999999999996, 1126.37, 917.07, 867.3800000000001, 329.67999999999995, 663.8100000000002, 718.08, 380.02000000000004, 1164.55, 1314.45, 1448.2099999999998, 1099.98, 1220.2600000000002, 1415.75, 638.05, 738.9599999999998, 1484.06, 876.42, 1011.8999999999999, 730.8599999999999, 679.4399999999998, 845.55, 353.27, 554.6500000000001, 778.5, 1110.3400000000001, 657.8, 507.28999999999996, 1127.7100000000003, 697.55, 511.3499999999999, 1311.38, 1173.12, 841.2, 522.38, 1465.3199999999997, 706.1900000000002, 761.5899999999999, 1862.0, 655.7499999999999, 332.66, 434.35, 1227.43, 1268.98, 1610.1499999999996, 977.77, 1316.0700000000002, 749.1, 1101.97, 371.2, 289.82000000000005, 336.16999999999996, 695.4199999999998, 221.26999999999998, 599.0, 191.32, 1592.06, 1314.4499999999998, 790.86, 326.4, 233.23000000000002, 546.2, 490.52000000000004, 1246.3200000000002, 502.09000000000003, 308.94, 423.04, 496.21, 377.01, 469.0, 1066.15, 627.1300000000001, 4959.1, 465.5499999999999, 705.49, 384.05, 987.86, 893.59, 1744.76, 553.36, 1109.5300000000002, 982.07, 748.87, 773.03, 880.8499999999999, 895.61, 504.79999999999995, 1160.0699999999997, 1370.6, 248.07999999999998, 317.53, 703.3599999999999, 1027.44, 996.1, 1567.4799999999998, 340.11, 457.72, 1633.7799999999997, 1471.0, 977.93, 982.4199999999998, 2354.25, 498.74000000000007, 1327.16, 301.29, 329.25, 304.4699999999999, 843.0499999999998, 406.76, 411.41, 1044.3200000000002, 3861.0, 1079.6100000000001, 1236.54, 653.24, 420.3, 894.41, 734.9399999999999, 1219.4, 2247.51, 1071.99, 2515.84, 740.78, 890.85, 1810.77, 1506.12, 1717.36, 721.94, 615.14, 486.69, 939.78, 641.94, 4507.01, 694.4000000000002, 1174.35, 924.85, 312.62, 2748.3100000000004, 679.68, 1049.7, 714.9599999999999, 574.0699999999999, 2020.52, 563.9399999999999, 393.53999999999996, 777.0200000000002, 913.1900000000002, 602.5100000000001, 1877.5900000000004, 2007.4, 3703.29, 510.71000000000004, 1358.88, 774.9, 950.36, 397.35, 383.68, 974.5200000000001, 429.84, 538.7299999999999, 1048.85, 334.53000000000003, 524.88, 538.5500000000001, 469.4799999999999, 371.5600000000001, 1771.2, 1441.4199999999998, 1134.28, 659.4599999999998, 1262.2, 3610.96, 1000.2700000000001, 343.5, 398.84000000000003, 807.57, 538.46, 575.6300000000002, 436.05999999999995, 437.23, 473.65, 800.5899999999999, 1375.71, 650.4300000000001, 607.45, 702.25, 940.6700000000001, 348.59999999999997, 682.9100000000001, 913.6800000000001, 388.58, 1406.5900000000001, 324.57, 761.74, 1198.23, 2920.16, 1093.68, 776.8510000000002, 336.40000000000003, 1553.1799999999998, 1293.03, 1534.26, 675.8000000000001, 1186.35, 724.76, 812.9999999999999, 612.01, 646.3, 922.5300000000001, 748.5, 1024.1, 2242.01, 684.34, 657.23, 1426.16, 239.76, 309.6499999999999, 696.6799999999998, 1060.56, 330.87999999999994, 1118.81, 598.73, 507.08, 415.25, 1120.88, 1339.45, 1094.59, 532.96, 714.4200000000001, 1086.9200000000003, 635.6800000000001, 345.46000000000004, 220.85, 965.6099999999999, 2207.4, 884.14, 699.0799999999999, 1063.95, 784.5799999999999, 903.9000000000001, 3734.9700000000003, 515.77, 1391.98, 1801.14, 2100.6, 570.9599999999999, 885.4699999999999, 1654.3100000000002, 636.1399999999998, 576.0, 801.76, 836.7900000000001, 954.09, 1048.49, 1224.06, 389.2699999999999, 238.85, 712.24, 1936.3200000000004, 895.13, 354.09000000000003, 343.28, 396.47999999999996, 351.11000000000007, 164.67999999999998, 639.8900000000001, 1107.4600000000003, 6115.009999999999, 1708.24, 364.72, 708.22, 806.5699999999999, 428.89000000000004, 470.76000000000005, 418.83, 666.0999999999999, 1098.78, 2398.8599999999997, 1142.4199999999998, 792.1100000000001, 1060.68, 12393.699999999999, 478.78000000000003, 992.7100000000002, 1415.29, 408.90000000000003, 251.24, 439.65999999999997, 548.94, 758.9199999999998, 471.78, 1313.5500000000002, 3166.4, 1197.2700000000002, 773.99, 1340.7, 1511.9500000000003, 783.9000000000001, 664.85, 1459.8600000000001, 852.15, 326.24, 1352.0000000000002, 1317.62, 1121.3899999999999, 817.86, 2005.63, 731.8999999999997, 1290.6999999999998, 842.5, 423.36, 1309.14, 867.1099999999999, 684.42, 656.25, 3506.540000000001, 618.09, 709.3800000000002, 635.4100000000001, 725.1800000000001, 280.52000000000004, 1829.0399999999997, 656.6899999999999, 1025.44, 822.48, 1140.2100000000003, 1009.55, 1037.5900000000001, 6617.65, 1158.79, 529.4100000000001, 981.8599999999999, 405.71, 761.38, 537.0600000000001, 394.38, 664.26, 2262.6199999999994, 690.3399999999999, 1062.75, 864.86, 846.72, 1295.3, 1010.5999999999998, 990.8799999999999, 867.3099999999998, 409.1, 1522.75, 1413.66, 1800.0700000000002, 1035.45, 861.8899999999999, 667.6500000000001, 1141.2399999999996, 2062.0600000000004, 598.1999999999999, 2560.0, 706.57, 616.26, 1341.65, 328.15, 326.74999999999994, 428.67999999999995, 594.24, 251.91, 549.07, 370.47999999999996, 575.4100000000001, 1116.47, 494.44, 658.88, 734.77, 327.3, 497.42999999999995, 1320.56, 367.92999999999995, 473.03, 1780.59, 668.3599999999998, 555.89, 317.2, 1382.0699999999997, 1555.3400000000001, 1486.9, 1705.8, 408.57, 163.07, 214.64999999999998, 210.34999999999997, 1051.4, 972.23, 346.12, 654.6700000000001, 230.51000000000002, 1841.18, 1422.4, 650.4300000000001, 762.3900000000001, 300.83, 769.29, 220.62, 363.65, 498.79999999999995, 731.5, 1351.63, 826.5299999999999, 400.86, 1431.9299999999998, 484.38, 777.6, 874.5899999999999, 1046.57, 1244.59, 6748.8, 593.75, 548.97, 922.12, 5719.82, 837.0999999999999, 841.4100000000001, 511.12, 1077.74, 614.6600000000001, 1421.69, 1009.6, 663.61, 936.0799999999998, 330.03000000000003, 360.15999999999997, 528.0799999999999, 1187.6599999999999, 500.42, 813.4800000000001, 810.5699999999999, 417.73, 1154.4700000000003, 1257.51, 688.33, 833.78, 1267.6499999999999, 570.13, 306.71999999999997, 1692.27, 319.60999999999996, 1770.3400000000001, 1027.9999999999998, 324.24, 482.01, 531.3499999999999, 656.6300000000001, 3029.8700000000003, 1161.53, 589.1499999999999, 781.02, 743.11, 603.7499999999999, 650.51, 836.06, 623.9300000000001, 1764.7199999999998, 1496.83, 1501.3799999999999, 478.0899999999999, 770.1, 661.52, 388.2800000000001, 425.19, 597.4799999999999, 1619.73, 536.99, 801.4900000000001, 1121.59, 547.0699999999999, 460.64, 775.1800000000001, 325.90999999999997, 1264.19, 342.45000000000005, 328.40000000000003, 747.8100000000001, 502.8, 705.12, 429.84000000000003, 1578.67, 525.5400000000001, 508.81, 1706.88, 373.24, 579.7700000000003, 621.6800000000001, 576.2600000000001, 2596.4500000000003, 846.75, 380.54999999999995, 563.23, 950.9300000000001, 262.68, 1178.56, 1277.7500000000002, 308.74, 507.05, 439.43, 650.4100000000001, 357.21, 1078.9600000000003, 1873.2, 1133.25, 1456.9600000000003, 484.82, 1493.7300000000002, 1412.9400000000003, 889.9299999999998, 586.3299999999999, 920.1, 890.2900000000001, 380.35, 1030.14, 745.5200000000001, 1267.32, 1081.57, 948.48, 1100.8999999999999, 925.35, 413.74999999999994, 1356.3300000000002, 1179.8899999999999, 5232.23, 1461.14, 859.35, 312.14, 841.0799999999999, 378.20000000000005, 290.15999999999997, 1405.78, 1566.65, 1324.1599999999999, 971.74, 665.7799999999999, 837.4999999999997, 606.91, 1004.75, 749.78, 251.69999999999993, 319.0, 1266.97, 835.7800000000002, 1443.69, 711.79, 796.03, 384.40000000000003, 1699.3000000000002, 1013.01, 692.2199999999999, 1564.56, 1069.1200000000001, 335.13000000000005, 939.3199999999999, 318.76000000000005, 3638.41, 421.52, 550.0600000000002, 314.69, 1135.04, 954.9, 282.19, 318.65000000000003, 384.52, 353.85999999999996, 272.44, 298.41, 603.37, 562.9000000000002, 310.64, 1065.3500000000001, 1703.4100000000003, 153.92000000000002, 556.95, 131.78, 197.63000000000002, 1384.85, 2328.84, 2600.34, 1200.6200000000001, 523.11, 2027.87, 781.3599999999999, 537.7400000000001, 587.15, 1740.0, 1393.06, 388.13999999999993, 488.20000000000005, 423.88999999999993, 646.9200000000001, 404.66, 199.28999999999996, 261.11, 784.1099999999999, 7330.8, 696.4100000000001, 653.38, 2200.42, 778.9399999999999, 778.0, 463.46, 598.83, 698.41, 759.1700000000001, 365.76, 303.15999999999997, 541.53, 486.71999999999997, 1737.7, 316.49999999999994, 675.6899999999999, 763.28, 1125.0700000000002, 710.29, 497.56000000000006, 1138.0, 689.0999999999999, 558.9599999999999, 2997.03, 1145.84, 308.48, 639.02, 723.21, 652.74, 1195.9, 939.37, 897.62, 578.9, 645.96, 930.41, 483.26, 541.4599999999999, 854.9500000000002, 167.61999999999998, 454.01, 380.59999999999997, 448.8999999999999, 1242.3000000000002, 1133.07, 1240.2, 993.1800000000001, 388.78999999999996, 2044.37, 193.42000000000002, 390.07000000000005, 1379.8999999999999, 527.0500000000001, 528.3300000000002, 1324.8400000000001, 547.0600000000001, 712.29, 1008.39, 1797.5, 868.49, 1207.56, 1674.6900000000003, 595.42, 604.64, 728.1599999999999, 347.75, 1992.1100000000001, 740.9399999999998, 765.3400000000001, 798.74, 385.1, 522.91, 1195.94, 3276.4, 1033.0, 1240.11, 692.1899999999999, 700.63, 377.44, 712.78, 818.82, 271.20000000000005, 182.76999999999998, 1225.4099999999999, 658.57, 1865.19, 323.04, 697.9000000000001, 1285.04, 546.04, 387.68, 3704.87, 398.69999999999993, 155.37000000000003, 350.63999999999993, 338.79999999999995, 2033.1, 901.2, 5391.210000000001, 114.34, 1418.0300000000002, 1197.1000000000004, 1859.1600000000003, 683.4600000000002, 379.45, 190.19, 726.05, 1119.81, 566.6, 800.24, 366.23, 411.59999999999997, 336.43, 341.28000000000003, 1304.0400000000002, 826.52, 843.0, 1740.4799999999998, 408.36, 1331.57, 704.25, 389.84, 4106.4400000000005, 482.2, 1008.5400000000003, 471.69999999999993, 1098.4299999999998, 634.9499999999999, 201.11999999999998, 678.49, 382.06000000000006, 417.22999999999996, 249.71999999999997, 444.68, 2116.19, 120.03000000000002, 422.87999999999994, 730.4000000000002, 405.62, 357.2, 559.51, 189.39999999999998, 306.46, 396.33000000000004, 3877.5199999999995, 1231.5, 703.37, 4055.7199999999993, 2106.52, 3017.3, 223.64999999999998, 754.6400000000001, 236.3, 352.69000000000005, 1418.03, 320.71999999999997, 589.44, 348.73, 681.9100000000001, 784.3299999999998, 1000.1600000000001, 566.5800000000002, 653.3499999999999, 399.18999999999994, 453.4, 399.65, 1384.86, 1169.94, 980.3100000000001, 1231.31, 2106.8400000000006, 1341.42, 1590.81, 382.7999999999999, 1090.2400000000002, 957.9699999999999, 689.1300000000001, 1396.9900000000002, 517.3599999999999, 600.07, 481.74999999999994, 621.7500000000001, 1041.6100000000001, 779.9, 2083.2699999999995, 882.24, 1561.6100000000001, 2232.4900000000002, 804.02, 4314.72, 526.6700000000001, 2643.2, 324.24, 1213.1599999999999, 801.5100000000001]}, {\"marker\": {\"color\": \"black\", \"line\": {\"width\": 1}, \"opacity\": 0.9, \"size\": 13}, \"mode\": \"markers\", \"name\": \"Platinum\", \"type\": \"scatter\", \"x\": [2, 3, 3, 2, 2, 59, 33, 2, 4, 65, 7, 26, 3, 8, 11, 39, 23, 2, 4, 138, 8, 9, 4, 35, 21, 2, 17, 15, 16, 30, 2, 8, 5, 1, 9, 8, 7, 3, 0, 3, 4, 4, 11, 9, 1, 10, 53, 16, 4, 11, 8, 31, 14, 14, 12, 0, 1, 3, 11, 8, 32, 1, 1, 31, 0, 11, 89, 4, 56, 10, 16, 84, 29, 14, 49, 8, 36, 16, 26, 7, 14, 11, 10, 3, 9, 30, 10, 19, 60, 3, 4, 12, 18, 1, 11, 2, 17, 1, 23, 7, 4, 7, 1, 37, 66, 5, 36, 38, 82, 45, 67, 9, 17, 33, 60, 31, 30, 11, 1, 1, 11, 40, 64, 0, 10, 5, 14, 16, 26, 26, 17, 7, 10, 1, 1, 45, 17, 7, 17, 3, 8, 1, 59, 1, 33, 33, 2, 1, 66, 73, 5, 40, 12, 10, 25, 15, 11, 108, 5, 1, 12, 24, 23, 5, 24, 33, 16, 9, 16, 43, 9, 2, 1, 17, 2, 31, 26, 5, 3, 32, 15, 49, 24, 5, 16, 3, 2, 11, 2, 2, 64, 33, 0, 12, 9, 1, 30, 5, 32, 16, 5, 58, 8, 1, 18, 7, 123, 2, 22, 53, 21, 3, 2, 10, 7, 1, 28, 72, 79, 57, 1, 17, 21, 2, 7, 5, 7, 18, 31, 39, 29, 4, 19, 12, 42, 3, 15, 10, 43, 9, 18, 7, 2, 40, 26, 16, 0, 1, 23, 4, 9, 3, 4, 4, 2, 7, 12, 16, 5, 51, 3, 22, 3, 3, 10, 1, 2, 1, 1, 3, 8, 19, 59, 8, 40, 10, 30, 2, 1, 4, 10, 105, 53, 11, 3, 1, 42, 28, 26, 42, 22, 43, 8, 7, 1, 64, 9, 8, 3, 23, 8, 11, 1, 7, 3, 17, 8, 71, 88, 8, 46, 44, 10, 17, 16, 16, 45, 31, 8, 32, 10, 10, 2, 2, 4, 33, 10, 1, 3, 10, 0, 23, 7, 9, 8, 0, 0, 18, 5, 66, 29, 103, 18, 26, 7, 42, 26, 19, 3, 47, 17, 17, 11, 17, 31, 19, 2, 25, 24, 2, 60, 9, 28, 24, 5, 3, 10, 19, 10, 7, 3, 95, 3, 12, 5, 18, 15, 19, 11, 15, 4, 1, 32, 23, 4, 52, 24, 4, 1, 8, 17, 8, 28, 10, 3, 16, 31, 25, 25, 7, 30, 4, 1, 32, 10, 1, 11, 15, 14, 10, 9, 1, 10, 1, 8, 16, 3, 4, 11, 9, 4, 8, 2, 51, 16, 2, 1, 47, 39, 40, 3, 17, 89, 53, 43, 63, 21, 58, 78, 12, 10, 3, 8, 12, 9, 7, 7, 23, 11, 21, 2, 3, 29, 59, 10, 9, 35, 72, 115, 15, 12, 8, 11, 3, 9, 4, 4, 15, 9, 19, 9, 25, 23, 4, 12, 25, 40, 8, 37, 9, 7, 10, 18, 18, 17, 9, 30, 17, 14, 7, 25, 50, 14, 2, 8, 4, 17, 9, 1, 3, 1, 8, 18, 1, 1, 3, 25, 1, 1, 10, 51, 66, 1, 10, 44, 66, 31, 9, 16, 15, 7, 4, 58, 43, 4, 25, 50, 2, 50, 12, 31, 4, 25, 40, 8, 40, 8, 14, 4, 9, 16, 1, 33, 84, 64, 19, 33, 8, 12, 1, 9, 1, 19, 15, 1, 30, 95, 32, 21, 2, 8, 15, 22, 11, 33, 12, 64, 40, 2, 18, 22, 21, 8, 25, 9, 7, 77, 12, 22, 2, 7, 4, 120, 23, 15, 11, 8, 9, 10, 43, 4, 15, 4, 105, 25, 18, 88, 73, 18, 24, 9, 8, 0, 33, 2, 140, 35, 40, 9, 32, 35, 16, 14, 18, 16, 12, 2, 39, 10, 88, 9, 32, 46, 26, 43, 1, 0, 23, 22, 16, 49, 73, 70, 11, 17, 4, 4, 15, 40, 12, 8, 5, 14, 63, 1, 1, 16, 9, 19, 3, 0, 16, 4, 8, 31, 15, 24, 17, 17, 39, 17, 24, 22, 2, 12, 8, 36, 29, 12, 47, 8, 3, 37, 3, 3, 46, 16, 46, 5, 40, 16, 9, 16, 3, 56, 23, 11, 42, 7, 17, 45, 9, 29, 17, 3, 3, 8, 42, 49, 8, 1, 10, 8, 50, 15, 100, 22, 31, 2, 4, 3, 1, 29, 44, 24, 9, 8, 66, 16, 45, 17, 9, 2, 21, 5, 31, 21, 9, 25, 64, 5, 14, 28, 7, 24, 11, 32, 3, 1, 7, 4, 9, 11, 17, 37, 18, 8, 4, 2, 1, 12, 36, 44, 17, 2, 29, 5, 7, 1, 99, 2, 28, 19, 33, 7, 63, 3, 8, 49, 21, 52, 1, 2, 19, 2, 10, 108, 66, 0, 15, 4, 4, 17, 15, 31, 0, 29, 17, 22, 58, 16, 17, 22, 9, 23, 16, 2, 33, 2, 47, 1, 8, 8, 0, 19, 3, 9, 18, 23, 14, 17, 26, 46, 38, 78, 29, 11, 86, 4, 17, 7, 3, 30, 33, 10, 2, 10, 3, 29, 1, 11, 23, 8, 14, 2, 10, 1, 31, 8, 36, 42, 22, 22, 4, 67, 12, 30, 15, 1, 7, 16, 4, 5, 29, 4, 28, 49, 12, 80, 3, 5, 8, 52, 12, 21, 3, 0, 8, 3, 12, 88, 17, 3, 10, 0, 4, 28, 2, 11, 2, 32, 2, 96, 29, 12, 28, 28, 17, 17, 33, 35, 7, 28, 4, 2, 50, 15, 10, 33, 29, 5, 5, 15, 16, 15, 1, 22, 21, 31, 28, 32, 5, 7, 11, 28, 35, 26, 40, 4, 24, 15, 12, 12, 2, 1, 42, 60, 26, 9, 31, 3, 8, 11, 14, 10, 24, 1, 8, 15, 17, 17, 29, 3, 14, 8, 17, 0, 12, 23, 40, 23, 8, 7, 0, 126, 4, 1, 16, 2, 29, 11, 16, 8, 0, 2, 36, 2, 1, 43, 22, 16, 16, 3, 0, 1, 57, 28, 15, 17, 1, 1, 1, 1, 14, 8, 7, 50, 8, 0, 60, 2, 73, 3, 23, 2, 40, 7, 53, 22, 5, 14, 18, 5, 36, 1, 11, 25, 10, 17, 25, 66, 42, 15, 50, 1, 1, 4, 1, 10, 16, 7, 30, 38, 16, 30, 3, 4, 22, 37, 96, 16, 15, 3, 3, 2, 19, 11, 3, 5, 0, 1, 19, 17, 8, 12, 24, 26, 22, 22, 37, 16, 4, 12, 14, 5, 42, 26, 4, 5, 3, 59, 12, 30, 2, 3, 3, 31, 4, 11, 8, 5, 21, 37, 24, 15, 35, 74, 32, 35, 11, 4, 7, 21, 5, 26, 23, 8, 45, 2, 11, 7, 1, 10, 8, 29, 15, 17, 7, 12, 12, 15, 14, 9, 4, 15, 4, 71, 1, 2, 4, 3, 44, 11, 9, 71, 2, 9, 7, 39, 24, 2, 3, 42], \"y\": [4196.009999999999, 4090.88, 942.34, 1474.72, 1018.71, 2612.8599999999997, 683.13, 5591.42, 4022.35, 1702.2600000000002, 2179.93, 4036.82, 1535.7700000000002, 17654.539999999997, 2919.81, 2178.67, 3075.0400000000004, 1662.3, 2483.6299999999997, 3006.1499999999996, 1335.19, 16587.09, 694.05, 2062.7, 42055.96, 2160.7, 1063.8999999999999, 1504.2700000000002, 2064.95, 4167.22, 1843.0, 1064.07, 1387.79, 4757.160000000001, 4017.54, 1856.63, 452.24000000000007, 11189.91, 1239.3799999999999, 6924.110000000001, 974.42, 9818.82, 5655.91, 1661.8400000000001, 4810.94, 3466.2799999999997, 3346.2799999999997, 7277.700000000001, 2616.38, 799.4800000000001, 676.99, 3237.54, 1835.9099999999999, 5836.860000000001, 1119.4900000000002, 4436.12, 729.2700000000001, 12627.939999999999, 28337.379999999997, 8910.819999999998, 6010.419999999999, 28882.44, 6424.089999999999, 1488.67, 12245.96, 2294.7799999999997, 3866.33, 2099.64, 2607.6099999999997, 3650.41, 5064.9400000000005, 2388.75, 3707.12, 1676.0600000000002, 1741.2199999999998, 1437.85, 1319.19, 2817.0299999999997, 5725.469999999999, 3957.7800000000007, 1701.29, 1797.78, 3401.24, 9817.119999999999, 869.4599999999999, 5891.61, 1197.42, 788.0799999999999, 2155.9499999999994, 6463.84, 2806.9700000000003, 1357.6000000000001, 1987.3, 7454.07, 3834.26, 4521.49, 3214.69, 5346.23, 2709.1200000000003, 2089.85, 2000.8599999999997, 1456.79, 775.94, 5977.7300000000005, 2273.6800000000003, 10845.55, 7121.95, 3627.77, 3536.8200000000006, 10736.48, 2543.7200000000007, 3090.7400000000002, 992.5, 2225.37, 3312.2500000000005, 3639.31, 4151.93, 797.9599999999999, 2520.0200000000004, 28117.04, 6127.43, 1851.08, 2626.3, 3641.3199999999997, 1006.7999999999998, 3809.89, 3408.0600000000004, 3539.3700000000003, 2043.72, 2976.15, 1766.72, 9646.57, 1083.71, 5704.969999999999, 2531.58, 1804.5600000000002, 8968.31, 2044.87, 1159.11, 2479.16, 979.72, 1791.56, 2128.42, 1093.65, 3964.88, 2287.51, 5870.08, 3448.29, 3740.0699999999997, 4149.280000000001, 605.06, 874.71, 2092.3199999999997, 6717.34, 1687.6000000000001, 2478.95, 1981.9199999999994, 2037.0800000000002, 697.0400000000001, 5153.67, 1131.88, 1610.46, 7792.360000000001, 2031.7800000000002, 2121.27, 1575.1599999999999, 2624.26, 1678.1200000000001, 1836.3400000000001, 2707.33, 2639.1700000000005, 6363.59, 3722.42, 827.83, 3119.44, 2504.13, 2265.12, 2308.0600000000004, 6328.05, 1445.0100000000002, 1041.68, 1980.56, 2885.2399999999993, 731.8999999999999, 3131.0199999999995, 2161.35, 5189.52, 3190.55, 17220.36, 2796.51, 2634.45, 1132.13, 25977.160000000003, 912.0, 2462.7899999999995, 37153.85, 2635.79, 1747.6600000000003, 1698.94, 2202.99, 691.7299999999999, 3385.6200000000003, 8109.52, 1245.9, 2209.36, 3192.54, 3104.95, 2770.94, 6403.25, 1786.79, 3219.7700000000004, 17159.52, 1191.13, 2674.48, 787.6000000000001, 1883.8100000000004, 2593.0699999999997, 2867.2, 2369.55, 2580.91, 1838.85, 839.14, 5112.96, 2427.3199999999997, 3515.6799999999994, 1026.42, 9053.939999999999, 2758.26, 2526.2799999999997, 1871.81, 2603.4300000000003, 7060.13, 4147.96, 855.9700000000001, 3466.3600000000006, 2313.1400000000003, 1393.69, 3901.81, 4582.639999999999, 2874.72, 2360.0899999999997, 17286.86, 2975.59, 3614.92, 652.8199999999999, 5681.72, 15610.390000000003, 8214.65, 6217.959999999999, 6140.42, 10464.850000000002, 1438.8200000000002, 942.26, 1018.4300000000001, 4448.540000000001, 4076.91, 442.84999999999997, 3104.17, 1360.28, 2703.23, 5683.1500000000015, 2915.15, 1840.4199999999998, 2780.15, 2740.4300000000003, 1123.8600000000001, 3586.0299999999997, 4690.3099999999995, 982.3800000000002, 935.05, 4191.0, 4693.01, 3222.3, 1620.9300000000003, 719.78, 4748.52, 2054.36, 4654.08, 4684.76, 11349.52, 2073.4300000000003, 1905.8400000000001, 2241.1000000000004, 1789.72, 1839.3000000000002, 2004.9799999999998, 3432.8, 2232.19, 3350.96, 2048.07, 775.4600000000003, 2380.8500000000004, 2588.7699999999995, 1904.05, 2879.7, 3099.7200000000003, 12669.98, 2618.2299999999996, 3729.34, 4628.75, 911.26, 2314.6499999999996, 3883.25, 4871.929999999999, 1046.56, 1305.3299999999997, 3965.62, 1858.9600000000003, 2995.72, 2352.53, 1611.59, 2481.13, 1530.7500000000002, 5014.839999999999, 2552.2100000000005, 1614.91, 2182.28, 2128.2300000000005, 9261.52, 1770.5600000000002, 3212.84, 4652.82, 3507.71, 2612.96, 4051.4799999999996, 1474.32, 2606.53, 5900.280000000001, 1937.25, 1058.06, 4263.639999999999, 4481.67, 1244.83, 2255.51, 2357.6800000000003, 1712.8900000000003, 1039.58, 907.1, 3062.3999999999996, 2004.02, 2272.4, 1936.84, 2068.15, 1196.33, 2383.2400000000002, 1957.3200000000002, 815.3199999999999, 2470.67, 3543.26, 673.26, 5905.64, 2012.17, 1314.8100000000002, 2102.0899999999997, 1867.6800000000003, 4332.2, 8508.82, 2925.9100000000003, 1949.7200000000003, 4447.050000000001, 2864.19, 996.26, 3630.3300000000004, 2024.45, 2578.09, 4007.54, 765.62, 859.2700000000001, 2381.04, 2237.7699999999995, 5074.77, 3099.1200000000003, 2832.84, 859.7100000000002, 1052.55, 1601.1399999999999, 1447.14, 1740.6000000000001, 883.1500000000001, 16569.5, 1785.1499999999999, 1788.3600000000004, 889.2499999999999, 2791.27, 959.01, 2984.49, 2125.08, 1417.29, 1947.5499999999997, 1932.23, 848.22, 2529.93, 771.1700000000001, 9241.2, 1736.4, 604.7500000000001, 2548.2400000000002, 28754.11, 1236.2799999999997, 5630.870000000001, 2114.33, 2078.95, 1250.76, 2235.2999999999997, 2549.37, 3292.1400000000003, 1546.9099999999999, 4921.040000000001, 606.13, 2868.7999999999997, 2666.36, 1602.13, 1158.3, 2005.06, 2702.49, 9585.91, 6065.6900000000005, 3902.2799999999997, 1400.3400000000001, 5010.280000000001, 1625.97, 2473.37, 10674.75, 2538.2999999999997, 745.0600000000001, 1319.91, 8022.49, 4339.74, 2741.17, 2087.88, 2226.9100000000003, 1720.3, 1649.5000000000002, 3295.7599999999998, 2824.6899999999996, 3189.8100000000004, 7930.54, 2836.69, 2759.8300000000004, 1353.74, 14389.900000000001, 2953.59, 725.7, 1485.5400000000002, 1237.8500000000001, 11138.71, 1366.38, 1303.52, 1421.29, 2810.63, 1025.44, 3501.1000000000004, 5900.25, 8099.489999999999, 7044.68, 1487.8, 1116.5700000000002, 1931.42, 1641.7599999999998, 6316.57, 1261.78, 1914.8200000000002, 905.0400000000001, 6802.76, 1661.33, 668.1400000000001, 2586.67, 4308.610000000001, 19914.44, 7700.23, 5213.7699999999995, 1782.09, 1391.6100000000001, 697.7900000000001, 302.1, 2124.9900000000002, 1337.7199999999998, 303.09000000000003, 3158.13, 1043.4099999999999, 9743.11, 2420.84, 4597.0199999999995, 2298.9300000000003, 1422.52, 3609.3299999999995, 2760.5599999999995, 1352.75, 1551.7800000000002, 2199.3100000000004, 11528.480000000001, 3447.4, 1387.99, 1286.7000000000003, 6580.4400000000005, 1194.7300000000002, 5314.469999999999, 4745.6900000000005, 961.4899999999999, 1936.0700000000004, 18641.010000000002, 1624.05, 2206.9500000000003, 4777.180000000001, 16225.390000000003, 7616.530000000001, 1827.8, 870.12, 1661.44, 5756.89, 1778.9599999999996, 3386.71, 1412.3200000000002, 780.59, 1706.57, 1756.44, 6688.459999999999, 10484.99, 918.1999999999998, 2379.49, 2507.07, 716.57, 2332.1499999999996, 2306.5200000000004, 7943.219999999999, 4668.300000000001, 3672.8599999999997, 4799.9, 5070.349999999999, 1960.11, 2766.5, 8347.2, 2314.32, 2386.05, 2415.9100000000003, 1233.3599999999997, 1690.26, 5955.709999999999, 1535.53, 2183.5400000000004, 1345.5300000000002, 815.77, 1056.44, 3450.8400000000006, 3984.3199999999997, 1447.3900000000003, 1483.14, 1041.48, 1122.5300000000002, 3236.9100000000003, 1418.2600000000002, 1388.37, 7354.619999999999, 11054.960000000001, 3594.3100000000004, 2575.0, 3100.09, 2001.8000000000002, 1299.23, 13316.400000000001, 1131.5600000000002, 10384.929999999998, 979.26, 909.23, 14758.22, 4139.460000000001, 1942.4499999999998, 3000.2000000000003, 825.92, 2429.7800000000007, 3995.23, 1502.3500000000004, 2007.4399999999996, 1580.93, 3546.7100000000005, 4954.84, 1693.2599999999998, 4805.17, 1400.44, 758.29, 4165.52, 2552.86, 3679.9700000000003, 725.11, 1771.7800000000002, 6776.56, 1297.8700000000001, 1591.4500000000003, 10399.74, 3709.5600000000004, 2870.24, 3285.3100000000004, 12515.66, 1887.2, 1600.86, 2657.13, 2881.02, 2446.6000000000004, 3435.7599999999998, 781.2800000000001, 1333.6799999999998, 2993.1, 6479.4, 2736.46, 1542.1399999999999, 2293.62, 945.5799999999998, 3364.24, 1072.36, 5045.610000000001, 2222.56, 5178.959999999999, 1205.1200000000001, 4812.42, 784.4600000000002, 974.0399999999998, 2465.48, 2637.38, 2364.25, 3279.97, 2614.7400000000002, 2328.9700000000003, 4932.2, 948.05, 1612.69, 2711.56, 4206.389999999999, 5528.4800000000005, 2218.62, 1945.33, 1905.4500000000003, 1836.09, 2233.75, 33643.079999999994, 3711.77, 2974.6499999999996, 16387.57, 1438.8500000000001, 977.2099999999998, 3165.3599999999997, 832.88, 3812.64, 360.93, 4405.88, 493.28000000000003, 1388.88, 363.88, 5126.76, 1567.6899999999998, 967.45, 1232.18, 1528.0900000000001, 2495.8700000000003, 955.2400000000001, 1765.51, 1659.3799999999999, 4416.26, 845.64, 4199.85, 3442.15, 1054.73, 3408.48, 1475.02, 2837.67, 1451.28, 2797.57, 3089.97, 2735.37, 615.3900000000001, 1701.94, 3362.7099999999996, 37130.600000000006, 662.3800000000001, 705.39, 1508.7600000000002, 3786.24, 851.01, 719.81, 8816.4, 1111.79, 2263.12, 1153.62, 1521.8700000000003, 2234.73, 2806.8999999999996, 981.51, 1078.2299999999998, 1842.14, 1429.6399999999999, 3204.16, 1337.48, 1667.97, 6287.77, 1880.2199999999998, 14589.039999999999, 2424.94, 3799.4900000000002, 2053.02, 1824.23, 3122.04, 5575.5599999999995, 3787.6000000000004, 1822.9700000000003, 1885.0500000000004, 1418.32, 10254.18, 4006.9400000000005, 6911.4400000000005, 5180.52, 1080.62, 1863.4700000000003, 21086.300000000003, 3084.68, 1096.3200000000002, 3718.8, 2607.8700000000003, 3603.21, 3683.8599999999997, 2619.91, 5203.510000000001, 746.83, 5447.0, 1429.2400000000002, 1509.5800000000002, 1570.81, 823.97, 2248.99, 1328.5500000000004, 5360.630000000001, 2938.91, 3110.96, 3844.2200000000003, 1593.2, 26626.8, 1971.87, 887.6500000000001, 1469.45, 6675.710000000001, 2027.5, 1750.9200000000003, 3512.53, 896.6600000000001, 707.0399999999998, 1540.42, 804.49, 1553.66, 987.01, 2157.4000000000005, 3046.21, 4098.32, 2126.9300000000003, 2028.88, 675.2700000000002, 34684.4, 1908.25, 1522.2500000000002, 798.35, 3640.6699999999996, 616.79, 2158.3700000000003, 3482.7400000000007, 814.72, 1314.68, 1603.46, 1871.5, 2494.46, 684.41, 1599.52, 2965.69, 950.26, 1627.13, 9418.470000000001, 13027.45, 1095.5600000000002, 1388.81, 4154.639999999999, 2298.97, 3313.79, 8338.490000000002, 3738.4, 4113.68, 813.5199999999999, 3347.71, 5493.46, 2647.5899999999997, 4413.1, 2188.05, 2883.1000000000004, 1680.72, 6773.97, 1212.6600000000003, 3794.52, 8625.800000000001, 933.6199999999999, 1374.87, 4095.9, 8134.94, 1592.12, 3109.99, 3062.83, 1260.86, 5076.550000000001, 5398.299999999999, 14034.990000000002, 2483.04, 1651.03, 3645.4300000000003, 6923.13, 3858.38, 1790.42, 4730.8099999999995, 1382.02, 1054.67, 7239.92, 2300.56, 2238.09, 1304.76, 7194.3, 6697.66, 1515.8999999999999, 789.79, 2799.25, 5580.599999999999, 2246.8100000000004, 1695.6599999999999, 10629.720000000001, 2279.9, 1545.6200000000001, 1721.7799999999997, 1222.7099999999998, 1201.4899999999998, 914.69, 1692.98, 6509.1, 1604.75, 3349.5699999999997, 1106.53, 3170.9799999999996, 16594.35, 1869.82, 10196.570000000002, 825.4200000000001, 2812.34, 7123.620000000001, 2095.53, 853.7199999999999, 1519.0800000000002, 471.51, 809.7, 1281.56, 887.11, 3754.27, 3102.4300000000003, 981.65, 1510.06, 2575.38, 1068.8200000000002, 7247.610000000001, 2847.6, 1295.3899999999999, 4604.219999999999, 2736.38, 3049.88, 1920.59, 4345.5, 1286.2700000000002, 2085.08, 2154.9700000000003, 1852.0, 1931.25, 4481.35, 5464.119999999999, 1625.0500000000002, 1614.3099999999997, 3989.5699999999997, 781.78, 1842.56, 8694.26, 1272.6100000000001, 1044.38, 1735.18, 5659.98, 3228.8399999999997, 3095.04, 4552.139999999999, 2709.7, 2429.03, 1446.0900000000001, 834.1199999999999, 2003.85, 2949.75, 2050.08, 1991.0100000000002, 2043.9500000000003, 3827.7600000000007, 1777.7800000000002, 1022.1299999999999, 1621.73, 10815.43, 885.0400000000001, 808.62, 2463.17, 4892.240000000001, 1139.73, 10668.470000000001, 984.5699999999999, 1714.59, 1538.88, 3518.0299999999997, 1715.46, 2467.35, 3766.5999999999995, 3347.31, 2474.23, 2095.13, 3563.8499999999995, 2317.2200000000003, 2781.2300000000005, 1960.7199999999998, 3198.25, 1906.09, 3174.32, 916.1300000000001, 3744.65, 8676.849999999999, 2148.6300000000006, 1652.58, 1064.1100000000001, 1419.73, 944.4100000000001, 525.24, 1875.1100000000001, 669.1099999999999, 1135.63, 8631.310000000001, 2527.92, 6292.26, 700.8599999999999, 921.0699999999999, 990.2299999999999, 6643.93, 12353.29, 2676.56, 1159.5199999999998, 1286.0700000000002, 585.7900000000001, 4481.18, 4801.5599999999995, 1912.6700000000003, 1342.68, 4100.92, 20275.61, 2686.4200000000005, 31833.68, 2129.96, 2633.8499999999995, 1031.41, 1214.72, 1258.0600000000002, 6893.42, 4226.57, 1979.3700000000001, 5037.26, 17256.85, 2373.8199999999997, 2248.56, 2520.86, 1721.4, 657.3, 757.4599999999999, 1896.41, 1870.9700000000003, 1255.59, 2092.32, 3558.8700000000003, 6115.139999999999, 2924.99, 768.08, 1844.02, 1070.71, 3628.5, 2385.0, 1952.4499999999998, 1122.3799999999999, 901.2099999999999, 4331.48, 1498.51, 3622.68, 11045.039999999999, 2404.17, 1479.22, 2225.9700000000003, 3927.3400000000006, 2827.9300000000003, 5102.97, 1112.2199999999998, 3984.22, 2048.45, 4559.150000000001, 971.5800000000002, 843.48, 2047.0, 1814.12, 2361.9700000000003, 2895.64, 3945.0, 4867.72, 2638.9400000000005, 2999.46, 1802.9100000000003, 2055.51, 3406.72, 1572.7100000000003, 3178.17, 1629.12, 20374.28, 1387.68, 16363.23, 2474.3299999999995, 3191.53, 5739.460000000001, 4757.95, 2285.7100000000005, 2534.64, 1824.37, 1823.52, 10504.49, 5655.99, 5396.04, 2424.04, 3439.08, 1060.25, 2876.01, 5298.48, 13110.02, 1879.05, 2791.3500000000004, 2322.4, 1797.5700000000002, 1772.2599999999998, 5605.290000000001, 3456.7, 834.99, 2273.18, 3997.9800000000005, 665.8600000000001, 1965.5500000000002, 780.4300000000002, 3055.9300000000003, 1199.01, 5411.91, 7837.7300000000005, 732.1599999999999, 1770.8799999999999, 1995.46, 1593.38, 2779.3, 26879.04, 5155.66, 2100.8, 3160.0, 597.5, 10526.32, 1894.3500000000001, 671.77, 717.45, 899.6099999999999, 4204.1, 2962.500000000001, 4301.22, 2332.7200000000003, 1296.44, 2622.57, 740.79, 4488.81, 757.7099999999998, 1970.67, 1483.56, 668.1099999999999, 4183.39, 2088.6, 6784.1900000000005, 2119.41, 2392.83, 2036.67, 2611.75, 2633.01, 3651.9699999999993, 9068.26, 911.1500000000001, 2697.8, 8052.97, 5653.82, 1826.21, 1142.99, 1059.3899999999999, 8438.34, 2888.7500000000005, 2861.55, 734.94, 1618.69, 7561.68, 1793.1700000000003, 1843.7500000000005, 2001.0399999999997, 5425.560000000001, 1993.7000000000003, 2621.38, 2069.77, 6484.54, 5509.120000000001, 5228.050000000001, 7276.9, 2810.1999999999994, 1796.4800000000002, 987.1000000000001, 2073.09, 2567.0600000000004, 2337.6300000000006, 2338.6000000000004, 3078.58, 2094.88, 1837.2800000000002]}],\n",
              "                        {\"template\": {\"data\": {\"bar\": [{\"error_x\": {\"color\": \"#2a3f5f\"}, \"error_y\": {\"color\": \"#2a3f5f\"}, \"marker\": {\"line\": {\"color\": \"#E5ECF6\", \"width\": 0.5}}, \"type\": \"bar\"}], \"barpolar\": [{\"marker\": {\"line\": {\"color\": \"#E5ECF6\", \"width\": 0.5}}, \"type\": \"barpolar\"}], \"carpet\": [{\"aaxis\": {\"endlinecolor\": \"#2a3f5f\", \"gridcolor\": \"white\", \"linecolor\": \"white\", \"minorgridcolor\": \"white\", \"startlinecolor\": \"#2a3f5f\"}, \"baxis\": {\"endlinecolor\": \"#2a3f5f\", \"gridcolor\": \"white\", \"linecolor\": \"white\", \"minorgridcolor\": \"white\", \"startlinecolor\": \"#2a3f5f\"}, \"type\": \"carpet\"}], \"choropleth\": [{\"colorbar\": {\"outlinewidth\": 0, \"ticks\": \"\"}, \"type\": \"choropleth\"}], \"contour\": [{\"colorbar\": {\"outlinewidth\": 0, \"ticks\": \"\"}, \"colorscale\": [[0.0, \"#0d0887\"], [0.1111111111111111, \"#46039f\"], [0.2222222222222222, \"#7201a8\"], [0.3333333333333333, \"#9c179e\"], [0.4444444444444444, \"#bd3786\"], [0.5555555555555556, \"#d8576b\"], [0.6666666666666666, \"#ed7953\"], [0.7777777777777778, \"#fb9f3a\"], [0.8888888888888888, \"#fdca26\"], [1.0, \"#f0f921\"]], \"type\": \"contour\"}], \"contourcarpet\": [{\"colorbar\": {\"outlinewidth\": 0, \"ticks\": \"\"}, \"type\": \"contourcarpet\"}], \"heatmap\": [{\"colorbar\": {\"outlinewidth\": 0, \"ticks\": \"\"}, \"colorscale\": [[0.0, \"#0d0887\"], [0.1111111111111111, \"#46039f\"], [0.2222222222222222, \"#7201a8\"], [0.3333333333333333, \"#9c179e\"], [0.4444444444444444, \"#bd3786\"], [0.5555555555555556, \"#d8576b\"], [0.6666666666666666, \"#ed7953\"], [0.7777777777777778, \"#fb9f3a\"], [0.8888888888888888, \"#fdca26\"], [1.0, \"#f0f921\"]], \"type\": \"heatmap\"}], \"heatmapgl\": [{\"colorbar\": {\"outlinewidth\": 0, \"ticks\": \"\"}, \"colorscale\": [[0.0, \"#0d0887\"], [0.1111111111111111, \"#46039f\"], [0.2222222222222222, \"#7201a8\"], [0.3333333333333333, \"#9c179e\"], [0.4444444444444444, \"#bd3786\"], [0.5555555555555556, \"#d8576b\"], [0.6666666666666666, \"#ed7953\"], [0.7777777777777778, \"#fb9f3a\"], [0.8888888888888888, \"#fdca26\"], [1.0, \"#f0f921\"]], \"type\": \"heatmapgl\"}], \"histogram\": [{\"marker\": {\"colorbar\": {\"outlinewidth\": 0, \"ticks\": \"\"}}, \"type\": \"histogram\"}], \"histogram2d\": [{\"colorbar\": {\"outlinewidth\": 0, \"ticks\": \"\"}, \"colorscale\": [[0.0, \"#0d0887\"], [0.1111111111111111, \"#46039f\"], [0.2222222222222222, \"#7201a8\"], [0.3333333333333333, \"#9c179e\"], [0.4444444444444444, \"#bd3786\"], [0.5555555555555556, \"#d8576b\"], [0.6666666666666666, \"#ed7953\"], [0.7777777777777778, \"#fb9f3a\"], [0.8888888888888888, \"#fdca26\"], [1.0, \"#f0f921\"]], \"type\": \"histogram2d\"}], \"histogram2dcontour\": [{\"colorbar\": {\"outlinewidth\": 0, \"ticks\": \"\"}, \"colorscale\": [[0.0, \"#0d0887\"], [0.1111111111111111, \"#46039f\"], [0.2222222222222222, \"#7201a8\"], [0.3333333333333333, \"#9c179e\"], [0.4444444444444444, \"#bd3786\"], [0.5555555555555556, \"#d8576b\"], [0.6666666666666666, \"#ed7953\"], [0.7777777777777778, \"#fb9f3a\"], [0.8888888888888888, \"#fdca26\"], [1.0, \"#f0f921\"]], \"type\": \"histogram2dcontour\"}], \"mesh3d\": [{\"colorbar\": {\"outlinewidth\": 0, \"ticks\": \"\"}, \"type\": \"mesh3d\"}], \"parcoords\": [{\"line\": {\"colorbar\": {\"outlinewidth\": 0, \"ticks\": \"\"}}, \"type\": \"parcoords\"}], \"pie\": [{\"automargin\": true, \"type\": \"pie\"}], \"scatter\": [{\"marker\": {\"colorbar\": {\"outlinewidth\": 0, \"ticks\": \"\"}}, \"type\": \"scatter\"}], \"scatter3d\": [{\"line\": {\"colorbar\": {\"outlinewidth\": 0, \"ticks\": \"\"}}, \"marker\": {\"colorbar\": {\"outlinewidth\": 0, \"ticks\": \"\"}}, \"type\": \"scatter3d\"}], \"scattercarpet\": [{\"marker\": {\"colorbar\": {\"outlinewidth\": 0, \"ticks\": \"\"}}, \"type\": \"scattercarpet\"}], \"scattergeo\": [{\"marker\": {\"colorbar\": {\"outlinewidth\": 0, \"ticks\": \"\"}}, \"type\": \"scattergeo\"}], \"scattergl\": [{\"marker\": {\"colorbar\": {\"outlinewidth\": 0, \"ticks\": \"\"}}, \"type\": \"scattergl\"}], \"scattermapbox\": [{\"marker\": {\"colorbar\": {\"outlinewidth\": 0, \"ticks\": \"\"}}, \"type\": \"scattermapbox\"}], \"scatterpolar\": [{\"marker\": {\"colorbar\": {\"outlinewidth\": 0, \"ticks\": \"\"}}, \"type\": \"scatterpolar\"}], \"scatterpolargl\": [{\"marker\": {\"colorbar\": {\"outlinewidth\": 0, \"ticks\": \"\"}}, \"type\": \"scatterpolargl\"}], \"scatterternary\": [{\"marker\": {\"colorbar\": {\"outlinewidth\": 0, \"ticks\": \"\"}}, \"type\": \"scatterternary\"}], \"surface\": [{\"colorbar\": {\"outlinewidth\": 0, \"ticks\": \"\"}, \"colorscale\": [[0.0, \"#0d0887\"], [0.1111111111111111, \"#46039f\"], [0.2222222222222222, \"#7201a8\"], [0.3333333333333333, \"#9c179e\"], [0.4444444444444444, \"#bd3786\"], [0.5555555555555556, \"#d8576b\"], [0.6666666666666666, \"#ed7953\"], [0.7777777777777778, \"#fb9f3a\"], [0.8888888888888888, \"#fdca26\"], [1.0, \"#f0f921\"]], \"type\": \"surface\"}], \"table\": [{\"cells\": {\"fill\": {\"color\": \"#EBF0F8\"}, \"line\": {\"color\": \"white\"}}, \"header\": {\"fill\": {\"color\": \"#C8D4E3\"}, \"line\": {\"color\": \"white\"}}, \"type\": \"table\"}]}, \"layout\": {\"annotationdefaults\": {\"arrowcolor\": \"#2a3f5f\", \"arrowhead\": 0, \"arrowwidth\": 1}, \"coloraxis\": {\"colorbar\": {\"outlinewidth\": 0, \"ticks\": \"\"}}, \"colorscale\": {\"diverging\": [[0, \"#8e0152\"], [0.1, \"#c51b7d\"], [0.2, \"#de77ae\"], [0.3, \"#f1b6da\"], [0.4, \"#fde0ef\"], [0.5, \"#f7f7f7\"], [0.6, \"#e6f5d0\"], [0.7, \"#b8e186\"], [0.8, \"#7fbc41\"], [0.9, \"#4d9221\"], [1, \"#276419\"]], \"sequential\": [[0.0, \"#0d0887\"], [0.1111111111111111, \"#46039f\"], [0.2222222222222222, \"#7201a8\"], [0.3333333333333333, \"#9c179e\"], [0.4444444444444444, \"#bd3786\"], [0.5555555555555556, \"#d8576b\"], [0.6666666666666666, \"#ed7953\"], [0.7777777777777778, \"#fb9f3a\"], [0.8888888888888888, \"#fdca26\"], [1.0, \"#f0f921\"]], \"sequentialminus\": [[0.0, \"#0d0887\"], [0.1111111111111111, \"#46039f\"], [0.2222222222222222, \"#7201a8\"], [0.3333333333333333, \"#9c179e\"], [0.4444444444444444, \"#bd3786\"], [0.5555555555555556, \"#d8576b\"], [0.6666666666666666, \"#ed7953\"], [0.7777777777777778, \"#fb9f3a\"], [0.8888888888888888, \"#fdca26\"], [1.0, \"#f0f921\"]]}, \"colorway\": [\"#636efa\", \"#EF553B\", \"#00cc96\", \"#ab63fa\", \"#FFA15A\", \"#19d3f3\", \"#FF6692\", \"#B6E880\", \"#FF97FF\", \"#FECB52\"], \"font\": {\"color\": \"#2a3f5f\"}, \"geo\": {\"bgcolor\": \"white\", \"lakecolor\": \"white\", \"landcolor\": \"#E5ECF6\", \"showlakes\": true, \"showland\": true, \"subunitcolor\": \"white\"}, \"hoverlabel\": {\"align\": \"left\"}, \"hovermode\": \"closest\", \"mapbox\": {\"style\": \"light\"}, \"paper_bgcolor\": \"white\", \"plot_bgcolor\": \"#E5ECF6\", \"polar\": {\"angularaxis\": {\"gridcolor\": \"white\", \"linecolor\": \"white\", \"ticks\": \"\"}, \"bgcolor\": \"#E5ECF6\", \"radialaxis\": {\"gridcolor\": \"white\", \"linecolor\": \"white\", \"ticks\": \"\"}}, \"scene\": {\"xaxis\": {\"backgroundcolor\": \"#E5ECF6\", \"gridcolor\": \"white\", \"gridwidth\": 2, \"linecolor\": \"white\", \"showbackground\": true, \"ticks\": \"\", \"zerolinecolor\": \"white\"}, \"yaxis\": {\"backgroundcolor\": \"#E5ECF6\", \"gridcolor\": \"white\", \"gridwidth\": 2, \"linecolor\": \"white\", \"showbackground\": true, \"ticks\": \"\", \"zerolinecolor\": \"white\"}, \"zaxis\": {\"backgroundcolor\": \"#E5ECF6\", \"gridcolor\": \"white\", \"gridwidth\": 2, \"linecolor\": \"white\", \"showbackground\": true, \"ticks\": \"\", \"zerolinecolor\": \"white\"}}, \"shapedefaults\": {\"line\": {\"color\": \"#2a3f5f\"}}, \"ternary\": {\"aaxis\": {\"gridcolor\": \"white\", \"linecolor\": \"white\", \"ticks\": \"\"}, \"baxis\": {\"gridcolor\": \"white\", \"linecolor\": \"white\", \"ticks\": \"\"}, \"bgcolor\": \"#E5ECF6\", \"caxis\": {\"gridcolor\": \"white\", \"linecolor\": \"white\", \"ticks\": \"\"}}, \"title\": {\"x\": 0.05}, \"xaxis\": {\"automargin\": true, \"gridcolor\": \"white\", \"linecolor\": \"white\", \"ticks\": \"\", \"title\": {\"standoff\": 15}, \"zerolinecolor\": \"white\", \"zerolinewidth\": 2}, \"yaxis\": {\"automargin\": true, \"gridcolor\": \"white\", \"linecolor\": \"white\", \"ticks\": \"\", \"title\": {\"standoff\": 15}, \"zerolinecolor\": \"white\", \"zerolinewidth\": 2}}}, \"title\": {\"text\": \"Segments\"}, \"xaxis\": {\"title\": {\"text\": \"Recency\"}}, \"yaxis\": {\"title\": {\"text\": \"Monetary\"}}},\n",
              "                        {\"responsive\": true}\n",
              "                    ).then(function(){\n",
              "                            \n",
              "var gd = document.getElementById('8d5b611e-a5da-4c02-949c-5148c0f0250d');\n",
              "var x = new MutationObserver(function (mutations, observer) {{\n",
              "        var display = window.getComputedStyle(gd).display;\n",
              "        if (!display || display === 'none') {{\n",
              "            console.log([gd, 'removed!']);\n",
              "            Plotly.purge(gd);\n",
              "            observer.disconnect();\n",
              "        }}\n",
              "}});\n",
              "\n",
              "// Listen for the removal of the full notebook cells\n",
              "var notebookContainer = gd.closest('#notebook-container');\n",
              "if (notebookContainer) {{\n",
              "    x.observe(notebookContainer, {childList: true});\n",
              "}}\n",
              "\n",
              "// Listen for the clearing of the current output cell\n",
              "var outputEl = gd.closest('.output');\n",
              "if (outputEl) {{\n",
              "    x.observe(outputEl, {childList: true});\n",
              "}}\n",
              "\n",
              "                        })\n",
              "                };\n",
              "                \n",
              "            </script>\n",
              "        </div>\n",
              "</body>\n",
              "</html>"
            ]
          },
          "metadata": {
            "tags": []
          }
        }
      ]
    },
    {
      "cell_type": "code",
      "metadata": {
        "id": "ZXj3XJiRnuPw",
        "colab_type": "code",
        "colab": {}
      },
      "source": [
        ""
      ],
      "execution_count": null,
      "outputs": []
    },
    {
      "cell_type": "code",
      "metadata": {
        "id": "GUzwDEhBE-sl",
        "colab_type": "code",
        "colab": {}
      },
      "source": [
        "#Handle negative and zero values so as to handle infinite numbers during log transformation\n",
        "def handle_neg_n_zero(num):\n",
        "    if num <= 0:\n",
        "        return 1\n",
        "    else:\n",
        "        return num\n",
        "#Apply handle_neg_n_zero function to Recency and Monetary columns \n",
        "RFMscores['Recency'] = [handle_neg_n_zero(x) for x in RFMscores.Recency]\n",
        "RFMscores['Monetary'] = [handle_neg_n_zero(x) for x in RFMscores.Monetary]\n",
        "\n",
        "#Perform Log transformation to bring data into normal or near normal distribution\n",
        "Log_Tfd_Data = RFMscores[['Recency', 'Frequency', 'Monetary']].apply(np.log, axis = 1).round(3)"
      ],
      "execution_count": 34,
      "outputs": []
    },
    {
      "cell_type": "code",
      "metadata": {
        "id": "Ze_SxnLRE-iH",
        "colab_type": "code",
        "colab": {
          "base_uri": "https://localhost:8080/",
          "height": 279
        },
        "outputId": "05576c14-eb46-4aeb-bf35-580e7dbca63d"
      },
      "source": [
        "#Data distribution after data normalization for Recency\n",
        "Recency_Plot = Log_Tfd_Data['Recency']\n",
        "ax = sns.distplot(Recency_Plot)"
      ],
      "execution_count": 35,
      "outputs": [
        {
          "output_type": "display_data",
          "data": {
            "image/png": "[encoded data removed]",
            "text/plain": [
              "<Figure size 432x288 with 1 Axes>"
            ]
          },
          "metadata": {
            "tags": [],
            "needs_background": "light"
          }
        }
      ]
    },
    {
      "cell_type": "code",
      "metadata": {
        "id": "WSwsdFiOJbrg",
        "colab_type": "code",
        "colab": {
          "base_uri": "https://localhost:8080/",
          "height": 279
        },
        "outputId": "aa3ea8ca-6ef1-436d-cda5-789348efc418"
      },
      "source": [
        "#Data distribution after data normalization for Frequency\n",
        "Frequency_Plot = Log_Tfd_Data.query('Frequency < 1000')['Frequency']\n",
        "ax = sns.distplot(Frequency_Plot)"
      ],
      "execution_count": 36,
      "outputs": [
        {
          "output_type": "display_data",
          "data": {
            "image/png": "[encoded data removed]",
            "text/plain": [
              "<Figure size 432x288 with 1 Axes>"
            ]
          },
          "metadata": {
            "tags": [],
            "needs_background": "light"
          }
        }
      ]
    },
    {
      "cell_type": "code",
      "metadata": {
        "id": "h-eTQlu3Jb88",
        "colab_type": "code",
        "colab": {
          "base_uri": "https://localhost:8080/",
          "height": 279
        },
        "outputId": "7f8a10a9-89ae-463e-95fb-67270443c266"
      },
      "source": [
        "#Data distribution after data normalization for Monetary\n",
        "Monetary_Plot = Log_Tfd_Data.query('Monetary < 10000')['Monetary']\n",
        "ax = sns.distplot(Monetary_Plot)\n"
      ],
      "execution_count": 37,
      "outputs": [
        {
          "output_type": "display_data",
          "data": {
            "image/png": "[encoded data removed]",
            "text/plain": [
              "<Figure size 432x288 with 1 Axes>"
            ]
          },
          "metadata": {
            "tags": [],
            "needs_background": "light"
          }
        }
      ]
    },
    {
      "cell_type": "code",
      "metadata": {
        "id": "lHrAUsBfJcM_",
        "colab_type": "code",
        "colab": {}
      },
      "source": [
        "from sklearn.preprocessing import StandardScaler\n",
        "\n",
        "#Bring the data on same scale\n",
        "scaleobj = StandardScaler()\n",
        "Scaled_Data = scaleobj.fit_transform(Log_Tfd_Data)\n",
        "\n",
        "#Transform it back to dataframe\n",
        "Scaled_Data = pd.DataFrame(Scaled_Data, index = RFMscores.index, columns = Log_Tfd_Data.columns)"
      ],
      "execution_count": 39,
      "outputs": []
    },
    {
      "cell_type": "code",
      "metadata": {
        "id": "XDn6gqw3Jbv0",
        "colab_type": "code",
        "colab": {
          "base_uri": "https://localhost:8080/",
          "height": 295
        },
        "outputId": "56ec1776-6eee-4f8c-adff-fbba669ef216"
      },
      "source": [
        "from sklearn.cluster import KMeans\n",
        "\n",
        "sum_of_sq_dist = {}\n",
        "for k in range(1,15):\n",
        "    km = KMeans(n_clusters= k, init= 'k-means++', max_iter= 1000)\n",
        "    km = km.fit(Scaled_Data)\n",
        "    sum_of_sq_dist[k] = km.inertia_\n",
        "    \n",
        "#Plot the graph for the sum of square distance values and Number of Clusters\n",
        "sns.pointplot(x = list(sum_of_sq_dist.keys()), y = list(sum_of_sq_dist.values()))\n",
        "plt.xlabel('Number of Clusters(k)')\n",
        "plt.ylabel('Sum of Square Distances')\n",
        "plt.title('Elbow Method For Optimal k')\n",
        "plt.show()"
      ],
      "execution_count": 40,
      "outputs": [
        {
          "output_type": "display_data",
          "data": {
            "image/png": "[encoded data removed]",
            "text/plain": [
              "<Figure size 432x288 with 1 Axes>"
            ]
          },
          "metadata": {
            "tags": [],
            "needs_background": "light"
          }
        }
      ]
    },
    {
      "cell_type": "code",
      "metadata": {
        "id": "3O_4tp5SJbmz",
        "colab_type": "code",
        "colab": {
          "base_uri": "https://localhost:8080/",
          "height": 195
        },
        "outputId": "e3acc744-8f11-4784-b16e-2a6b3f8316f3"
      },
      "source": [
        "KMean_clust = KMeans(n_clusters= 3, init= 'k-means++', max_iter= 1000)\n",
        "KMean_clust.fit(Scaled_Data)\n",
        "\n",
        "#Find the clusters for the observation given in the dataset\n",
        "RFMscores['Cluster'] = KMean_clust.labels_\n",
        "RFMscores.head()"
      ],
      "execution_count": 41,
      "outputs": [
        {
          "output_type": "execute_result",
          "data": {
            "text/html": [
              "<div>\n",
              "<style scoped>\n",
              "    .dataframe tbody tr th:only-of-type {\n",
              "        vertical-align: middle;\n",
              "    }\n",
              "\n",
              "    .dataframe tbody tr th {\n",
              "        vertical-align: top;\n",
              "    }\n",
              "\n",
              "    .dataframe thead th {\n",
              "        text-align: right;\n",
              "    }\n",
              "</style>\n",
              "<table border=\"1\" class=\"dataframe\">\n",
              "  <thead>\n",
              "    <tr style=\"text-align: right;\">\n",
              "      <th></th>\n",
              "      <th>CustomerID</th>\n",
              "      <th>Recency</th>\n",
              "      <th>Frequency</th>\n",
              "      <th>Monetary</th>\n",
              "      <th>R</th>\n",
              "      <th>F</th>\n",
              "      <th>M</th>\n",
              "      <th>RFMgroup</th>\n",
              "      <th>RFMscore</th>\n",
              "      <th>loyalty_level</th>\n",
              "      <th>Cluster</th>\n",
              "    </tr>\n",
              "  </thead>\n",
              "  <tbody>\n",
              "    <tr>\n",
              "      <th>0</th>\n",
              "      <td>12346.0</td>\n",
              "      <td>325</td>\n",
              "      <td>1</td>\n",
              "      <td>77183.60</td>\n",
              "      <td>4</td>\n",
              "      <td>4</td>\n",
              "      <td>1</td>\n",
              "      <td>441</td>\n",
              "      <td>9</td>\n",
              "      <td>Silver</td>\n",
              "      <td>2</td>\n",
              "    </tr>\n",
              "    <tr>\n",
              "      <th>1</th>\n",
              "      <td>12747.0</td>\n",
              "      <td>2</td>\n",
              "      <td>103</td>\n",
              "      <td>4196.01</td>\n",
              "      <td>1</td>\n",
              "      <td>1</td>\n",
              "      <td>1</td>\n",
              "      <td>111</td>\n",
              "      <td>3</td>\n",
              "      <td>Platinum</td>\n",
              "      <td>0</td>\n",
              "    </tr>\n",
              "    <tr>\n",
              "      <th>2</th>\n",
              "      <td>12748.0</td>\n",
              "      <td>1</td>\n",
              "      <td>4596</td>\n",
              "      <td>33719.73</td>\n",
              "      <td>1</td>\n",
              "      <td>1</td>\n",
              "      <td>1</td>\n",
              "      <td>111</td>\n",
              "      <td>3</td>\n",
              "      <td>Platinum</td>\n",
              "      <td>0</td>\n",
              "    </tr>\n",
              "    <tr>\n",
              "      <th>3</th>\n",
              "      <td>12749.0</td>\n",
              "      <td>3</td>\n",
              "      <td>199</td>\n",
              "      <td>4090.88</td>\n",
              "      <td>1</td>\n",
              "      <td>1</td>\n",
              "      <td>1</td>\n",
              "      <td>111</td>\n",
              "      <td>3</td>\n",
              "      <td>Platinum</td>\n",
              "      <td>0</td>\n",
              "    </tr>\n",
              "    <tr>\n",
              "      <th>4</th>\n",
              "      <td>12820.0</td>\n",
              "      <td>3</td>\n",
              "      <td>59</td>\n",
              "      <td>942.34</td>\n",
              "      <td>1</td>\n",
              "      <td>2</td>\n",
              "      <td>2</td>\n",
              "      <td>122</td>\n",
              "      <td>5</td>\n",
              "      <td>Platinum</td>\n",
              "      <td>0</td>\n",
              "    </tr>\n",
              "  </tbody>\n",
              "</table>\n",
              "</div>"
            ],
            "text/plain": [
              "   CustomerID  Recency  Frequency  ...  RFMscore  loyalty_level  Cluster\n",
              "0     12346.0      325          1  ...         9         Silver        2\n",
              "1     12747.0        2        103  ...         3       Platinum        0\n",
              "2     12748.0        1       4596  ...         3       Platinum        0\n",
              "3     12749.0        3        199  ...         3       Platinum        0\n",
              "4     12820.0        3         59  ...         5       Platinum        0\n",
              "\n",
              "[5 rows x 11 columns]"
            ]
          },
          "metadata": {
            "tags": []
          },
          "execution_count": 41
        }
      ]
    },
    {
      "cell_type": "code",
      "metadata": {
        "id": "qlAwdR6pJu93",
        "colab_type": "code",
        "colab": {
          "base_uri": "https://localhost:8080/",
          "height": 514
        },
        "outputId": "bfe40fa3-2e89-464b-cec7-88fc92120963"
      },
      "source": [
        "from matplotlib import pyplot as plt\n",
        "plt.figure(figsize=(7,7))\n",
        "\n",
        "##Scatter Plot Frequency Vs Recency\n",
        "Colors = [\"red\", \"green\", \"blue\"]\n",
        "RFMscores['Color'] = RFMscores['Cluster'].map(lambda p: Colors[p])\n",
        "ax = RFMscores.plot(    \n",
        "    kind=\"scatter\", \n",
        "    x=\"Recency\", y=\"Frequency\",\n",
        "    figsize=(10,8),\n",
        "    c = RFMscores['Color']\n",
        ")"
      ],
      "execution_count": 44,
      "outputs": [
        {
          "output_type": "display_data",
          "data": {
            "text/plain": [
              "<Figure size 504x504 with 0 Axes>"
            ]
          },
          "metadata": {
            "tags": []
          }
        },
        {
          "output_type": "display_data",
          "data": {
            "image/png": "[encoded data removed]",
            "text/plain": [
              "<Figure size 720x576 with 1 Axes>"
            ]
          },
          "metadata": {
            "tags": [],
            "needs_background": "light"
          }
        }
      ]
    },
    {
      "cell_type": "code",
      "metadata": {
        "id": "84_zioBGJvDx",
        "colab_type": "code",
        "colab": {
          "base_uri": "https://localhost:8080/",
          "height": 195
        },
        "outputId": "3e578afc-ee42-47ca-cf72-a72223a800f6"
      },
      "source": [
        "RFMscores.head()"
      ],
      "execution_count": 46,
      "outputs": [
        {
          "output_type": "execute_result",
          "data": {
            "text/html": [
              "<div>\n",
              "<style scoped>\n",
              "    .dataframe tbody tr th:only-of-type {\n",
              "        vertical-align: middle;\n",
              "    }\n",
              "\n",
              "    .dataframe tbody tr th {\n",
              "        vertical-align: top;\n",
              "    }\n",
              "\n",
              "    .dataframe thead th {\n",
              "        text-align: right;\n",
              "    }\n",
              "</style>\n",
              "<table border=\"1\" class=\"dataframe\">\n",
              "  <thead>\n",
              "    <tr style=\"text-align: right;\">\n",
              "      <th></th>\n",
              "      <th>CustomerID</th>\n",
              "      <th>Recency</th>\n",
              "      <th>Frequency</th>\n",
              "      <th>Monetary</th>\n",
              "      <th>R</th>\n",
              "      <th>F</th>\n",
              "      <th>M</th>\n",
              "      <th>RFMgroup</th>\n",
              "      <th>RFMscore</th>\n",
              "      <th>loyalty_level</th>\n",
              "      <th>Cluster</th>\n",
              "      <th>Color</th>\n",
              "    </tr>\n",
              "  </thead>\n",
              "  <tbody>\n",
              "    <tr>\n",
              "      <th>0</th>\n",
              "      <td>12346.0</td>\n",
              "      <td>325</td>\n",
              "      <td>1</td>\n",
              "      <td>77183.60</td>\n",
              "      <td>4</td>\n",
              "      <td>4</td>\n",
              "      <td>1</td>\n",
              "      <td>441</td>\n",
              "      <td>9</td>\n",
              "      <td>Silver</td>\n",
              "      <td>2</td>\n",
              "      <td>blue</td>\n",
              "    </tr>\n",
              "    <tr>\n",
              "      <th>1</th>\n",
              "      <td>12747.0</td>\n",
              "      <td>2</td>\n",
              "      <td>103</td>\n",
              "      <td>4196.01</td>\n",
              "      <td>1</td>\n",
              "      <td>1</td>\n",
              "      <td>1</td>\n",
              "      <td>111</td>\n",
              "      <td>3</td>\n",
              "      <td>Platinum</td>\n",
              "      <td>0</td>\n",
              "      <td>red</td>\n",
              "    </tr>\n",
              "    <tr>\n",
              "      <th>2</th>\n",
              "      <td>12748.0</td>\n",
              "      <td>1</td>\n",
              "      <td>4596</td>\n",
              "      <td>33719.73</td>\n",
              "      <td>1</td>\n",
              "      <td>1</td>\n",
              "      <td>1</td>\n",
              "      <td>111</td>\n",
              "      <td>3</td>\n",
              "      <td>Platinum</td>\n",
              "      <td>0</td>\n",
              "      <td>red</td>\n",
              "    </tr>\n",
              "    <tr>\n",
              "      <th>3</th>\n",
              "      <td>12749.0</td>\n",
              "      <td>3</td>\n",
              "      <td>199</td>\n",
              "      <td>4090.88</td>\n",
              "      <td>1</td>\n",
              "      <td>1</td>\n",
              "      <td>1</td>\n",
              "      <td>111</td>\n",
              "      <td>3</td>\n",
              "      <td>Platinum</td>\n",
              "      <td>0</td>\n",
              "      <td>red</td>\n",
              "    </tr>\n",
              "    <tr>\n",
              "      <th>4</th>\n",
              "      <td>12820.0</td>\n",
              "      <td>3</td>\n",
              "      <td>59</td>\n",
              "      <td>942.34</td>\n",
              "      <td>1</td>\n",
              "      <td>2</td>\n",
              "      <td>2</td>\n",
              "      <td>122</td>\n",
              "      <td>5</td>\n",
              "      <td>Platinum</td>\n",
              "      <td>0</td>\n",
              "      <td>red</td>\n",
              "    </tr>\n",
              "  </tbody>\n",
              "</table>\n",
              "</div>"
            ],
            "text/plain": [
              "   CustomerID  Recency  Frequency  ...  loyalty_level  Cluster  Color\n",
              "0     12346.0      325          1  ...         Silver        2   blue\n",
              "1     12747.0        2        103  ...       Platinum        0    red\n",
              "2     12748.0        1       4596  ...       Platinum        0    red\n",
              "3     12749.0        3        199  ...       Platinum        0    red\n",
              "4     12820.0        3         59  ...       Platinum        0    red\n",
              "\n",
              "[5 rows x 12 columns]"
            ]
          },
          "metadata": {
            "tags": []
          },
          "execution_count": 46
        }
      ]
    },
    {
      "cell_type": "code",
      "metadata": {
        "id": "dhH-lLtGJu42",
        "colab_type": "code",
        "colab": {}
      },
      "source": [
        ""
      ],
      "execution_count": null,
      "outputs": []
    }
  ]
}